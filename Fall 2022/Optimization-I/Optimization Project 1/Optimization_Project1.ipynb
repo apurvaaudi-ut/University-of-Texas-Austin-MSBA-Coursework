{
  "nbformat": 4,
  "nbformat_minor": 0,
  "metadata": {
    "colab": {
      "provenance": []
    },
    "kernelspec": {
      "name": "python3",
      "display_name": "Python 3"
    },
    "language_info": {
      "name": "python"
    }
  },
  "cells": [
    {
      "cell_type": "code",
      "execution_count": null,
      "metadata": {
        "colab": {
          "base_uri": "https://localhost:8080/"
        },
        "id": "q-tNkSA7wFCx",
        "outputId": "a36d1c10-07f6-4278-8e6f-1fbfe815833a"
      },
      "outputs": [
        {
          "output_type": "stream",
          "name": "stdout",
          "text": [
            "Looking in indexes: https://pypi.org/simple, https://us-python.pkg.dev/colab-wheels/public/simple/\n",
            "Collecting gurobipy\n",
            "  Downloading gurobipy-9.5.2-cp37-cp37m-manylinux2014_x86_64.whl (11.5 MB)\n",
            "\u001b[K     |████████████████████████████████| 11.5 MB 16.7 MB/s \n",
            "\u001b[?25hInstalling collected packages: gurobipy\n",
            "Successfully installed gurobipy-9.5.2\n"
          ]
        }
      ],
      "source": [
        "!pip install gurobipy"
      ]
    },
    {
      "cell_type": "code",
      "source": [
        "import numpy as np\n",
        "import gurobipy as gp\n",
        "import pandas as pd\n",
        "from google.colab import files\n",
        "uploaded = files.upload() #Please upload ROI_data.csv and roi_mat.csv\n",
        "%matplotlib inline"
      ],
      "metadata": {
        "id": "0i-AOgbowRTI",
        "colab": {
          "base_uri": "https://localhost:8080/",
          "height": 108
        },
        "outputId": "c270a66d-5e8d-46e1-fa6f-c25fc3b70f3b"
      },
      "execution_count": null,
      "outputs": [
        {
          "output_type": "display_data",
          "data": {
            "text/plain": [
              "<IPython.core.display.HTML object>"
            ],
            "text/html": [
              "\n",
              "     <input type=\"file\" id=\"files-45cd11c7-018d-443a-9289-ef3d5d4858ff\" name=\"files[]\" multiple disabled\n",
              "        style=\"border:none\" />\n",
              "     <output id=\"result-45cd11c7-018d-443a-9289-ef3d5d4858ff\">\n",
              "      Upload widget is only available when the cell has been executed in the\n",
              "      current browser session. Please rerun this cell to enable.\n",
              "      </output>\n",
              "      <script>// Copyright 2017 Google LLC\n",
              "//\n",
              "// Licensed under the Apache License, Version 2.0 (the \"License\");\n",
              "// you may not use this file except in compliance with the License.\n",
              "// You may obtain a copy of the License at\n",
              "//\n",
              "//      http://www.apache.org/licenses/LICENSE-2.0\n",
              "//\n",
              "// Unless required by applicable law or agreed to in writing, software\n",
              "// distributed under the License is distributed on an \"AS IS\" BASIS,\n",
              "// WITHOUT WARRANTIES OR CONDITIONS OF ANY KIND, either express or implied.\n",
              "// See the License for the specific language governing permissions and\n",
              "// limitations under the License.\n",
              "\n",
              "/**\n",
              " * @fileoverview Helpers for google.colab Python module.\n",
              " */\n",
              "(function(scope) {\n",
              "function span(text, styleAttributes = {}) {\n",
              "  const element = document.createElement('span');\n",
              "  element.textContent = text;\n",
              "  for (const key of Object.keys(styleAttributes)) {\n",
              "    element.style[key] = styleAttributes[key];\n",
              "  }\n",
              "  return element;\n",
              "}\n",
              "\n",
              "// Max number of bytes which will be uploaded at a time.\n",
              "const MAX_PAYLOAD_SIZE = 100 * 1024;\n",
              "\n",
              "function _uploadFiles(inputId, outputId) {\n",
              "  const steps = uploadFilesStep(inputId, outputId);\n",
              "  const outputElement = document.getElementById(outputId);\n",
              "  // Cache steps on the outputElement to make it available for the next call\n",
              "  // to uploadFilesContinue from Python.\n",
              "  outputElement.steps = steps;\n",
              "\n",
              "  return _uploadFilesContinue(outputId);\n",
              "}\n",
              "\n",
              "// This is roughly an async generator (not supported in the browser yet),\n",
              "// where there are multiple asynchronous steps and the Python side is going\n",
              "// to poll for completion of each step.\n",
              "// This uses a Promise to block the python side on completion of each step,\n",
              "// then passes the result of the previous step as the input to the next step.\n",
              "function _uploadFilesContinue(outputId) {\n",
              "  const outputElement = document.getElementById(outputId);\n",
              "  const steps = outputElement.steps;\n",
              "\n",
              "  const next = steps.next(outputElement.lastPromiseValue);\n",
              "  return Promise.resolve(next.value.promise).then((value) => {\n",
              "    // Cache the last promise value to make it available to the next\n",
              "    // step of the generator.\n",
              "    outputElement.lastPromiseValue = value;\n",
              "    return next.value.response;\n",
              "  });\n",
              "}\n",
              "\n",
              "/**\n",
              " * Generator function which is called between each async step of the upload\n",
              " * process.\n",
              " * @param {string} inputId Element ID of the input file picker element.\n",
              " * @param {string} outputId Element ID of the output display.\n",
              " * @return {!Iterable<!Object>} Iterable of next steps.\n",
              " */\n",
              "function* uploadFilesStep(inputId, outputId) {\n",
              "  const inputElement = document.getElementById(inputId);\n",
              "  inputElement.disabled = false;\n",
              "\n",
              "  const outputElement = document.getElementById(outputId);\n",
              "  outputElement.innerHTML = '';\n",
              "\n",
              "  const pickedPromise = new Promise((resolve) => {\n",
              "    inputElement.addEventListener('change', (e) => {\n",
              "      resolve(e.target.files);\n",
              "    });\n",
              "  });\n",
              "\n",
              "  const cancel = document.createElement('button');\n",
              "  inputElement.parentElement.appendChild(cancel);\n",
              "  cancel.textContent = 'Cancel upload';\n",
              "  const cancelPromise = new Promise((resolve) => {\n",
              "    cancel.onclick = () => {\n",
              "      resolve(null);\n",
              "    };\n",
              "  });\n",
              "\n",
              "  // Wait for the user to pick the files.\n",
              "  const files = yield {\n",
              "    promise: Promise.race([pickedPromise, cancelPromise]),\n",
              "    response: {\n",
              "      action: 'starting',\n",
              "    }\n",
              "  };\n",
              "\n",
              "  cancel.remove();\n",
              "\n",
              "  // Disable the input element since further picks are not allowed.\n",
              "  inputElement.disabled = true;\n",
              "\n",
              "  if (!files) {\n",
              "    return {\n",
              "      response: {\n",
              "        action: 'complete',\n",
              "      }\n",
              "    };\n",
              "  }\n",
              "\n",
              "  for (const file of files) {\n",
              "    const li = document.createElement('li');\n",
              "    li.append(span(file.name, {fontWeight: 'bold'}));\n",
              "    li.append(span(\n",
              "        `(${file.type || 'n/a'}) - ${file.size} bytes, ` +\n",
              "        `last modified: ${\n",
              "            file.lastModifiedDate ? file.lastModifiedDate.toLocaleDateString() :\n",
              "                                    'n/a'} - `));\n",
              "    const percent = span('0% done');\n",
              "    li.appendChild(percent);\n",
              "\n",
              "    outputElement.appendChild(li);\n",
              "\n",
              "    const fileDataPromise = new Promise((resolve) => {\n",
              "      const reader = new FileReader();\n",
              "      reader.onload = (e) => {\n",
              "        resolve(e.target.result);\n",
              "      };\n",
              "      reader.readAsArrayBuffer(file);\n",
              "    });\n",
              "    // Wait for the data to be ready.\n",
              "    let fileData = yield {\n",
              "      promise: fileDataPromise,\n",
              "      response: {\n",
              "        action: 'continue',\n",
              "      }\n",
              "    };\n",
              "\n",
              "    // Use a chunked sending to avoid message size limits. See b/62115660.\n",
              "    let position = 0;\n",
              "    do {\n",
              "      const length = Math.min(fileData.byteLength - position, MAX_PAYLOAD_SIZE);\n",
              "      const chunk = new Uint8Array(fileData, position, length);\n",
              "      position += length;\n",
              "\n",
              "      const base64 = btoa(String.fromCharCode.apply(null, chunk));\n",
              "      yield {\n",
              "        response: {\n",
              "          action: 'append',\n",
              "          file: file.name,\n",
              "          data: base64,\n",
              "        },\n",
              "      };\n",
              "\n",
              "      let percentDone = fileData.byteLength === 0 ?\n",
              "          100 :\n",
              "          Math.round((position / fileData.byteLength) * 100);\n",
              "      percent.textContent = `${percentDone}% done`;\n",
              "\n",
              "    } while (position < fileData.byteLength);\n",
              "  }\n",
              "\n",
              "  // All done.\n",
              "  yield {\n",
              "    response: {\n",
              "      action: 'complete',\n",
              "    }\n",
              "  };\n",
              "}\n",
              "\n",
              "scope.google = scope.google || {};\n",
              "scope.google.colab = scope.google.colab || {};\n",
              "scope.google.colab._files = {\n",
              "  _uploadFiles,\n",
              "  _uploadFilesContinue,\n",
              "};\n",
              "})(self);\n",
              "</script> "
            ]
          },
          "metadata": {}
        },
        {
          "output_type": "stream",
          "name": "stdout",
          "text": [
            "Saving ROI_data.csv to ROI_data.csv\n",
            "Saving roi_mat.csv to roi_mat.csv\n"
          ]
        }
      ]
    },
    {
      "cell_type": "code",
      "source": [
        "# objective arrays defined here\n",
        "df = pd.read_csv(\"ROI_data.csv\",index_col=\"Platform\")\n",
        "obj1 = np.array(df.iloc[0])\n",
        "obj2 = np.array(df.iloc[1])\n",
        "print(obj1)\n",
        "print(obj2)"
      ],
      "metadata": {
        "colab": {
          "base_uri": "https://localhost:8080/"
        },
        "id": "AVZGz74mv0x7",
        "outputId": "28bc8259-971c-49ae-d675-296f623e007b"
      },
      "execution_count": null,
      "outputs": [
        {
          "output_type": "stream",
          "name": "stdout",
          "text": [
            "[0.031 0.049 0.024 0.039 0.016 0.024 0.046 0.026 0.033 0.044]\n",
            "[0.049 0.023 0.024 0.039 0.044 0.046 0.026 0.019 0.037 0.026]\n"
          ]
        }
      ]
    },
    {
      "cell_type": "markdown",
      "source": [
        "### **Task 1 - Task 3**"
      ],
      "metadata": {
        "id": "1i3X55Yv7lSV"
      }
    },
    {
      "cell_type": "markdown",
      "source": [
        "Using the ROI data provided by a consulting firm to optimize the marketing budget allocation\n",
        "\n",
        "![image.png](data:image/png;base64,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)"
      ],
      "metadata": {
        "id": "e82v4KXmfCQg"
      }
    },
    {
      "cell_type": "code",
      "source": [
        "print(obj1)"
      ],
      "metadata": {
        "colab": {
          "base_uri": "https://localhost:8080/"
        },
        "id": "R1lAvLu4zhkJ",
        "outputId": "cc1bf719-7347-4282-d3ce-69c2057bab9a"
      },
      "execution_count": null,
      "outputs": [
        {
          "output_type": "stream",
          "name": "stdout",
          "text": [
            "[0.031 0.049 0.024 0.039 0.016 0.024 0.046 0.026 0.033 0.044]\n"
          ]
        }
      ]
    },
    {
      "cell_type": "markdown",
      "source": [
        "#### **Formulating Marketing Budget Allocation Strategy**\n",
        "\n",
        "Assuming that the optimal investment in each marketing channel is as follows:\n",
        "\n",
        "\n",
        "\n",
        "*   **p** : amount in millions invested in Print\n",
        "*   **tv** : amount in millions invested in TV\n",
        "*   **s** : amount in millions invested in SEO\n",
        "*   **a** : amount in millions invested in AdWorks\n",
        "*   **f** : amount in millions invested in Facebook\n",
        "*   **l** : amount in millions invested in LinkedIn\n",
        "*   **i** : amount in millions invested in Instagram\n",
        "*   **s** : amount in millions invested in Snapchat\n",
        "*   **t** : amount in millions invested in Twitter\n",
        "*   **e** : amount in millions invested in Email\n",
        "\n",
        "\n"
      ],
      "metadata": {
        "id": "HeWGMT98wum1"
      }
    },
    {
      "cell_type": "markdown",
      "source": [
        "**Converting the problem into inequalities in linear programming to solve through Gurobi**"
      ],
      "metadata": {
        "id": "ODbTfKDc4vx9"
      }
    },
    {
      "cell_type": "code",
      "source": [
        "# initialize constraint matrix\n",
        "A1 = np.zeros((13,10)) \n",
        "\n",
        "#Constraints\n",
        "A1[0,0:10] = 1                        # total investment constraint\n",
        "A1[1,:] = [1,1,0,0,-1,0,0,0,0,-1]    # constraint in 2.a.\n",
        "A1[2,:] = [0,0,-2,-2,1,1,1,1,1,0]    # constraint in 2.b.\n",
        "A1[3:13,0:10] = np.diag(np.ones(10)) # total investment in each channel constraint\n",
        "\n",
        "# limits on total investment and other constraints for individual investments in each channel\n",
        "b1 = np.zeros((13,1))\n",
        "b1[0]=10\n",
        "b1[3:13]=3 \n",
        "\n",
        "#Inequalities sign for each constraint\n",
        "sense = np.array(['<','<','>','<','<','<','<','<','<','<','<','<','<'])"
      ],
      "metadata": {
        "id": "I-zto3RuwUVQ"
      },
      "execution_count": null,
      "outputs": []
    },
    {
      "cell_type": "markdown",
      "source": [
        "**Finding optimized values for investment in each channel**"
      ],
      "metadata": {
        "id": "j07g2a1X5Adr"
      }
    },
    {
      "cell_type": "code",
      "source": [
        "BudgetModel1 = gp.Model() # initialize an empty model\n",
        "\n",
        "BudgetModX1 = BudgetModel1.addMVar(len(obj1)) # tell the model how many variables there are\n",
        "# must define the variables before adding constraints because variables go into the constraints\n",
        "BudgetModCon1 = BudgetModel1.addMConstrs(A1, BudgetModX1, sense, b1) # add the constraints to the model\n",
        "BudgetModel1.setMObjective(None,obj1,0,sense=gp.GRB.MAXIMIZE) # Ask Gurobi to Maximize the objective \n",
        "\n",
        "BudgetModel1.Params.OutputFlag = 0 \n",
        "BudgetModel1.Params.TimeLimit = 3600"
      ],
      "metadata": {
        "id": "O0E3LFAu3BRN",
        "colab": {
          "base_uri": "https://localhost:8080/"
        },
        "outputId": "06d46447-38b3-462e-f91d-ab13009a5243"
      },
      "execution_count": null,
      "outputs": [
        {
          "output_type": "stream",
          "name": "stdout",
          "text": [
            "Restricted license - for non-production use only - expires 2023-10-25\n"
          ]
        }
      ]
    },
    {
      "cell_type": "code",
      "source": [
        "BudgetModel1.optimize() # solve the LP"
      ],
      "metadata": {
        "id": "qGXEtt4J5pqr"
      },
      "execution_count": null,
      "outputs": []
    },
    {
      "cell_type": "code",
      "source": [
        "BudgetModel1.objVal # optimal ROI level"
      ],
      "metadata": {
        "colab": {
          "base_uri": "https://localhost:8080/"
        },
        "id": "nR0rBNJI5rOr",
        "outputId": "3b526b72-6d4c-4502-b3b0-fb78e178ccd5"
      },
      "execution_count": null,
      "outputs": [
        {
          "output_type": "execute_result",
          "data": {
            "text/plain": [
              "0.45600000000000007"
            ]
          },
          "metadata": {},
          "execution_count": 8
        }
      ]
    },
    {
      "cell_type": "code",
      "source": [
        "BudgetModX1.x"
      ],
      "metadata": {
        "colab": {
          "base_uri": "https://localhost:8080/"
        },
        "id": "LNM_kJgy5vWe",
        "outputId": "ab36ad5d-32a5-49d2-b914-14278f64730c"
      },
      "execution_count": null,
      "outputs": [
        {
          "output_type": "execute_result",
          "data": {
            "text/plain": [
              "array([0., 3., 0., 1., 0., 0., 3., 0., 0., 3.])"
            ]
          },
          "metadata": {},
          "execution_count": 9
        }
      ]
    },
    {
      "cell_type": "code",
      "source": [
        "import matplotlib.pyplot as plt\n",
        "fig = plt.figure()\n",
        "ax = fig.add_axes([0,0,1.5,1])\n",
        "channels = ['Print', 'TV', 'SEO', 'AdWords', 'Facebook', 'LinkedIn',\n",
        "       'Instagram', 'Snapchat', 'Twitter', 'Email']\n",
        "allocations = BudgetModX1.x\n",
        "ax.bar(channels,allocations)\n",
        "plt.show()"
      ],
      "metadata": {
        "colab": {
          "base_uri": "https://localhost:8080/",
          "height": 336
        },
        "id": "ZOAZICCfcvQs",
        "outputId": "dba1868e-540d-4e71-db84-b1ab16f41043"
      },
      "execution_count": null,
      "outputs": [
        {
          "output_type": "display_data",
          "data": {
            "text/plain": [
              "<Figure size 432x288 with 1 Axes>"
            ],
            "image/png": "[encoded data removed]"
          },
          "metadata": {
            "needs_background": "light"
          }
        }
      ]
    },
    {
      "cell_type": "markdown",
      "source": [
        "This shows that an investment of 10 million will give an ROI of 0.456 million (i.e) 4.56% when the investment is in the proportions of 0 (print), 3 million (TV), 0 (Seo), 1 million (AdWorks), 0 (Facebook), 0 (LinkedIn), 3 million (Instagram) , 0 (Snapchat), 0 (Twitter) and 3 million (Email)."
      ],
      "metadata": {
        "id": "HMAEhwBG6Wjy"
      }
    },
    {
      "cell_type": "markdown",
      "source": [
        "### **Task 4**"
      ],
      "metadata": {
        "id": "R6AJGa22deSf"
      }
    },
    {
      "cell_type": "markdown",
      "source": [
        "Using the ROI data from the second consulting firm to optimize the budget allocation\n",
        "![image.png](data:image/png;base64,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)"
      ],
      "metadata": {
        "id": "AovEbOTneZXA"
      }
    },
    {
      "cell_type": "code",
      "source": [
        "print(obj2)"
      ],
      "metadata": {
        "colab": {
          "base_uri": "https://localhost:8080/"
        },
        "id": "IvvVsDIWzmpI",
        "outputId": "e69df8b5-96ba-4fc8-ba81-b668f7eabe8f"
      },
      "execution_count": null,
      "outputs": [
        {
          "output_type": "stream",
          "name": "stdout",
          "text": [
            "[0.049 0.023 0.024 0.039 0.044 0.046 0.026 0.019 0.037 0.026]\n"
          ]
        }
      ]
    },
    {
      "cell_type": "markdown",
      "source": [
        "**Converting the problem into inequalities in linear programming to solve through Gurobi**"
      ],
      "metadata": {
        "id": "m4SMqtbJfLHr"
      }
    },
    {
      "cell_type": "code",
      "source": [
        "# initialize constraint matrix\n",
        "A2 = np.zeros((13,10)) \n",
        "\n",
        "#Constraints\n",
        "A2[0,0:10] = 1                        # total investment constraint\n",
        "A2[1,:] = [1,1,0,0,-1,0,0,0,0,-1]    # constraint in 2.a.\n",
        "A2[2,:] = [0,0,-2,-2,1,1,1,1,1,0]    # constraint in 2.b.\n",
        "A2[3:13,0:10] = np.diag(np.ones(10)) # total investment in each channel constraint\n",
        "\n",
        "# limits on total investment and other constraints for individual investments in each channel\n",
        "b2 = np.zeros((13,1))\n",
        "b2[0]=10\n",
        "b2[3:13]=3 \n",
        "\n",
        "#Inequalities sign for each constraint\n",
        "sense = np.array(['<','<','>','<','<','<','<','<','<','<','<','<','<'])"
      ],
      "metadata": {
        "id": "_BZCtlDadlz6"
      },
      "execution_count": null,
      "outputs": []
    },
    {
      "cell_type": "markdown",
      "source": [
        "**Finding optimized values for investment in each platform**"
      ],
      "metadata": {
        "id": "RZrdAD2TgKFQ"
      }
    },
    {
      "cell_type": "code",
      "source": [
        "BudgetModel2 = gp.Model() # initialize an empty model\n",
        "\n",
        "BudgetModX2 = BudgetModel2.addMVar(len(obj2)) # tell the model how many variables there are\n",
        "# must define the variables before adding constraints because variables go into the constraints\n",
        "BudgetModCon2 = BudgetModel2.addMConstrs(A2, BudgetModX2, sense, b2) # add the constraints to the model\n",
        "BudgetModel2.setMObjective(None,obj2,0,sense=gp.GRB.MAXIMIZE) # Ask Gurobi to Maximize the objective \n",
        "\n",
        "BudgetModel2.Params.OutputFlag = 0 \n",
        "BudgetModel2.Params.TimeLimit = 3600"
      ],
      "metadata": {
        "id": "7qv4sLkagMzl"
      },
      "execution_count": null,
      "outputs": []
    },
    {
      "cell_type": "code",
      "source": [
        "BudgetModel2.optimize() # solve the LP"
      ],
      "metadata": {
        "id": "AlxemC58gXf4"
      },
      "execution_count": null,
      "outputs": []
    },
    {
      "cell_type": "code",
      "source": [
        "BudgetModel2.objVal # optimal ROI level"
      ],
      "metadata": {
        "colab": {
          "base_uri": "https://localhost:8080/"
        },
        "id": "VIhydg0fgasD",
        "outputId": "c06c890f-fb37-4bbd-e1a8-b1b24d281c51"
      },
      "execution_count": null,
      "outputs": [
        {
          "output_type": "execute_result",
          "data": {
            "text/plain": [
              "0.45600000000000007"
            ]
          },
          "metadata": {},
          "execution_count": 15
        }
      ]
    },
    {
      "cell_type": "code",
      "source": [
        "BudgetModX2.x"
      ],
      "metadata": {
        "colab": {
          "base_uri": "https://localhost:8080/"
        },
        "id": "Q-NsQijlgbR0",
        "outputId": "5255fd10-3f7b-4b68-884d-209c19f5b7ad"
      },
      "execution_count": null,
      "outputs": [
        {
          "output_type": "execute_result",
          "data": {
            "text/plain": [
              "array([3., 0., 0., 1., 3., 3., 0., 0., 0., 0.])"
            ]
          },
          "metadata": {},
          "execution_count": 16
        }
      ]
    },
    {
      "cell_type": "code",
      "source": [
        "import matplotlib.pyplot as plt\n",
        "fig = plt.figure()\n",
        "ax = fig.add_axes([0,0,1.5,1])\n",
        "channels_2 = ['Print', 'TV', 'SEO', 'AdWords', 'Facebook', 'LinkedIn',\n",
        "       'Instagram', 'Snapchat', 'Twitter', 'Email']\n",
        "allocations_2 = BudgetModX2.x\n",
        "ax.bar(channels_2,allocations_2)\n",
        "plt.show()"
      ],
      "metadata": {
        "colab": {
          "base_uri": "https://localhost:8080/",
          "height": 336
        },
        "id": "x9CtQdXljT8K",
        "outputId": "03c72c0d-ea34-4af1-dba7-ecefea817da6"
      },
      "execution_count": null,
      "outputs": [
        {
          "output_type": "display_data",
          "data": {
            "text/plain": [
              "<Figure size 432x288 with 1 Axes>"
            ],
            "image/png": "[encoded data removed]"
          },
          "metadata": {
            "needs_background": "light"
          }
        }
      ]
    },
    {
      "cell_type": "markdown",
      "source": [
        "This shows that an investment of 10 million will give an ROI of 0.456 million (i.e) 4.56% when the investment is in the proportions of 3 million (print), 0(TV), 0 (Seo), 1 million (AdWorks), 3 million (Facebook), 3 million (LinkedIn), 0 (Instagram) , 0 (Snapchat), 0 (Twitter) and 0 (Email)."
      ],
      "metadata": {
        "id": "I58hPwI4hV_Q"
      }
    },
    {
      "cell_type": "markdown",
      "source": [
        "### **Task 5**"
      ],
      "metadata": {
        "id": "wdwtxiPkhyli"
      }
    },
    {
      "cell_type": "markdown",
      "source": [
        "**1. Assuming the first ROI data is correct, if you were to use the\n",
        "second allocation (the allocation that assumed the second ROI data was correct) how much\n",
        "lower would the objective be relative to the optimal objective (the one that uses the first ROI\n",
        "data and the first allocation)?**"
      ],
      "metadata": {
        "id": "zgFxqrWStajF"
      }
    },
    {
      "cell_type": "markdown",
      "source": [
        "The allocations are very different when using the two ROI datas mentioned. However, the optimal objective is same for both ROIs : 10.456\n",
        "![image.png](data:image/png;base64,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)\n"
      ],
      "metadata": {
        "id": "2NN7iCkjh5vL"
      }
    },
    {
      "cell_type": "code",
      "source": [
        "a = obj1\n",
        "c = BudgetModX2.x\n",
        "print('second solution in first roi:', a@c)\n",
        "\n",
        "print(\"diff:\", BudgetModel1.objVal - a@c)"
      ],
      "metadata": {
        "colab": {
          "base_uri": "https://localhost:8080/"
        },
        "id": "D9TkVy4gJ9uW",
        "outputId": "be4bcd8e-f598-4972-83aa-7c4d331e93bd"
      },
      "execution_count": null,
      "outputs": [
        {
          "output_type": "stream",
          "name": "stdout",
          "text": [
            "second solution in first roi: 0.252\n",
            "diff: 0.20400000000000007\n"
          ]
        }
      ]
    },
    {
      "cell_type": "markdown",
      "source": [
        "Thus, utilizing the allocation from the second ROI objective in the first ROI objective function leads to total ROI being $0.204M lower, which is a 45% reduction in return "
      ],
      "metadata": {
        "id": "NEmVMARTLBRq"
      }
    },
    {
      "cell_type": "markdown",
      "source": [
        "**2. Assuming the second ROI data is correct, if you used the first\n",
        "allocation how much lower would the objective be relative to the optimal objective?**"
      ],
      "metadata": {
        "id": "JbgoJeoDK9tC"
      }
    },
    {
      "cell_type": "code",
      "source": [
        "d = obj2\n",
        "e = BudgetModX1.x\n",
        "print('first solution in second roi:', d@e)\n",
        "\n",
        "print(\"diff:\", BudgetModel2.objVal - d@e)"
      ],
      "metadata": {
        "colab": {
          "base_uri": "https://localhost:8080/"
        },
        "id": "PH3ZWO5FLR__",
        "outputId": "93e6cd2f-b595-40ae-b805-b8af6b63e023"
      },
      "execution_count": null,
      "outputs": [
        {
          "output_type": "stream",
          "name": "stdout",
          "text": [
            "first solution in second roi: 0.264\n",
            "diff: 0.19200000000000006\n"
          ]
        }
      ]
    },
    {
      "cell_type": "markdown",
      "source": [
        "Thus, utilizing the allocation from the first ROI objective in the seocnd ROI objective function leads to total ROI being $0.192M lower, which is a 42% reduction in returns"
      ],
      "metadata": {
        "id": "oV1dYZ-ULZ8S"
      }
    },
    {
      "cell_type": "markdown",
      "source": [
        "**3. Do you\n",
        "think the third constraint above, based on your boss’ experience, is useful?**"
      ],
      "metadata": {
        "id": "TkmxE8AVvnjG"
      }
    },
    {
      "cell_type": "markdown",
      "source": [
        "Removing the third constraint related to investment limit of 3 million in each platform - Using ROI Function 1"
      ],
      "metadata": {
        "id": "Mk4HTJVLs6Px"
      }
    },
    {
      "cell_type": "code",
      "source": [
        "# initialize constraint matrix\n",
        "A5_1 = np.zeros((3,10)) \n",
        "\n",
        "#Constraints\n",
        "A5_1[0,0:10] = 1                        # total investment constraint\n",
        "A5_1[1,:] = [1,1,0,0,-1,0,0,0,0,-1]    # constraint in 2.a.\n",
        "A5_1[2,:] = [0,0,-2,-2,1,1,1,1,1,0]    # constraint in 2.b.\n",
        "#A5_1[2:12,0:10] = np.diag(np.ones(10)) # total investment in each channel constraint\n",
        "\n",
        "# limits on total investment and other constraints for individual investments in each channel\n",
        "b5_1 = np.zeros((3,1))\n",
        "b5_1[0]=10\n",
        "\n",
        "#Inequalities sign for each constraint\n",
        "sense = np.array(['<','<','>'])"
      ],
      "metadata": {
        "id": "lAgp7yx3rRC_"
      },
      "execution_count": null,
      "outputs": []
    },
    {
      "cell_type": "code",
      "source": [
        "BudgetModel5_1 = gp.Model() # initialize an empty model\n",
        "\n",
        "BudgetModX5_1 = BudgetModel5_1.addMVar(len(obj1)) # tell the model how many variables there are\n",
        "# must define the variables before adding constraints because variables go into the constraints\n",
        "BudgetModCon5_1 = BudgetModel5_1.addMConstrs(A5_1, BudgetModX5_1, sense, b5_1) # add the constraints to the model\n",
        "BudgetModel5_1.setMObjective(None,obj1,0,sense=gp.GRB.MAXIMIZE) # add the objective to the model...we'll talk about the None and the 0\n",
        "\n",
        "BudgetModel5_1.Params.OutputFlag = 0 # tell gurobi to shut up!!\n",
        "BudgetModel5_1.Params.TimeLimit = 3600"
      ],
      "metadata": {
        "id": "_wNmadnNrcm2"
      },
      "execution_count": null,
      "outputs": []
    },
    {
      "cell_type": "code",
      "source": [
        "BudgetModel5_1.optimize() # solve the LP"
      ],
      "metadata": {
        "id": "qbwIdi0xrfTC"
      },
      "execution_count": null,
      "outputs": []
    },
    {
      "cell_type": "code",
      "source": [
        "BudgetModel5_1.objVal # optimal ROI level"
      ],
      "metadata": {
        "colab": {
          "base_uri": "https://localhost:8080/"
        },
        "id": "TZS58hArrhMx",
        "outputId": "2d0605b8-06a9-4075-807d-e722decadfeb"
      },
      "execution_count": null,
      "outputs": [
        {
          "output_type": "execute_result",
          "data": {
            "text/plain": [
              "0.46499999999999997"
            ]
          },
          "metadata": {},
          "execution_count": 23
        }
      ]
    },
    {
      "cell_type": "code",
      "source": [
        "BudgetModX5_1.x"
      ],
      "metadata": {
        "colab": {
          "base_uri": "https://localhost:8080/"
        },
        "id": "o4K2Zkparj3j",
        "outputId": "709e8915-6187-4928-ad34-e82dbc20a752"
      },
      "execution_count": null,
      "outputs": [
        {
          "output_type": "execute_result",
          "data": {
            "text/plain": [
              "array([0., 5., 0., 0., 0., 0., 0., 0., 0., 5.])"
            ]
          },
          "metadata": {},
          "execution_count": 24
        }
      ]
    },
    {
      "cell_type": "markdown",
      "source": [
        "**Impact on ROI using Data 1:** Removing third constraint increases the  objective ROI to 0.464M which was previosuly at 0.456M, which is approximately a 2% improvement. However, the investment is not as spread out as earlier. We are splitting our money between 2 platforms - TV and Email, making these investments riskier. \n",
        "In other words, the 3M constraint is just a way to curtail risk while diversifying your portfolio and hence, it makes sense to keep it, especially considering how overall ROI growth of 2% is not extremely a worthy tradeoff for the risk it brings with it."
      ],
      "metadata": {
        "id": "Jsd-54SM00tB"
      }
    },
    {
      "cell_type": "markdown",
      "source": [
        "Removing the third constraint related to investment limit of 3 million in each platform - Using ROI Function 2"
      ],
      "metadata": {
        "id": "-2u1TxXNM_n8"
      }
    },
    {
      "cell_type": "code",
      "source": [
        "# initialize constraint matrix\n",
        "A5_2 = np.zeros((3,10)) \n",
        "\n",
        "#Constraints\n",
        "A5_2[0,0:10] = 1                        # total investment constraint\n",
        "A5_2[1,:] = [1,1,0,0,-1,0,0,0,0,-1]    # constraint in 2.a.\n",
        "A5_2[2,:] = [0,0,-2,-2,1,1,1,1,1,0]    # constraint in 2.b.\n",
        "#A5_2[2:12,0:10] = np.diag(np.ones(10)) # total investment in each channel constraint\n",
        "\n",
        "# limits on total investment and other constraints \n",
        "b5_2 = np.zeros((3,1))\n",
        "b5_2[0]=10\n",
        "\n",
        "#Inequalities sign for each constraint\n",
        "sense = np.array(['<','<','>'])"
      ],
      "metadata": {
        "id": "-WLp_uEv1oEq"
      },
      "execution_count": null,
      "outputs": []
    },
    {
      "cell_type": "code",
      "source": [
        "BudgetModel5_2 = gp.Model() # initialize an empty model\n",
        "\n",
        "BudgetModX5_2 = BudgetModel5_2.addMVar(len(obj2)) # tell the model how many variables there are\n",
        "# must define the variables before adding constraints because variables go into the constraints\n",
        "BudgetModCon5_2 = BudgetModel5_2.addMConstrs(A5_2, BudgetModX5_2, sense, b5_2) # add the constraints to the model\n",
        "BudgetModel5_2.setMObjective(None,obj2,0,sense=gp.GRB.MAXIMIZE) # add the objective to the model...we'll talk about the None and the 0\n",
        "\n",
        "BudgetModel5_2.Params.OutputFlag = 0 # tell gurobi to shut up!!\n",
        "BudgetModel5_2.Params.TimeLimit = 3600"
      ],
      "metadata": {
        "id": "20YZEVUN10hy"
      },
      "execution_count": null,
      "outputs": []
    },
    {
      "cell_type": "code",
      "source": [
        "BudgetModel5_2.optimize() # solve the LP"
      ],
      "metadata": {
        "id": "dT7pVRQu12IF"
      },
      "execution_count": null,
      "outputs": []
    },
    {
      "cell_type": "code",
      "source": [
        "BudgetModel5_2.objVal # optimal ROI level"
      ],
      "metadata": {
        "colab": {
          "base_uri": "https://localhost:8080/"
        },
        "id": "SPctlGDf13vN",
        "outputId": "5378192d-63fa-4e19-8331-13e60849451e"
      },
      "execution_count": null,
      "outputs": [
        {
          "output_type": "execute_result",
          "data": {
            "text/plain": [
              "0.46499999999999997"
            ]
          },
          "metadata": {},
          "execution_count": 28
        }
      ]
    },
    {
      "cell_type": "code",
      "source": [
        "BudgetModX5_2.x"
      ],
      "metadata": {
        "colab": {
          "base_uri": "https://localhost:8080/"
        },
        "id": "HnidCWKY15Hx",
        "outputId": "e1264af4-278a-4db1-8a66-086ea6f8853c"
      },
      "execution_count": null,
      "outputs": [
        {
          "output_type": "execute_result",
          "data": {
            "text/plain": [
              "array([5., 0., 0., 0., 5., 0., 0., 0., 0., 0.])"
            ]
          },
          "metadata": {},
          "execution_count": 29
        }
      ]
    },
    {
      "cell_type": "markdown",
      "source": [
        "**Impact on ROI using Data 2:** Removing third constraint increases the  objective ROI to 0.464M which was previosuly at 0.456M, which is approximately a 2% improvement. However, the investment is not as spread out as earlier. We are splitting our money between 2 platforms - Print and Facebook, making these investments riskier. \n",
        "In other words, the 3M constraint is just a way to curtail risk while diversifying your portfolio and hence, it makes sense to keep it, , especially considering how overall ROI growth of 2% is not extremely a worthy tradeoff for the risk it brings with it.\n"
      ],
      "metadata": {
        "id": "IFuWvubh2TcC"
      }
    },
    {
      "cell_type": "markdown",
      "source": [
        "#Task 6"
      ],
      "metadata": {
        "id": "V5kwXI__36fO"
      }
    },
    {
      "cell_type": "markdown",
      "source": [
        "**To explore this further perform some analysis of how your optimal allocation would change based on changes in the ROI data. Use the first ROI data as your starting point. By how much could each advertising medium’s ROI increase or decrease and still result in the same optimal allocation you found in step (3)?**"
      ],
      "metadata": {
        "id": "siF4AYN30NK1"
      }
    },
    {
      "cell_type": "code",
      "source": [
        "# Pulling up the variables from Task 3\n",
        "\n",
        "BudgetModX1.SAObjLow #Lower bound of objective function where optimal corner doesn't change"
      ],
      "metadata": {
        "colab": {
          "base_uri": "https://localhost:8080/"
        },
        "id": "XbQc0IJFYQJX",
        "outputId": "64466f2a-67fe-48e5-a744-81d0332a2324"
      },
      "execution_count": null,
      "outputs": [
        {
          "output_type": "execute_result",
          "data": {
            "text/plain": [
              "array([ -inf, 0.039,  -inf, 0.033,  -inf,  -inf, 0.039,  -inf,  -inf,\n",
              "       0.029])"
            ]
          },
          "metadata": {},
          "execution_count": 30
        }
      ]
    },
    {
      "cell_type": "code",
      "source": [
        "BudgetModX1.SAObjUp #Upper bound of objective function where optimal corner doesn't change"
      ],
      "metadata": {
        "colab": {
          "base_uri": "https://localhost:8080/"
        },
        "id": "3yLxIar1Zymr",
        "outputId": "37ea86e0-a3c0-4fc7-ae85-a8fd68ee400c"
      },
      "execution_count": null,
      "outputs": [
        {
          "output_type": "execute_result",
          "data": {
            "text/plain": [
              "array([0.049, 0.062, 0.039, 0.046, 0.029, 0.039,   inf, 0.039, 0.039,\n",
              "         inf])"
            ]
          },
          "metadata": {},
          "execution_count": 31
        }
      ]
    },
    {
      "cell_type": "code",
      "source": [
        "obj_low_and_up = pd.DataFrame()\n",
        "obj_low_and_up['channel'] = ['Print', 'TV', 'SEO', 'AdWords', 'Facebook', 'LinkedIn',\n",
        "       'Instagram', 'Snapchat', 'Twitter', 'Email']\n",
        "obj_low_and_up['lower'] = list(BudgetModX1.SAObjLow)\n",
        "obj_low_and_up['upper'] = list(BudgetModX1.SAObjUp)\n",
        "obj_low_and_up"
      ],
      "metadata": {
        "colab": {
          "base_uri": "https://localhost:8080/",
          "height": 363
        },
        "id": "BnZCqkfUawfl",
        "outputId": "cf6f8318-8581-4e9f-cfee-06c7ffe42923"
      },
      "execution_count": null,
      "outputs": [
        {
          "output_type": "execute_result",
          "data": {
            "text/plain": [
              "     channel  lower  upper\n",
              "0      Print   -inf  0.049\n",
              "1         TV  0.039  0.062\n",
              "2        SEO   -inf  0.039\n",
              "3    AdWords  0.033  0.046\n",
              "4   Facebook   -inf  0.029\n",
              "5   LinkedIn   -inf  0.039\n",
              "6  Instagram  0.039    inf\n",
              "7   Snapchat   -inf  0.039\n",
              "8    Twitter   -inf  0.039\n",
              "9      Email  0.029    inf"
            ],
            "text/html": [
              "\n",
              "  <div id=\"df-23f7e59b-9289-4d9f-8e6a-5b9f2c259a0e\">\n",
              "    <div class=\"colab-df-container\">\n",
              "      <div>\n",
              "<style scoped>\n",
              "    .dataframe tbody tr th:only-of-type {\n",
              "        vertical-align: middle;\n",
              "    }\n",
              "\n",
              "    .dataframe tbody tr th {\n",
              "        vertical-align: top;\n",
              "    }\n",
              "\n",
              "    .dataframe thead th {\n",
              "        text-align: right;\n",
              "    }\n",
              "</style>\n",
              "<table border=\"1\" class=\"dataframe\">\n",
              "  <thead>\n",
              "    <tr style=\"text-align: right;\">\n",
              "      <th></th>\n",
              "      <th>channel</th>\n",
              "      <th>lower</th>\n",
              "      <th>upper</th>\n",
              "    </tr>\n",
              "  </thead>\n",
              "  <tbody>\n",
              "    <tr>\n",
              "      <th>0</th>\n",
              "      <td>Print</td>\n",
              "      <td>-inf</td>\n",
              "      <td>0.049</td>\n",
              "    </tr>\n",
              "    <tr>\n",
              "      <th>1</th>\n",
              "      <td>TV</td>\n",
              "      <td>0.039</td>\n",
              "      <td>0.062</td>\n",
              "    </tr>\n",
              "    <tr>\n",
              "      <th>2</th>\n",
              "      <td>SEO</td>\n",
              "      <td>-inf</td>\n",
              "      <td>0.039</td>\n",
              "    </tr>\n",
              "    <tr>\n",
              "      <th>3</th>\n",
              "      <td>AdWords</td>\n",
              "      <td>0.033</td>\n",
              "      <td>0.046</td>\n",
              "    </tr>\n",
              "    <tr>\n",
              "      <th>4</th>\n",
              "      <td>Facebook</td>\n",
              "      <td>-inf</td>\n",
              "      <td>0.029</td>\n",
              "    </tr>\n",
              "    <tr>\n",
              "      <th>5</th>\n",
              "      <td>LinkedIn</td>\n",
              "      <td>-inf</td>\n",
              "      <td>0.039</td>\n",
              "    </tr>\n",
              "    <tr>\n",
              "      <th>6</th>\n",
              "      <td>Instagram</td>\n",
              "      <td>0.039</td>\n",
              "      <td>inf</td>\n",
              "    </tr>\n",
              "    <tr>\n",
              "      <th>7</th>\n",
              "      <td>Snapchat</td>\n",
              "      <td>-inf</td>\n",
              "      <td>0.039</td>\n",
              "    </tr>\n",
              "    <tr>\n",
              "      <th>8</th>\n",
              "      <td>Twitter</td>\n",
              "      <td>-inf</td>\n",
              "      <td>0.039</td>\n",
              "    </tr>\n",
              "    <tr>\n",
              "      <th>9</th>\n",
              "      <td>Email</td>\n",
              "      <td>0.029</td>\n",
              "      <td>inf</td>\n",
              "    </tr>\n",
              "  </tbody>\n",
              "</table>\n",
              "</div>\n",
              "      <button class=\"colab-df-convert\" onclick=\"convertToInteractive('df-23f7e59b-9289-4d9f-8e6a-5b9f2c259a0e')\"\n",
              "              title=\"Convert this dataframe to an interactive table.\"\n",
              "              style=\"display:none;\">\n",
              "        \n",
              "  <svg xmlns=\"http://www.w3.org/2000/svg\" height=\"24px\"viewBox=\"0 0 24 24\"\n",
              "       width=\"24px\">\n",
              "    <path d=\"M0 0h24v24H0V0z\" fill=\"none\"/>\n",
              "    <path d=\"M18.56 5.44l.94 2.06.94-2.06 2.06-.94-2.06-.94-.94-2.06-.94 2.06-2.06.94zm-11 1L8.5 8.5l.94-2.06 2.06-.94-2.06-.94L8.5 2.5l-.94 2.06-2.06.94zm10 10l.94 2.06.94-2.06 2.06-.94-2.06-.94-.94-2.06-.94 2.06-2.06.94z\"/><path d=\"M17.41 7.96l-1.37-1.37c-.4-.4-.92-.59-1.43-.59-.52 0-1.04.2-1.43.59L10.3 9.45l-7.72 7.72c-.78.78-.78 2.05 0 2.83L4 21.41c.39.39.9.59 1.41.59.51 0 1.02-.2 1.41-.59l7.78-7.78 2.81-2.81c.8-.78.8-2.07 0-2.86zM5.41 20L4 18.59l7.72-7.72 1.47 1.35L5.41 20z\"/>\n",
              "  </svg>\n",
              "      </button>\n",
              "      \n",
              "  <style>\n",
              "    .colab-df-container {\n",
              "      display:flex;\n",
              "      flex-wrap:wrap;\n",
              "      gap: 12px;\n",
              "    }\n",
              "\n",
              "    .colab-df-convert {\n",
              "      background-color: #E8F0FE;\n",
              "      border: none;\n",
              "      border-radius: 50%;\n",
              "      cursor: pointer;\n",
              "      display: none;\n",
              "      fill: #1967D2;\n",
              "      height: 32px;\n",
              "      padding: 0 0 0 0;\n",
              "      width: 32px;\n",
              "    }\n",
              "\n",
              "    .colab-df-convert:hover {\n",
              "      background-color: #E2EBFA;\n",
              "      box-shadow: 0px 1px 2px rgba(60, 64, 67, 0.3), 0px 1px 3px 1px rgba(60, 64, 67, 0.15);\n",
              "      fill: #174EA6;\n",
              "    }\n",
              "\n",
              "    [theme=dark] .colab-df-convert {\n",
              "      background-color: #3B4455;\n",
              "      fill: #D2E3FC;\n",
              "    }\n",
              "\n",
              "    [theme=dark] .colab-df-convert:hover {\n",
              "      background-color: #434B5C;\n",
              "      box-shadow: 0px 1px 3px 1px rgba(0, 0, 0, 0.15);\n",
              "      filter: drop-shadow(0px 1px 2px rgba(0, 0, 0, 0.3));\n",
              "      fill: #FFFFFF;\n",
              "    }\n",
              "  </style>\n",
              "\n",
              "      <script>\n",
              "        const buttonEl =\n",
              "          document.querySelector('#df-23f7e59b-9289-4d9f-8e6a-5b9f2c259a0e button.colab-df-convert');\n",
              "        buttonEl.style.display =\n",
              "          google.colab.kernel.accessAllowed ? 'block' : 'none';\n",
              "\n",
              "        async function convertToInteractive(key) {\n",
              "          const element = document.querySelector('#df-23f7e59b-9289-4d9f-8e6a-5b9f2c259a0e');\n",
              "          const dataTable =\n",
              "            await google.colab.kernel.invokeFunction('convertToInteractive',\n",
              "                                                     [key], {});\n",
              "          if (!dataTable) return;\n",
              "\n",
              "          const docLinkHtml = 'Like what you see? Visit the ' +\n",
              "            '<a target=\"_blank\" href=https://colab.research.google.com/notebooks/data_table.ipynb>data table notebook</a>'\n",
              "            + ' to learn more about interactive tables.';\n",
              "          element.innerHTML = '';\n",
              "          dataTable['output_type'] = 'display_data';\n",
              "          await google.colab.output.renderOutput(dataTable, element);\n",
              "          const docLink = document.createElement('div');\n",
              "          docLink.innerHTML = docLinkHtml;\n",
              "          element.appendChild(docLink);\n",
              "        }\n",
              "      </script>\n",
              "    </div>\n",
              "  </div>\n",
              "  "
            ]
          },
          "metadata": {},
          "execution_count": 32
        }
      ]
    },
    {
      "cell_type": "code",
      "source": [
        "import matplotlib.pyplot as plt\n",
        "\n",
        "fig3 = plt.figure()\n",
        "ax = fig3.add_axes([0,0,1.5,1])\n",
        "channels_3 = ['Print', 'TV', 'SEO', 'AdWords', 'Facebook', 'LinkedIn',\n",
        "       'Instagram', 'Snapchat', 'Twitter', 'Email']\n",
        "allocations_3 = BudgetModX1.SAObjUp\n",
        "allocations_4 = BudgetModX1.SAObjLow\n",
        "ax.bar(channels_3,allocations_3, label = \"Upper\")\n",
        "ax.bar(channels_3, allocations_4, label = \"Lower\")\n",
        "ax.set_title(\"Lower and Upper Range Where Optimal Corner Stays The Same\")\n",
        "plt.legend()\n",
        "plt.show()"
      ],
      "metadata": {
        "colab": {
          "base_uri": "https://localhost:8080/",
          "height": 352
        },
        "id": "VGseFtpnDJvG",
        "outputId": "65f3de91-1a83-41c3-cf0d-76533b682dc1"
      },
      "execution_count": null,
      "outputs": [
        {
          "output_type": "display_data",
          "data": {
            "text/plain": [
              "<Figure size 432x288 with 1 Axes>"
            ],
            "image/png": "[encoded data removed]"
          },
          "metadata": {
            "needs_background": "light"
          }
        }
      ]
    },
    {
      "cell_type": "markdown",
      "source": [
        "#Task 7"
      ],
      "metadata": {
        "id": "1CWWBgek39H9"
      }
    },
    {
      "cell_type": "markdown",
      "source": [
        "Your boss has gained permission to reinvest half of the return. For example, if the marketing\n",
        "obtains a 4% return in January, the budget of February will be $10M + $10M × 4% × 50% =\n",
        "$10.2M. The monthly ROI for next year is given in Project1.Rdata. The three constraints given\n",
        "by your boss are still in place for each month. What is the optimal allocation for each month?"
      ],
      "metadata": {
        "id": "1jweM-ktUqlx"
      }
    },
    {
      "cell_type": "code",
      "source": [
        "roi_mat = pd.read_csv('roi_mat.csv')\n",
        "roi_mat.set_index('Unnamed: 0',inplace=True)\n",
        "roi_mat.index.names = ['Month']\n",
        "roi_mat"
      ],
      "metadata": {
        "id": "-_NFGOaZ3-i7",
        "colab": {
          "base_uri": "https://localhost:8080/",
          "height": 457
        },
        "outputId": "b97fcd87-a1d5-4a2b-b590-09f9c3f824ed"
      },
      "execution_count": null,
      "outputs": [
        {
          "output_type": "execute_result",
          "data": {
            "text/plain": [
              "           Print   TV  SEO  AdWords  Facebook  LinkedIn  Instagram  Snapchat  \\\n",
              "Month                                                                          \n",
              "January      4.0  3.6  2.4      3.9       3.0       3.5        3.6      2.25   \n",
              "February     4.0  3.9  2.7      3.8       4.3       3.2        2.7      1.80   \n",
              "March        3.5  2.9  3.1      3.8       2.4       4.1        3.7      2.60   \n",
              "April        3.8  3.1  2.4      4.4       2.4       3.8        3.7      2.50   \n",
              "May          3.5  3.2  1.9      3.4       2.7       2.7        3.9      2.20   \n",
              "June         4.0  3.2  2.7      3.4       3.4       3.0        4.5      2.10   \n",
              "July         3.9  3.6  2.0      4.4       3.9       3.7        4.3      1.80   \n",
              "August       4.2  3.3  2.8      4.2       2.0       3.7        3.6      1.50   \n",
              "September    4.1  2.8  2.5      4.2       2.9       3.7        2.8      2.50   \n",
              "October      3.0  3.0  3.1      4.6       3.1       3.3        3.2      2.30   \n",
              "November     4.8  3.3  2.7      4.1       2.9       3.6        4.2      3.00   \n",
              "December     4.8  4.0  1.9      3.7       4.2       3.6        2.6      2.90   \n",
              "\n",
              "           Twitter  Email  \n",
              "Month                      \n",
              "January        3.5    3.5  \n",
              "February       3.7    3.5  \n",
              "March          4.2    2.5  \n",
              "April          3.6    2.9  \n",
              "May            4.5    3.9  \n",
              "June           3.8    4.1  \n",
              "July           4.0    3.8  \n",
              "August         4.4    4.3  \n",
              "September      4.0    3.4  \n",
              "October        2.5    3.2  \n",
              "November       3.1    4.1  \n",
              "December       3.6    3.7  "
            ],
            "text/html": [
              "\n",
              "  <div id=\"df-011e291e-71b9-4f64-8e17-a1c9dec5aafd\">\n",
              "    <div class=\"colab-df-container\">\n",
              "      <div>\n",
              "<style scoped>\n",
              "    .dataframe tbody tr th:only-of-type {\n",
              "        vertical-align: middle;\n",
              "    }\n",
              "\n",
              "    .dataframe tbody tr th {\n",
              "        vertical-align: top;\n",
              "    }\n",
              "\n",
              "    .dataframe thead th {\n",
              "        text-align: right;\n",
              "    }\n",
              "</style>\n",
              "<table border=\"1\" class=\"dataframe\">\n",
              "  <thead>\n",
              "    <tr style=\"text-align: right;\">\n",
              "      <th></th>\n",
              "      <th>Print</th>\n",
              "      <th>TV</th>\n",
              "      <th>SEO</th>\n",
              "      <th>AdWords</th>\n",
              "      <th>Facebook</th>\n",
              "      <th>LinkedIn</th>\n",
              "      <th>Instagram</th>\n",
              "      <th>Snapchat</th>\n",
              "      <th>Twitter</th>\n",
              "      <th>Email</th>\n",
              "    </tr>\n",
              "    <tr>\n",
              "      <th>Month</th>\n",
              "      <th></th>\n",
              "      <th></th>\n",
              "      <th></th>\n",
              "      <th></th>\n",
              "      <th></th>\n",
              "      <th></th>\n",
              "      <th></th>\n",
              "      <th></th>\n",
              "      <th></th>\n",
              "      <th></th>\n",
              "    </tr>\n",
              "  </thead>\n",
              "  <tbody>\n",
              "    <tr>\n",
              "      <th>January</th>\n",
              "      <td>4.0</td>\n",
              "      <td>3.6</td>\n",
              "      <td>2.4</td>\n",
              "      <td>3.9</td>\n",
              "      <td>3.0</td>\n",
              "      <td>3.5</td>\n",
              "      <td>3.6</td>\n",
              "      <td>2.25</td>\n",
              "      <td>3.5</td>\n",
              "      <td>3.5</td>\n",
              "    </tr>\n",
              "    <tr>\n",
              "      <th>February</th>\n",
              "      <td>4.0</td>\n",
              "      <td>3.9</td>\n",
              "      <td>2.7</td>\n",
              "      <td>3.8</td>\n",
              "      <td>4.3</td>\n",
              "      <td>3.2</td>\n",
              "      <td>2.7</td>\n",
              "      <td>1.80</td>\n",
              "      <td>3.7</td>\n",
              "      <td>3.5</td>\n",
              "    </tr>\n",
              "    <tr>\n",
              "      <th>March</th>\n",
              "      <td>3.5</td>\n",
              "      <td>2.9</td>\n",
              "      <td>3.1</td>\n",
              "      <td>3.8</td>\n",
              "      <td>2.4</td>\n",
              "      <td>4.1</td>\n",
              "      <td>3.7</td>\n",
              "      <td>2.60</td>\n",
              "      <td>4.2</td>\n",
              "      <td>2.5</td>\n",
              "    </tr>\n",
              "    <tr>\n",
              "      <th>April</th>\n",
              "      <td>3.8</td>\n",
              "      <td>3.1</td>\n",
              "      <td>2.4</td>\n",
              "      <td>4.4</td>\n",
              "      <td>2.4</td>\n",
              "      <td>3.8</td>\n",
              "      <td>3.7</td>\n",
              "      <td>2.50</td>\n",
              "      <td>3.6</td>\n",
              "      <td>2.9</td>\n",
              "    </tr>\n",
              "    <tr>\n",
              "      <th>May</th>\n",
              "      <td>3.5</td>\n",
              "      <td>3.2</td>\n",
              "      <td>1.9</td>\n",
              "      <td>3.4</td>\n",
              "      <td>2.7</td>\n",
              "      <td>2.7</td>\n",
              "      <td>3.9</td>\n",
              "      <td>2.20</td>\n",
              "      <td>4.5</td>\n",
              "      <td>3.9</td>\n",
              "    </tr>\n",
              "    <tr>\n",
              "      <th>June</th>\n",
              "      <td>4.0</td>\n",
              "      <td>3.2</td>\n",
              "      <td>2.7</td>\n",
              "      <td>3.4</td>\n",
              "      <td>3.4</td>\n",
              "      <td>3.0</td>\n",
              "      <td>4.5</td>\n",
              "      <td>2.10</td>\n",
              "      <td>3.8</td>\n",
              "      <td>4.1</td>\n",
              "    </tr>\n",
              "    <tr>\n",
              "      <th>July</th>\n",
              "      <td>3.9</td>\n",
              "      <td>3.6</td>\n",
              "      <td>2.0</td>\n",
              "      <td>4.4</td>\n",
              "      <td>3.9</td>\n",
              "      <td>3.7</td>\n",
              "      <td>4.3</td>\n",
              "      <td>1.80</td>\n",
              "      <td>4.0</td>\n",
              "      <td>3.8</td>\n",
              "    </tr>\n",
              "    <tr>\n",
              "      <th>August</th>\n",
              "      <td>4.2</td>\n",
              "      <td>3.3</td>\n",
              "      <td>2.8</td>\n",
              "      <td>4.2</td>\n",
              "      <td>2.0</td>\n",
              "      <td>3.7</td>\n",
              "      <td>3.6</td>\n",
              "      <td>1.50</td>\n",
              "      <td>4.4</td>\n",
              "      <td>4.3</td>\n",
              "    </tr>\n",
              "    <tr>\n",
              "      <th>September</th>\n",
              "      <td>4.1</td>\n",
              "      <td>2.8</td>\n",
              "      <td>2.5</td>\n",
              "      <td>4.2</td>\n",
              "      <td>2.9</td>\n",
              "      <td>3.7</td>\n",
              "      <td>2.8</td>\n",
              "      <td>2.50</td>\n",
              "      <td>4.0</td>\n",
              "      <td>3.4</td>\n",
              "    </tr>\n",
              "    <tr>\n",
              "      <th>October</th>\n",
              "      <td>3.0</td>\n",
              "      <td>3.0</td>\n",
              "      <td>3.1</td>\n",
              "      <td>4.6</td>\n",
              "      <td>3.1</td>\n",
              "      <td>3.3</td>\n",
              "      <td>3.2</td>\n",
              "      <td>2.30</td>\n",
              "      <td>2.5</td>\n",
              "      <td>3.2</td>\n",
              "    </tr>\n",
              "    <tr>\n",
              "      <th>November</th>\n",
              "      <td>4.8</td>\n",
              "      <td>3.3</td>\n",
              "      <td>2.7</td>\n",
              "      <td>4.1</td>\n",
              "      <td>2.9</td>\n",
              "      <td>3.6</td>\n",
              "      <td>4.2</td>\n",
              "      <td>3.00</td>\n",
              "      <td>3.1</td>\n",
              "      <td>4.1</td>\n",
              "    </tr>\n",
              "    <tr>\n",
              "      <th>December</th>\n",
              "      <td>4.8</td>\n",
              "      <td>4.0</td>\n",
              "      <td>1.9</td>\n",
              "      <td>3.7</td>\n",
              "      <td>4.2</td>\n",
              "      <td>3.6</td>\n",
              "      <td>2.6</td>\n",
              "      <td>2.90</td>\n",
              "      <td>3.6</td>\n",
              "      <td>3.7</td>\n",
              "    </tr>\n",
              "  </tbody>\n",
              "</table>\n",
              "</div>\n",
              "      <button class=\"colab-df-convert\" onclick=\"convertToInteractive('df-011e291e-71b9-4f64-8e17-a1c9dec5aafd')\"\n",
              "              title=\"Convert this dataframe to an interactive table.\"\n",
              "              style=\"display:none;\">\n",
              "        \n",
              "  <svg xmlns=\"http://www.w3.org/2000/svg\" height=\"24px\"viewBox=\"0 0 24 24\"\n",
              "       width=\"24px\">\n",
              "    <path d=\"M0 0h24v24H0V0z\" fill=\"none\"/>\n",
              "    <path d=\"M18.56 5.44l.94 2.06.94-2.06 2.06-.94-2.06-.94-.94-2.06-.94 2.06-2.06.94zm-11 1L8.5 8.5l.94-2.06 2.06-.94-2.06-.94L8.5 2.5l-.94 2.06-2.06.94zm10 10l.94 2.06.94-2.06 2.06-.94-2.06-.94-.94-2.06-.94 2.06-2.06.94z\"/><path d=\"M17.41 7.96l-1.37-1.37c-.4-.4-.92-.59-1.43-.59-.52 0-1.04.2-1.43.59L10.3 9.45l-7.72 7.72c-.78.78-.78 2.05 0 2.83L4 21.41c.39.39.9.59 1.41.59.51 0 1.02-.2 1.41-.59l7.78-7.78 2.81-2.81c.8-.78.8-2.07 0-2.86zM5.41 20L4 18.59l7.72-7.72 1.47 1.35L5.41 20z\"/>\n",
              "  </svg>\n",
              "      </button>\n",
              "      \n",
              "  <style>\n",
              "    .colab-df-container {\n",
              "      display:flex;\n",
              "      flex-wrap:wrap;\n",
              "      gap: 12px;\n",
              "    }\n",
              "\n",
              "    .colab-df-convert {\n",
              "      background-color: #E8F0FE;\n",
              "      border: none;\n",
              "      border-radius: 50%;\n",
              "      cursor: pointer;\n",
              "      display: none;\n",
              "      fill: #1967D2;\n",
              "      height: 32px;\n",
              "      padding: 0 0 0 0;\n",
              "      width: 32px;\n",
              "    }\n",
              "\n",
              "    .colab-df-convert:hover {\n",
              "      background-color: #E2EBFA;\n",
              "      box-shadow: 0px 1px 2px rgba(60, 64, 67, 0.3), 0px 1px 3px 1px rgba(60, 64, 67, 0.15);\n",
              "      fill: #174EA6;\n",
              "    }\n",
              "\n",
              "    [theme=dark] .colab-df-convert {\n",
              "      background-color: #3B4455;\n",
              "      fill: #D2E3FC;\n",
              "    }\n",
              "\n",
              "    [theme=dark] .colab-df-convert:hover {\n",
              "      background-color: #434B5C;\n",
              "      box-shadow: 0px 1px 3px 1px rgba(0, 0, 0, 0.15);\n",
              "      filter: drop-shadow(0px 1px 2px rgba(0, 0, 0, 0.3));\n",
              "      fill: #FFFFFF;\n",
              "    }\n",
              "  </style>\n",
              "\n",
              "      <script>\n",
              "        const buttonEl =\n",
              "          document.querySelector('#df-011e291e-71b9-4f64-8e17-a1c9dec5aafd button.colab-df-convert');\n",
              "        buttonEl.style.display =\n",
              "          google.colab.kernel.accessAllowed ? 'block' : 'none';\n",
              "\n",
              "        async function convertToInteractive(key) {\n",
              "          const element = document.querySelector('#df-011e291e-71b9-4f64-8e17-a1c9dec5aafd');\n",
              "          const dataTable =\n",
              "            await google.colab.kernel.invokeFunction('convertToInteractive',\n",
              "                                                     [key], {});\n",
              "          if (!dataTable) return;\n",
              "\n",
              "          const docLinkHtml = 'Like what you see? Visit the ' +\n",
              "            '<a target=\"_blank\" href=https://colab.research.google.com/notebooks/data_table.ipynb>data table notebook</a>'\n",
              "            + ' to learn more about interactive tables.';\n",
              "          element.innerHTML = '';\n",
              "          dataTable['output_type'] = 'display_data';\n",
              "          await google.colab.output.renderOutput(dataTable, element);\n",
              "          const docLink = document.createElement('div');\n",
              "          docLink.innerHTML = docLinkHtml;\n",
              "          element.appendChild(docLink);\n",
              "        }\n",
              "      </script>\n",
              "    </div>\n",
              "  </div>\n",
              "  "
            ]
          },
          "metadata": {},
          "execution_count": 34
        }
      ]
    },
    {
      "cell_type": "code",
      "source": [
        "# Initialise variables for use inside the loop\n",
        "returns = []\n",
        "total_budget = []\n",
        "opt_allocation = []\n",
        "opt_val = []\n",
        "\n",
        "# Write a loop to iterate through monthly ROI functions\n",
        "for i in range(len(roi_mat)):\n",
        "    obj = np.array(roi_mat.iloc[i])/100 #convert percent to decimal\n",
        "\n",
        "    # If it's January, total budget would be 10M.\n",
        "    # Otherwise, it would be 10M + 50% of the returns*10M\n",
        "    if i==0: \n",
        "        ttl_budget = 10\n",
        "    else:\n",
        "        ttl_budget = 10 + (10*returns[i-1]*0.5)\n",
        "\n",
        "    # Add ttl_budget to this list with monthly budgets\n",
        "    total_budget.append(ttl_budget)\n",
        "\n",
        "    # Initialise constraint matrix & add constaints\n",
        "    A = np.zeros((13,10)) \n",
        "    A[0,:] = [1,1,1,1,1,1,1,1,1,1] \n",
        "    A[1,:] = [1,1,0,0,-1,0,0,0,0,-1] \n",
        "    A[2,:] = [0,0,-2,-2,1,1,1,1,1,0]\n",
        "    A[3:13,:] = np.diag(np.ones(10))\n",
        "\n",
        "    #Limits on constraints\n",
        "    b = np.array([ttl_budget,0,0,3,3,3,3,3,3,3,3,3,3]) \n",
        "    sense = np.array(['<','<','>','<','<','<','<','<','<','<','<','<','<']) \n",
        "\n",
        "    #Run the model for given month\n",
        "    BudgModel = gp.Model() \n",
        "    BudgModX = BudgModel.addMVar(len(obj)) \n",
        "    BudgModCon = BudgModel.addMConstrs(A,BudgModX,sense,b) \n",
        "    BudgModel.setMObjective(None,obj,0,sense=gp.GRB.MAXIMIZE) \n",
        "    BudgModel.Params.OutputFlag = 0 \n",
        "    BudgModel.Params.TimeLimit = 3600 \n",
        "    BudgModel.optimize()   \n",
        "\n",
        "    # Store results \n",
        "    obj_val = BudgModel.objVal\n",
        "    roi_soln = BudgModX.x\n",
        "    prev_obj = obj\n",
        "\n",
        "    # Append returns for each month: Returns = ROI for month/ Total budget for the month\n",
        "    returns.append(obj_val/total_budget[i])\n",
        "\n",
        "    # Append objective solutions(decision variable) for each month \n",
        "    opt_allocation.append(roi_soln)\n",
        "\n",
        "    # Append objective value for each month \n",
        "    opt_val.append(obj_val)"
      ],
      "metadata": {
        "id": "dKaOiDKpOvyJ"
      },
      "execution_count": null,
      "outputs": []
    },
    {
      "cell_type": "markdown",
      "source": [
        "**Optimal Allocation for each Month is shown below:**"
      ],
      "metadata": {
        "id": "JtzfJJEhS8E-"
      }
    },
    {
      "cell_type": "code",
      "source": [
        "# Print solutions for each month\n",
        "for i in range(len(opt_allocation)):\n",
        "  print(roi_mat.index[i])\n",
        "  print(opt_allocation[i])\n",
        "  print('\\n')"
      ],
      "metadata": {
        "id": "3xwRQLvJSiTo",
        "colab": {
          "base_uri": "https://localhost:8080/"
        },
        "outputId": "4024e090-546e-43d6-8a4a-cd87f968856b"
      },
      "execution_count": null,
      "outputs": [
        {
          "output_type": "stream",
          "name": "stdout",
          "text": [
            "January\n",
            "[3.         0.         0.         1.33333333 0.         0.\n",
            " 2.66666667 0.         0.         3.        ]\n",
            "\n",
            "\n",
            "February\n",
            "[3.     0.     0.     2.3955 3.     0.     0.     0.     1.791  0.    ]\n",
            "\n",
            "\n",
            "March\n",
            "[0.         0.         0.         3.         0.         3.\n",
            " 1.19942866 0.         3.         0.        ]\n",
            "\n",
            "\n",
            "April\n",
            "[0.         0.         0.         3.         0.         3.\n",
            " 3.         0.         1.19970671 0.        ]\n",
            "\n",
            "\n",
            "May\n",
            "[1.19617694 0.         0.         0.         0.         0.\n",
            " 3.         0.         3.         3.        ]\n",
            "\n",
            "\n",
            "June\n",
            "[3.         0.         0.         0.         0.         0.\n",
            " 3.         0.         1.20148051 3.        ]\n",
            "\n",
            "\n",
            "July\n",
            "[0.        0.        0.        3.        1.2076445 0.        3.\n",
            " 0.        3.        0.       ]\n",
            "\n",
            "\n",
            "August\n",
            "[2.70969487 0.         0.         1.5        0.         0.\n",
            " 0.         0.         3.         3.        ]\n",
            "\n",
            "\n",
            "September\n",
            "[0.60720379 0.         0.         3.         0.         3.\n",
            " 0.         0.         3.         0.60720379]\n",
            "\n",
            "\n",
            "October\n",
            "[0.         0.         0.         3.         0.         3.\n",
            " 3.         0.         0.         1.19704534]\n",
            "\n",
            "\n",
            "November\n",
            "[3.         0.         0.         1.18206522 0.         0.\n",
            " 3.         0.         0.         3.        ]\n",
            "\n",
            "\n",
            "December\n",
            "[3.         2.10839271 0.         0.         3.         0.\n",
            " 0.         0.         0.         2.10839271]\n",
            "\n",
            "\n"
          ]
        }
      ]
    },
    {
      "cell_type": "code",
      "source": [
        "display(pd.DataFrame(opt_allocation, index = roi_mat.index, columns = roi_mat.columns))"
      ],
      "metadata": {
        "colab": {
          "base_uri": "https://localhost:8080/",
          "height": 457
        },
        "id": "nkVY_2bXiyfe",
        "outputId": "c985bc5c-47ad-4184-9b27-2edf7c6334e8"
      },
      "execution_count": null,
      "outputs": [
        {
          "output_type": "display_data",
          "data": {
            "text/plain": [
              "              Print        TV  SEO   AdWords  Facebook  LinkedIn  Instagram  \\\n",
              "Month                                                                         \n",
              "January    3.000000  0.000000  0.0  1.333333  0.000000       0.0   2.666667   \n",
              "February   3.000000  0.000000  0.0  2.395500  3.000000       0.0   0.000000   \n",
              "March      0.000000  0.000000  0.0  3.000000  0.000000       3.0   1.199429   \n",
              "April      0.000000  0.000000  0.0  3.000000  0.000000       3.0   3.000000   \n",
              "May        1.196177  0.000000  0.0  0.000000  0.000000       0.0   3.000000   \n",
              "June       3.000000  0.000000  0.0  0.000000  0.000000       0.0   3.000000   \n",
              "July       0.000000  0.000000  0.0  3.000000  1.207644       0.0   3.000000   \n",
              "August     2.709695  0.000000  0.0  1.500000  0.000000       0.0   0.000000   \n",
              "September  0.607204  0.000000  0.0  3.000000  0.000000       3.0   0.000000   \n",
              "October    0.000000  0.000000  0.0  3.000000  0.000000       3.0   3.000000   \n",
              "November   3.000000  0.000000  0.0  1.182065  0.000000       0.0   3.000000   \n",
              "December   3.000000  2.108393  0.0  0.000000  3.000000       0.0   0.000000   \n",
              "\n",
              "           Snapchat   Twitter     Email  \n",
              "Month                                    \n",
              "January         0.0  0.000000  3.000000  \n",
              "February        0.0  1.791000  0.000000  \n",
              "March           0.0  3.000000  0.000000  \n",
              "April           0.0  1.199707  0.000000  \n",
              "May             0.0  3.000000  3.000000  \n",
              "June            0.0  1.201481  3.000000  \n",
              "July            0.0  3.000000  0.000000  \n",
              "August          0.0  3.000000  3.000000  \n",
              "September       0.0  3.000000  0.607204  \n",
              "October         0.0  0.000000  1.197045  \n",
              "November        0.0  0.000000  3.000000  \n",
              "December        0.0  0.000000  2.108393  "
            ],
            "text/html": [
              "\n",
              "  <div id=\"df-66e5ff3c-83b5-437d-ba3e-7ebf97fbcf3e\">\n",
              "    <div class=\"colab-df-container\">\n",
              "      <div>\n",
              "<style scoped>\n",
              "    .dataframe tbody tr th:only-of-type {\n",
              "        vertical-align: middle;\n",
              "    }\n",
              "\n",
              "    .dataframe tbody tr th {\n",
              "        vertical-align: top;\n",
              "    }\n",
              "\n",
              "    .dataframe thead th {\n",
              "        text-align: right;\n",
              "    }\n",
              "</style>\n",
              "<table border=\"1\" class=\"dataframe\">\n",
              "  <thead>\n",
              "    <tr style=\"text-align: right;\">\n",
              "      <th></th>\n",
              "      <th>Print</th>\n",
              "      <th>TV</th>\n",
              "      <th>SEO</th>\n",
              "      <th>AdWords</th>\n",
              "      <th>Facebook</th>\n",
              "      <th>LinkedIn</th>\n",
              "      <th>Instagram</th>\n",
              "      <th>Snapchat</th>\n",
              "      <th>Twitter</th>\n",
              "      <th>Email</th>\n",
              "    </tr>\n",
              "    <tr>\n",
              "      <th>Month</th>\n",
              "      <th></th>\n",
              "      <th></th>\n",
              "      <th></th>\n",
              "      <th></th>\n",
              "      <th></th>\n",
              "      <th></th>\n",
              "      <th></th>\n",
              "      <th></th>\n",
              "      <th></th>\n",
              "      <th></th>\n",
              "    </tr>\n",
              "  </thead>\n",
              "  <tbody>\n",
              "    <tr>\n",
              "      <th>January</th>\n",
              "      <td>3.000000</td>\n",
              "      <td>0.000000</td>\n",
              "      <td>0.0</td>\n",
              "      <td>1.333333</td>\n",
              "      <td>0.000000</td>\n",
              "      <td>0.0</td>\n",
              "      <td>2.666667</td>\n",
              "      <td>0.0</td>\n",
              "      <td>0.000000</td>\n",
              "      <td>3.000000</td>\n",
              "    </tr>\n",
              "    <tr>\n",
              "      <th>February</th>\n",
              "      <td>3.000000</td>\n",
              "      <td>0.000000</td>\n",
              "      <td>0.0</td>\n",
              "      <td>2.395500</td>\n",
              "      <td>3.000000</td>\n",
              "      <td>0.0</td>\n",
              "      <td>0.000000</td>\n",
              "      <td>0.0</td>\n",
              "      <td>1.791000</td>\n",
              "      <td>0.000000</td>\n",
              "    </tr>\n",
              "    <tr>\n",
              "      <th>March</th>\n",
              "      <td>0.000000</td>\n",
              "      <td>0.000000</td>\n",
              "      <td>0.0</td>\n",
              "      <td>3.000000</td>\n",
              "      <td>0.000000</td>\n",
              "      <td>3.0</td>\n",
              "      <td>1.199429</td>\n",
              "      <td>0.0</td>\n",
              "      <td>3.000000</td>\n",
              "      <td>0.000000</td>\n",
              "    </tr>\n",
              "    <tr>\n",
              "      <th>April</th>\n",
              "      <td>0.000000</td>\n",
              "      <td>0.000000</td>\n",
              "      <td>0.0</td>\n",
              "      <td>3.000000</td>\n",
              "      <td>0.000000</td>\n",
              "      <td>3.0</td>\n",
              "      <td>3.000000</td>\n",
              "      <td>0.0</td>\n",
              "      <td>1.199707</td>\n",
              "      <td>0.000000</td>\n",
              "    </tr>\n",
              "    <tr>\n",
              "      <th>May</th>\n",
              "      <td>1.196177</td>\n",
              "      <td>0.000000</td>\n",
              "      <td>0.0</td>\n",
              "      <td>0.000000</td>\n",
              "      <td>0.000000</td>\n",
              "      <td>0.0</td>\n",
              "      <td>3.000000</td>\n",
              "      <td>0.0</td>\n",
              "      <td>3.000000</td>\n",
              "      <td>3.000000</td>\n",
              "    </tr>\n",
              "    <tr>\n",
              "      <th>June</th>\n",
              "      <td>3.000000</td>\n",
              "      <td>0.000000</td>\n",
              "      <td>0.0</td>\n",
              "      <td>0.000000</td>\n",
              "      <td>0.000000</td>\n",
              "      <td>0.0</td>\n",
              "      <td>3.000000</td>\n",
              "      <td>0.0</td>\n",
              "      <td>1.201481</td>\n",
              "      <td>3.000000</td>\n",
              "    </tr>\n",
              "    <tr>\n",
              "      <th>July</th>\n",
              "      <td>0.000000</td>\n",
              "      <td>0.000000</td>\n",
              "      <td>0.0</td>\n",
              "      <td>3.000000</td>\n",
              "      <td>1.207644</td>\n",
              "      <td>0.0</td>\n",
              "      <td>3.000000</td>\n",
              "      <td>0.0</td>\n",
              "      <td>3.000000</td>\n",
              "      <td>0.000000</td>\n",
              "    </tr>\n",
              "    <tr>\n",
              "      <th>August</th>\n",
              "      <td>2.709695</td>\n",
              "      <td>0.000000</td>\n",
              "      <td>0.0</td>\n",
              "      <td>1.500000</td>\n",
              "      <td>0.000000</td>\n",
              "      <td>0.0</td>\n",
              "      <td>0.000000</td>\n",
              "      <td>0.0</td>\n",
              "      <td>3.000000</td>\n",
              "      <td>3.000000</td>\n",
              "    </tr>\n",
              "    <tr>\n",
              "      <th>September</th>\n",
              "      <td>0.607204</td>\n",
              "      <td>0.000000</td>\n",
              "      <td>0.0</td>\n",
              "      <td>3.000000</td>\n",
              "      <td>0.000000</td>\n",
              "      <td>3.0</td>\n",
              "      <td>0.000000</td>\n",
              "      <td>0.0</td>\n",
              "      <td>3.000000</td>\n",
              "      <td>0.607204</td>\n",
              "    </tr>\n",
              "    <tr>\n",
              "      <th>October</th>\n",
              "      <td>0.000000</td>\n",
              "      <td>0.000000</td>\n",
              "      <td>0.0</td>\n",
              "      <td>3.000000</td>\n",
              "      <td>0.000000</td>\n",
              "      <td>3.0</td>\n",
              "      <td>3.000000</td>\n",
              "      <td>0.0</td>\n",
              "      <td>0.000000</td>\n",
              "      <td>1.197045</td>\n",
              "    </tr>\n",
              "    <tr>\n",
              "      <th>November</th>\n",
              "      <td>3.000000</td>\n",
              "      <td>0.000000</td>\n",
              "      <td>0.0</td>\n",
              "      <td>1.182065</td>\n",
              "      <td>0.000000</td>\n",
              "      <td>0.0</td>\n",
              "      <td>3.000000</td>\n",
              "      <td>0.0</td>\n",
              "      <td>0.000000</td>\n",
              "      <td>3.000000</td>\n",
              "    </tr>\n",
              "    <tr>\n",
              "      <th>December</th>\n",
              "      <td>3.000000</td>\n",
              "      <td>2.108393</td>\n",
              "      <td>0.0</td>\n",
              "      <td>0.000000</td>\n",
              "      <td>3.000000</td>\n",
              "      <td>0.0</td>\n",
              "      <td>0.000000</td>\n",
              "      <td>0.0</td>\n",
              "      <td>0.000000</td>\n",
              "      <td>2.108393</td>\n",
              "    </tr>\n",
              "  </tbody>\n",
              "</table>\n",
              "</div>\n",
              "      <button class=\"colab-df-convert\" onclick=\"convertToInteractive('df-66e5ff3c-83b5-437d-ba3e-7ebf97fbcf3e')\"\n",
              "              title=\"Convert this dataframe to an interactive table.\"\n",
              "              style=\"display:none;\">\n",
              "        \n",
              "  <svg xmlns=\"http://www.w3.org/2000/svg\" height=\"24px\"viewBox=\"0 0 24 24\"\n",
              "       width=\"24px\">\n",
              "    <path d=\"M0 0h24v24H0V0z\" fill=\"none\"/>\n",
              "    <path d=\"M18.56 5.44l.94 2.06.94-2.06 2.06-.94-2.06-.94-.94-2.06-.94 2.06-2.06.94zm-11 1L8.5 8.5l.94-2.06 2.06-.94-2.06-.94L8.5 2.5l-.94 2.06-2.06.94zm10 10l.94 2.06.94-2.06 2.06-.94-2.06-.94-.94-2.06-.94 2.06-2.06.94z\"/><path d=\"M17.41 7.96l-1.37-1.37c-.4-.4-.92-.59-1.43-.59-.52 0-1.04.2-1.43.59L10.3 9.45l-7.72 7.72c-.78.78-.78 2.05 0 2.83L4 21.41c.39.39.9.59 1.41.59.51 0 1.02-.2 1.41-.59l7.78-7.78 2.81-2.81c.8-.78.8-2.07 0-2.86zM5.41 20L4 18.59l7.72-7.72 1.47 1.35L5.41 20z\"/>\n",
              "  </svg>\n",
              "      </button>\n",
              "      \n",
              "  <style>\n",
              "    .colab-df-container {\n",
              "      display:flex;\n",
              "      flex-wrap:wrap;\n",
              "      gap: 12px;\n",
              "    }\n",
              "\n",
              "    .colab-df-convert {\n",
              "      background-color: #E8F0FE;\n",
              "      border: none;\n",
              "      border-radius: 50%;\n",
              "      cursor: pointer;\n",
              "      display: none;\n",
              "      fill: #1967D2;\n",
              "      height: 32px;\n",
              "      padding: 0 0 0 0;\n",
              "      width: 32px;\n",
              "    }\n",
              "\n",
              "    .colab-df-convert:hover {\n",
              "      background-color: #E2EBFA;\n",
              "      box-shadow: 0px 1px 2px rgba(60, 64, 67, 0.3), 0px 1px 3px 1px rgba(60, 64, 67, 0.15);\n",
              "      fill: #174EA6;\n",
              "    }\n",
              "\n",
              "    [theme=dark] .colab-df-convert {\n",
              "      background-color: #3B4455;\n",
              "      fill: #D2E3FC;\n",
              "    }\n",
              "\n",
              "    [theme=dark] .colab-df-convert:hover {\n",
              "      background-color: #434B5C;\n",
              "      box-shadow: 0px 1px 3px 1px rgba(0, 0, 0, 0.15);\n",
              "      filter: drop-shadow(0px 1px 2px rgba(0, 0, 0, 0.3));\n",
              "      fill: #FFFFFF;\n",
              "    }\n",
              "  </style>\n",
              "\n",
              "      <script>\n",
              "        const buttonEl =\n",
              "          document.querySelector('#df-66e5ff3c-83b5-437d-ba3e-7ebf97fbcf3e button.colab-df-convert');\n",
              "        buttonEl.style.display =\n",
              "          google.colab.kernel.accessAllowed ? 'block' : 'none';\n",
              "\n",
              "        async function convertToInteractive(key) {\n",
              "          const element = document.querySelector('#df-66e5ff3c-83b5-437d-ba3e-7ebf97fbcf3e');\n",
              "          const dataTable =\n",
              "            await google.colab.kernel.invokeFunction('convertToInteractive',\n",
              "                                                     [key], {});\n",
              "          if (!dataTable) return;\n",
              "\n",
              "          const docLinkHtml = 'Like what you see? Visit the ' +\n",
              "            '<a target=\"_blank\" href=https://colab.research.google.com/notebooks/data_table.ipynb>data table notebook</a>'\n",
              "            + ' to learn more about interactive tables.';\n",
              "          element.innerHTML = '';\n",
              "          dataTable['output_type'] = 'display_data';\n",
              "          await google.colab.output.renderOutput(dataTable, element);\n",
              "          const docLink = document.createElement('div');\n",
              "          docLink.innerHTML = docLinkHtml;\n",
              "          element.appendChild(docLink);\n",
              "        }\n",
              "      </script>\n",
              "    </div>\n",
              "  </div>\n",
              "  "
            ]
          },
          "metadata": {}
        }
      ]
    },
    {
      "cell_type": "markdown",
      "source": [
        "#Task 8"
      ],
      "metadata": {
        "id": "mDx2JHRr3-6d"
      }
    },
    {
      "cell_type": "markdown",
      "source": [
        "A stable budget is defined as a monthly allocation such that for each platform the monthly\n",
        "change in spend is no more than $1M. Is the allocation you found stable? If it isn’t, you do not\n",
        "need to solve a new optimization model. Describe how my might model this?"
      ],
      "metadata": {
        "id": "QddYmeZpUmQs"
      }
    },
    {
      "cell_type": "markdown",
      "source": [
        "**Month over Month Variation in Allocation is shown below:**"
      ],
      "metadata": {
        "id": "E_K4wxBPTZ5y"
      }
    },
    {
      "cell_type": "code",
      "source": [
        "# Print MoM values for each month - set to 0 for January by default\n",
        "diff = [np.zeros(10)]\n",
        "for j in range(1,12):\n",
        "    diff.append(opt_allocation[j]-opt_allocation[j-1])\n",
        "\n",
        "for k in range(len(diff)):\n",
        "  print(roi_mat.index[k])\n",
        "  print(diff[k])\n",
        "  print('\\n')"
      ],
      "metadata": {
        "id": "4IOV_tKv4DA-",
        "colab": {
          "base_uri": "https://localhost:8080/"
        },
        "outputId": "9c9ab9a9-ee63-45a2-bf88-a00ad4a72d5e"
      },
      "execution_count": null,
      "outputs": [
        {
          "output_type": "stream",
          "name": "stdout",
          "text": [
            "January\n",
            "[0. 0. 0. 0. 0. 0. 0. 0. 0. 0.]\n",
            "\n",
            "\n",
            "February\n",
            "[ 0.          0.          0.          1.06216667  3.          0.\n",
            " -2.66666667  0.          1.791      -3.        ]\n",
            "\n",
            "\n",
            "March\n",
            "[-3.          0.          0.          0.6045     -3.          3.\n",
            "  1.19942866  0.          1.209       0.        ]\n",
            "\n",
            "\n",
            "April\n",
            "[ 0.          0.          0.          0.          0.          0.\n",
            "  1.80057134  0.         -1.80029329  0.        ]\n",
            "\n",
            "\n",
            "May\n",
            "[ 1.19617694  0.          0.         -3.          0.         -3.\n",
            "  0.          0.          1.80029329  3.        ]\n",
            "\n",
            "\n",
            "June\n",
            "[ 1.80382306  0.          0.          0.          0.          0.\n",
            "  0.          0.         -1.79851949  0.        ]\n",
            "\n",
            "\n",
            "July\n",
            "[-3.          0.          0.          3.          1.2076445   0.\n",
            "  0.          0.          1.79851949 -3.        ]\n",
            "\n",
            "\n",
            "August\n",
            "[ 2.70969487  0.          0.         -1.5        -1.2076445   0.\n",
            " -3.          0.          0.          3.        ]\n",
            "\n",
            "\n",
            "September\n",
            "[-2.10249108  0.          0.          1.5         0.          3.\n",
            "  0.          0.          0.         -2.39279621]\n",
            "\n",
            "\n",
            "October\n",
            "[-0.60720379  0.          0.          0.          0.          0.\n",
            "  3.          0.         -3.          0.58984155]\n",
            "\n",
            "\n",
            "November\n",
            "[ 3.          0.          0.         -1.81793478  0.         -3.\n",
            "  0.          0.          0.          1.80295466]\n",
            "\n",
            "\n",
            "December\n",
            "[ 0.          2.10839271  0.         -1.18206522  3.          0.\n",
            " -3.          0.          0.         -0.89160729]\n",
            "\n",
            "\n"
          ]
        }
      ]
    },
    {
      "cell_type": "markdown",
      "source": [
        "**There is a change in allocation of 1M or more in atleast one platform each month. Thus, this is not a stable allocation**\n",
        "\n",
        "In order to make the allocations stable each month, we could need additional constraints that dictate the Month over Month change in allocation is less than 1M.\n",
        "\n",
        "To be able to do this, we would need to run a new model with 10*12 = 120 decision variables - one for each month-platform combination\n",
        "\n",
        "**A constraint for month over month change would then look as follows:**\n",
        "\n",
        "Jan: a1 to a10 for respect platforms where subscript 1 - print, 2 - TV, 3- SEO and so on with 10 being Email.\n",
        "\n",
        "Feb: b1 to b10 with similar subscripting\n",
        "\n",
        "We could define similar variables for March to December as well. \n",
        "\n",
        "**A MoM constraint would then look as follows:**\n",
        "\n",
        "Feb MoM: (b1-a1)< 1M, (b2-a2) < 1M ....... (b10-a10) < 1M \n",
        "Mar MoM: (c1-b1)< 1M, (c2-b2) < 1M ....... (c10-b10) < 1M\n",
        "\n",
        "**We could define MoM constraints for March to December as well.** \n",
        "\n",
        "What would the total number of constraints be then: \n",
        "1. 12 constraints, 1 for each month, restricting total spend to 10M \n",
        "2. 12 constraints for Print + TV <= Facebook + Email \n",
        "3. 12 constraints for Facebook + LinkedIn + Instagram + Snapchat +  Twitter >= 2 * (AdWords +SEO)\n",
        "4. 120 constraints for spend on each channel being less than 3M \n",
        "5. 110 Month over Month constraints\n",
        "6. 120 non negativity constraints \n",
        "\n",
        "That would be a total of 386 constraints to apply to the new model.\n",
        "\n",
        "\n",
        "\n",
        "\n",
        "\n"
      ],
      "metadata": {
        "id": "hcYaVdhqT8is"
      }
    }
  ]
}