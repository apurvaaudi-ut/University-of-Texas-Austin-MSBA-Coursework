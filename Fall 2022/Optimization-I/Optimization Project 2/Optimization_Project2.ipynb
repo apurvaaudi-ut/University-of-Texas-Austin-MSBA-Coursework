{
 "cells": [
  {
   "cell_type": "markdown",
   "id": "daf362f6",
   "metadata": {},
   "source": [
    "## Optimization Project 2 - Integer Programming\n",
    "\n",
    "Submitted By: Group 6\n",
    "- Apurva Audi (AA85254)\n",
    "- Soumya Agrawal (SA55638)\n",
    "- Troy Austin (TA23234)\n",
    "- Vivek Dhulipalla (VD6543)"
   ]
  },
  {
   "cell_type": "markdown",
   "id": "045e3961",
   "metadata": {},
   "source": [
    "### Problem Statement\n",
    "\n",
    "Evaluating the stock selection and MIP methods to optimize the portfolio funds"
   ]
  },
  {
   "cell_type": "markdown",
   "id": "42b044b0",
   "metadata": {},
   "source": [
    "### Importing relevant libraries"
   ]
  },
  {
   "cell_type": "code",
   "execution_count": 14,
   "id": "fd6568ac",
   "metadata": {
    "ExecuteTime": {
     "end_time": "2022-10-28T23:56:15.666652Z",
     "start_time": "2022-10-28T23:56:13.262598Z"
    },
    "colab": {
     "base_uri": "https://localhost:8080/"
    },
    "id": "fd6568ac",
    "outputId": "ddc7146e-f0f7-41e5-bc2a-30c2c17ede78"
   },
   "outputs": [],
   "source": [
    "import pandas as pd\n",
    "import numpy as np\n",
    "import gurobipy as gp\n",
    "\n",
    "import matplotlib.pyplot as plt\n",
    "import seaborn as sn\n",
    "\n",
    "gurobi_time_limit =3600\n",
    "\n",
    "import warnings\n",
    "warnings.filterwarnings(\"ignore\", category=DeprecationWarning)"
   ]
  },
  {
   "cell_type": "code",
   "execution_count": 15,
   "id": "b212b856",
   "metadata": {
    "ExecuteTime": {
     "end_time": "2022-10-28T23:56:15.684326Z",
     "start_time": "2022-10-28T23:56:15.668035Z"
    },
    "id": "b212b856"
   },
   "outputs": [],
   "source": [
    "#Importing csv files\n",
    "stocks2019 = pd.read_csv(\"stocks2019.csv\")\n",
    "stocks2020 = pd.read_csv(\"stocks2020.csv\")"
   ]
  },
  {
   "cell_type": "code",
   "execution_count": 16,
   "id": "de3fb73d",
   "metadata": {
    "ExecuteTime": {
     "end_time": "2022-10-28T23:56:15.688919Z",
     "start_time": "2022-10-28T23:56:15.685388Z"
    },
    "colab": {
     "base_uri": "https://localhost:8080/"
    },
    "id": "de3fb73d",
    "outputId": "01df08fe-9633-4ae9-8154-8eeb57d20300"
   },
   "outputs": [
    {
     "name": "stdout",
     "output_type": "stream",
     "text": [
      "(251, 102)\n",
      "(189, 102)\n"
     ]
    }
   ],
   "source": [
    "print(stocks2019.shape)\n",
    "print(stocks2020.shape)"
   ]
  },
  {
   "cell_type": "code",
   "execution_count": 17,
   "id": "44d36a56",
   "metadata": {
    "ExecuteTime": {
     "end_time": "2022-10-28T23:56:15.694765Z",
     "start_time": "2022-10-28T23:56:15.691897Z"
    },
    "id": "44d36a56"
   },
   "outputs": [],
   "source": [
    "'''\n",
    "Function for generic optimizer\n",
    "'''\n",
    "def calculate(obj, A, b, sense, rule, vtype = None, ub = None, lb = None,time_limit=3600):\n",
    "    Model = gp.Model()\n",
    "    ModX = Model.addMVar(len(obj), vtype = vtype, ub = ub, lb = lb) \n",
    "    ModCon = Model.addMConstrs(A, ModX, sense, b)\n",
    "    if rule == 'Max':\n",
    "        Model.setMObjective(None, obj, 0, sense = gp.GRB.MAXIMIZE)\n",
    "    else:\n",
    "        Model.setMObjective(None, obj, 0, sense = gp.GRB.MINIMIZE)  \n",
    "    Model.Params.OutputFlag = 0\n",
    "    Model.Params.TimeLimit = time_limit\n",
    "    Model.optimize()\n",
    "    return Model.objVal, ModX.x\n",
    "\n",
    "'''\n",
    "Function to return similarity matrix of daily returns\n",
    "\n",
    "'''\n",
    "\n",
    "def return_sim(df):    \n",
    "    df.rename(columns={df.columns[0]: 'Date'}, inplace = True) \n",
    "    df.set_index('Date', inplace = True)\n",
    "    Ret_df = df.pct_change()[1:] \n",
    "    Corr_Sim = Ret_df.iloc[:,1:].corr()\n",
    "    return Ret_df, Corr_Sim"
   ]
  },
  {
   "cell_type": "code",
   "execution_count": 18,
   "id": "053944eb",
   "metadata": {
    "ExecuteTime": {
     "end_time": "2022-10-28T23:56:15.706077Z",
     "start_time": "2022-10-28T23:56:15.700003Z"
    },
    "id": "053944eb"
   },
   "outputs": [],
   "source": [
    "'''\n",
    "Function to select the top m stocks from the list of stocks\n",
    "\n",
    "'''\n",
    "\n",
    "def select_stocks(m, p, df):    \n",
    "    df_stocks = df.iloc[:, 1:]                             # Filter out Index from Input DataFrame\n",
    "    n = len(p)\n",
    "    obj = np.zeros(n*n + n)                                # Objective contains (n*n) X_ij and n y_j Decision Variables\n",
    "    obj[:n*n] = p.to_numpy().flatten()                     # Setting X_ij Coefficients to p_ij\n",
    "    #addinf constrains \n",
    "    A = np.zeros((n**2 + n + 1, n**2 + n))\n",
    "    b = np.zeros(n**2 + n + 1)\n",
    "    sense = np.array([''] * (n**2 + n + 1))\n",
    "    \n",
    "    # Select exactly m Stocks to be held in the Fund\n",
    "    A[0, n*n:] = 1\n",
    "    b[0] = m\n",
    "    sense[0] = '='\n",
    "    \n",
    "    # Each Stock i has exactly one representative Stock j in the Index\n",
    "    for i in range(1, n+1):\n",
    "        for j in range((i-1)*n, (i-1)*n + n):\n",
    "            A[i,j] = 1\n",
    "        b[i] = 1\n",
    "        sense[i] = '='\n",
    "    \n",
    "    # Stock i is best represented by Stock j only if j is in the Fund\n",
    "    row = i + 1\n",
    "    for i in range(0, n):\n",
    "        for j in range(0, n):\n",
    "            A[row, i*n + j] = 1\n",
    "            A[row, n*n + j] = -1\n",
    "            b[row] = 0\n",
    "            sense[row] = '<'\n",
    "            row += 1\n",
    "    \n",
    "    vtype = ['B'] * len(obj)\n",
    "    res_obj, res_x = calculate(obj, A, b, sense, 'Max', vtype)\n",
    "    res_stocks = res_x[n*n:]                              # Extract only y_j Values\n",
    "    index_stock = np.where(res_stocks == 1)[0].tolist()\n",
    "    stockname = df_stocks.iloc[:,index_stock].columns.tolist()\n",
    "    \n",
    "    return index_stock, stockname                         # Return stock indexes and stock names"
   ]
  },
  {
   "cell_type": "code",
   "execution_count": 19,
   "id": "fa186f0b",
   "metadata": {
    "ExecuteTime": {
     "end_time": "2022-10-28T23:56:15.712570Z",
     "start_time": "2022-10-28T23:56:15.707290Z"
    },
    "id": "fa186f0b"
   },
   "outputs": [],
   "source": [
    "'''\n",
    "Function to compute portfolio weights using the decision variables and linear constraints \n",
    "\n",
    "'''\n",
    "def stockportfolioweights(m, df, stockname):\n",
    "    df_stock_returns = df[stockname]\n",
    "    df_index_returns = df.iloc[:,0].to_frame()\n",
    "    T = len(df_stock_returns)\n",
    "    obj = np.zeros(m + T)                                            # Objective contains m w_i and T d_t Decision Variables\n",
    "    obj[m:] = 1                                                      # Setting y_t Coefficients to 1\n",
    "    A = np.zeros((2*T + 1, m + T))\n",
    "    b = np.zeros(2*T + 1)\n",
    "    sense = np.array([''] * (2*T + 1))\n",
    "    A[0, :m] = 1\n",
    "    b[0] = 1\n",
    "    sense[0] = '='\n",
    "    \n",
    "    # Break Non-linearity of Absolute function into Linear Constraints\n",
    "    for t in range(1, T+1):\n",
    "        A[t, 0:m] = df_stock_returns.iloc[t-1].tolist()\n",
    "        A[t, m+t-1] = 1 \n",
    "        b[t] = df_index_returns.iloc[t-1][0]\n",
    "        sense[t] = '>'\n",
    "        A[t+T, 0:m] = [i * (-1) for i in df_stock_returns.iloc[t-1].tolist()]\n",
    "        A[t+T, m+t-1] = 1\n",
    "        b[t+T] = (-1)*df_index_returns.iloc[t-1][0]\n",
    "        sense[t+T] = '>'\n",
    "    res_obj, res_x = calculate(obj, A, b,sense,'Min')\n",
    "    \n",
    "    # Extract only the Stock Weights\n",
    "    weight_stock = res_x[:m]\n",
    "\n",
    "    return weight_stock"
   ]
  },
  {
   "cell_type": "code",
   "execution_count": 20,
   "id": "6ddc3f3a",
   "metadata": {
    "ExecuteTime": {
     "end_time": "2022-10-28T23:56:15.716977Z",
     "start_time": "2022-10-28T23:56:15.713650Z"
    },
    "id": "6ddc3f3a"
   },
   "outputs": [],
   "source": [
    "'''\n",
    "Function to compute abosulte deviations using Stock Selection and MIP methods\n",
    "\n",
    "'''\n",
    "\n",
    "def perform_measure(returnmatrix, chosen_stocks,fundweightindex):\n",
    "    # Calculating the absolute deviations from the NASDAQ data\n",
    "    returnweighted = np.array(returnmatrix.loc[:,chosen_stocks]) * fundweightindex\n",
    "    returnweighted = returnweighted.sum(axis = 1)\n",
    "    TotalAbsoluteDeviation = np.sum(np.abs(returnmatrix.iloc[:,0].to_numpy().flatten() - returnweighted))  \n",
    "    return TotalAbsoluteDeviation\n",
    "\n",
    "'''\n",
    "Function to return weights of the chosen stocks\n",
    "\n",
    "'''\n",
    "\n",
    "def returnweighted(returnmatrix, chosen_stocks,fundweightindex):\n",
    "    returnweighted = np.array(returnmatrix.loc[:,chosen_stocks]) * fundweightindex\n",
    "    returnweighted = returnweighted.sum(axis = 1)\n",
    "    return returnweighted\n",
    "\n",
    "'''\n",
    "Function to calculate future returns of the fund stocks and their weights\n",
    "\n",
    "'''\n",
    "\n",
    "def calculateFutureReturn(returns_df, fund_stocks, fund_weights, index_col='NDX'):\n",
    "    return np.sum(np.abs(np.array(returns_df[index_col]) - (np.array(returns_df[fund_stocks]) @ fund_weights)))\n",
    "\n",
    "'''\n",
    "Function to compute Cumulative returns of the fund stocks and their weights\n",
    "\n",
    "'''\n",
    "\n",
    "def dailyCumulativeReturn(daily_return, fund_stocks, fund_weights, index_col='NDX'):\n",
    "    daily_return = daily_return.T.copy()\n",
    "    daily_return.insert(0, 0, 100)\n",
    "    daily_return = daily_return.T\n",
    "    daily_return = daily_return[[index_col] + list(fund_stocks)]\n",
    "    for i in range(len(daily_return)-1):\n",
    "        daily_return.iloc[i+1] = daily_return.iloc[i]*(1+daily_return.iloc[i+1])\n",
    "    return daily_return[fund_stocks] @ fund_weights, daily_return[index_col]"
   ]
  },
  {
   "cell_type": "markdown",
   "id": "5190cbdc",
   "metadata": {},
   "source": [
    "### Question-1 : Ccomputing Returns Correlation Matrix"
   ]
  },
  {
   "cell_type": "code",
   "execution_count": 21,
   "id": "2562db35",
   "metadata": {
    "ExecuteTime": {
     "end_time": "2022-10-28T23:56:15.763321Z",
     "start_time": "2022-10-28T23:56:15.725329Z"
    },
    "colab": {
     "base_uri": "https://localhost:8080/",
     "height": 693
    },
    "id": "2562db35",
    "outputId": "6381237c-d37b-4917-f44f-3f0487db9d25"
   },
   "outputs": [
    {
     "data": {
      "text/html": [
       "<div>\n",
       "<style scoped>\n",
       "    .dataframe tbody tr th:only-of-type {\n",
       "        vertical-align: middle;\n",
       "    }\n",
       "\n",
       "    .dataframe tbody tr th {\n",
       "        vertical-align: top;\n",
       "    }\n",
       "\n",
       "    .dataframe thead th {\n",
       "        text-align: right;\n",
       "    }\n",
       "</style>\n",
       "<table border=\"1\" class=\"dataframe\">\n",
       "  <thead>\n",
       "    <tr style=\"text-align: right;\">\n",
       "      <th></th>\n",
       "      <th>NDX</th>\n",
       "      <th>ATVI</th>\n",
       "      <th>ADBE</th>\n",
       "      <th>AMD</th>\n",
       "      <th>ALXN</th>\n",
       "      <th>ALGN</th>\n",
       "      <th>GOOGL</th>\n",
       "      <th>GOOG</th>\n",
       "      <th>AMZN</th>\n",
       "      <th>AMGN</th>\n",
       "      <th>...</th>\n",
       "      <th>TCOM</th>\n",
       "      <th>ULTA</th>\n",
       "      <th>VRSN</th>\n",
       "      <th>VRSK</th>\n",
       "      <th>VRTX</th>\n",
       "      <th>WBA</th>\n",
       "      <th>WDAY</th>\n",
       "      <th>WDC</th>\n",
       "      <th>XEL</th>\n",
       "      <th>XLNX</th>\n",
       "    </tr>\n",
       "    <tr>\n",
       "      <th>Date</th>\n",
       "      <th></th>\n",
       "      <th></th>\n",
       "      <th></th>\n",
       "      <th></th>\n",
       "      <th></th>\n",
       "      <th></th>\n",
       "      <th></th>\n",
       "      <th></th>\n",
       "      <th></th>\n",
       "      <th></th>\n",
       "      <th></th>\n",
       "      <th></th>\n",
       "      <th></th>\n",
       "      <th></th>\n",
       "      <th></th>\n",
       "      <th></th>\n",
       "      <th></th>\n",
       "      <th></th>\n",
       "      <th></th>\n",
       "      <th></th>\n",
       "      <th></th>\n",
       "    </tr>\n",
       "  </thead>\n",
       "  <tbody>\n",
       "    <tr>\n",
       "      <th>2019-01-03</th>\n",
       "      <td>-0.033602</td>\n",
       "      <td>-0.035509</td>\n",
       "      <td>-0.039498</td>\n",
       "      <td>-0.094530</td>\n",
       "      <td>0.022030</td>\n",
       "      <td>-0.085791</td>\n",
       "      <td>-0.027696</td>\n",
       "      <td>-0.028484</td>\n",
       "      <td>-0.025242</td>\n",
       "      <td>-0.015216</td>\n",
       "      <td>...</td>\n",
       "      <td>-0.022834</td>\n",
       "      <td>-0.018591</td>\n",
       "      <td>-0.034989</td>\n",
       "      <td>-0.030557</td>\n",
       "      <td>-0.002133</td>\n",
       "      <td>-0.010435</td>\n",
       "      <td>-0.035808</td>\n",
       "      <td>-0.068217</td>\n",
       "      <td>-0.003940</td>\n",
       "      <td>-0.037651</td>\n",
       "    </tr>\n",
       "    <tr>\n",
       "      <th>2019-01-04</th>\n",
       "      <td>0.044824</td>\n",
       "      <td>0.039903</td>\n",
       "      <td>0.048632</td>\n",
       "      <td>0.114370</td>\n",
       "      <td>0.057779</td>\n",
       "      <td>0.010445</td>\n",
       "      <td>0.051294</td>\n",
       "      <td>0.053786</td>\n",
       "      <td>0.050064</td>\n",
       "      <td>0.034184</td>\n",
       "      <td>...</td>\n",
       "      <td>0.058976</td>\n",
       "      <td>0.047954</td>\n",
       "      <td>0.044744</td>\n",
       "      <td>0.044147</td>\n",
       "      <td>0.054785</td>\n",
       "      <td>0.033269</td>\n",
       "      <td>0.060577</td>\n",
       "      <td>0.042356</td>\n",
       "      <td>0.009786</td>\n",
       "      <td>0.046303</td>\n",
       "    </tr>\n",
       "    <tr>\n",
       "      <th>2019-01-07</th>\n",
       "      <td>0.010211</td>\n",
       "      <td>0.028196</td>\n",
       "      <td>0.013573</td>\n",
       "      <td>0.082632</td>\n",
       "      <td>0.018302</td>\n",
       "      <td>0.017192</td>\n",
       "      <td>-0.001994</td>\n",
       "      <td>-0.002167</td>\n",
       "      <td>0.034353</td>\n",
       "      <td>0.013457</td>\n",
       "      <td>...</td>\n",
       "      <td>0.022067</td>\n",
       "      <td>0.062620</td>\n",
       "      <td>0.016312</td>\n",
       "      <td>0.001000</td>\n",
       "      <td>0.018240</td>\n",
       "      <td>0.005749</td>\n",
       "      <td>0.000918</td>\n",
       "      <td>0.035522</td>\n",
       "      <td>-0.004330</td>\n",
       "      <td>0.026415</td>\n",
       "    </tr>\n",
       "    <tr>\n",
       "      <th>2019-01-08</th>\n",
       "      <td>0.009802</td>\n",
       "      <td>0.030309</td>\n",
       "      <td>0.014918</td>\n",
       "      <td>0.008751</td>\n",
       "      <td>0.006207</td>\n",
       "      <td>0.015954</td>\n",
       "      <td>0.008783</td>\n",
       "      <td>0.007385</td>\n",
       "      <td>0.016612</td>\n",
       "      <td>0.012824</td>\n",
       "      <td>...</td>\n",
       "      <td>0.010281</td>\n",
       "      <td>0.018450</td>\n",
       "      <td>0.036460</td>\n",
       "      <td>0.008902</td>\n",
       "      <td>0.013307</td>\n",
       "      <td>0.020009</td>\n",
       "      <td>0.021101</td>\n",
       "      <td>-0.009615</td>\n",
       "      <td>0.011597</td>\n",
       "      <td>-0.019051</td>\n",
       "    </tr>\n",
       "    <tr>\n",
       "      <th>2019-01-09</th>\n",
       "      <td>0.007454</td>\n",
       "      <td>0.017210</td>\n",
       "      <td>0.011819</td>\n",
       "      <td>-0.026988</td>\n",
       "      <td>0.012430</td>\n",
       "      <td>0.038196</td>\n",
       "      <td>-0.003427</td>\n",
       "      <td>-0.001505</td>\n",
       "      <td>0.001714</td>\n",
       "      <td>-0.001196</td>\n",
       "      <td>...</td>\n",
       "      <td>0.023745</td>\n",
       "      <td>0.018804</td>\n",
       "      <td>-0.008157</td>\n",
       "      <td>0.003781</td>\n",
       "      <td>0.023065</td>\n",
       "      <td>0.012050</td>\n",
       "      <td>-0.004612</td>\n",
       "      <td>0.044083</td>\n",
       "      <td>-0.007984</td>\n",
       "      <td>0.008972</td>\n",
       "    </tr>\n",
       "    <tr>\n",
       "      <th>...</th>\n",
       "      <td>...</td>\n",
       "      <td>...</td>\n",
       "      <td>...</td>\n",
       "      <td>...</td>\n",
       "      <td>...</td>\n",
       "      <td>...</td>\n",
       "      <td>...</td>\n",
       "      <td>...</td>\n",
       "      <td>...</td>\n",
       "      <td>...</td>\n",
       "      <td>...</td>\n",
       "      <td>...</td>\n",
       "      <td>...</td>\n",
       "      <td>...</td>\n",
       "      <td>...</td>\n",
       "      <td>...</td>\n",
       "      <td>...</td>\n",
       "      <td>...</td>\n",
       "      <td>...</td>\n",
       "      <td>...</td>\n",
       "      <td>...</td>\n",
       "    </tr>\n",
       "    <tr>\n",
       "      <th>2019-12-23</th>\n",
       "      <td>0.002019</td>\n",
       "      <td>-0.005572</td>\n",
       "      <td>0.004090</td>\n",
       "      <td>0.029672</td>\n",
       "      <td>0.006469</td>\n",
       "      <td>0.019239</td>\n",
       "      <td>-0.000437</td>\n",
       "      <td>-0.000556</td>\n",
       "      <td>0.003638</td>\n",
       "      <td>-0.000123</td>\n",
       "      <td>...</td>\n",
       "      <td>0.002603</td>\n",
       "      <td>0.010060</td>\n",
       "      <td>-0.000104</td>\n",
       "      <td>-0.000869</td>\n",
       "      <td>-0.003217</td>\n",
       "      <td>0.003083</td>\n",
       "      <td>-0.009273</td>\n",
       "      <td>0.026019</td>\n",
       "      <td>-0.017615</td>\n",
       "      <td>0.011868</td>\n",
       "    </tr>\n",
       "    <tr>\n",
       "      <th>2019-12-24</th>\n",
       "      <td>0.000402</td>\n",
       "      <td>-0.001358</td>\n",
       "      <td>0.002098</td>\n",
       "      <td>0.023757</td>\n",
       "      <td>-0.001630</td>\n",
       "      <td>-0.000899</td>\n",
       "      <td>-0.004590</td>\n",
       "      <td>-0.003914</td>\n",
       "      <td>-0.002114</td>\n",
       "      <td>-0.002880</td>\n",
       "      <td>...</td>\n",
       "      <td>-0.005482</td>\n",
       "      <td>-0.002095</td>\n",
       "      <td>0.001663</td>\n",
       "      <td>-0.002541</td>\n",
       "      <td>0.002637</td>\n",
       "      <td>-0.003756</td>\n",
       "      <td>0.003502</td>\n",
       "      <td>-0.007496</td>\n",
       "      <td>0.003913</td>\n",
       "      <td>-0.004146</td>\n",
       "    </tr>\n",
       "    <tr>\n",
       "      <th>2019-12-26</th>\n",
       "      <td>0.009058</td>\n",
       "      <td>0.001360</td>\n",
       "      <td>0.004732</td>\n",
       "      <td>0.001934</td>\n",
       "      <td>-0.012242</td>\n",
       "      <td>0.001331</td>\n",
       "      <td>0.013418</td>\n",
       "      <td>0.012534</td>\n",
       "      <td>0.044467</td>\n",
       "      <td>-0.001774</td>\n",
       "      <td>...</td>\n",
       "      <td>0.002901</td>\n",
       "      <td>-0.004594</td>\n",
       "      <td>0.004981</td>\n",
       "      <td>-0.002279</td>\n",
       "      <td>-0.001406</td>\n",
       "      <td>0.009426</td>\n",
       "      <td>-0.004994</td>\n",
       "      <td>0.009160</td>\n",
       "      <td>-0.001114</td>\n",
       "      <td>0.001929</td>\n",
       "    </tr>\n",
       "    <tr>\n",
       "      <th>2019-12-27</th>\n",
       "      <td>-0.000835</td>\n",
       "      <td>0.005094</td>\n",
       "      <td>-0.001238</td>\n",
       "      <td>-0.009650</td>\n",
       "      <td>-0.003488</td>\n",
       "      <td>-0.002228</td>\n",
       "      <td>-0.005747</td>\n",
       "      <td>-0.006256</td>\n",
       "      <td>0.000551</td>\n",
       "      <td>-0.001530</td>\n",
       "      <td>...</td>\n",
       "      <td>0.001157</td>\n",
       "      <td>0.007321</td>\n",
       "      <td>0.001755</td>\n",
       "      <td>-0.001680</td>\n",
       "      <td>0.003269</td>\n",
       "      <td>0.002037</td>\n",
       "      <td>0.002963</td>\n",
       "      <td>-0.010669</td>\n",
       "      <td>0.005256</td>\n",
       "      <td>-0.002635</td>\n",
       "    </tr>\n",
       "    <tr>\n",
       "      <th>2019-12-30</th>\n",
       "      <td>-0.006983</td>\n",
       "      <td>-0.005237</td>\n",
       "      <td>-0.007407</td>\n",
       "      <td>-0.014292</td>\n",
       "      <td>-0.011147</td>\n",
       "      <td>-0.007240</td>\n",
       "      <td>-0.011021</td>\n",
       "      <td>-0.011650</td>\n",
       "      <td>-0.012253</td>\n",
       "      <td>-0.005217</td>\n",
       "      <td>...</td>\n",
       "      <td>-0.011846</td>\n",
       "      <td>-0.007189</td>\n",
       "      <td>-0.008864</td>\n",
       "      <td>-0.006932</td>\n",
       "      <td>-0.009051</td>\n",
       "      <td>-0.001864</td>\n",
       "      <td>-0.012119</td>\n",
       "      <td>0.004024</td>\n",
       "      <td>0.002693</td>\n",
       "      <td>-0.007519</td>\n",
       "    </tr>\n",
       "  </tbody>\n",
       "</table>\n",
       "<p>250 rows × 101 columns</p>\n",
       "</div>"
      ],
      "text/plain": [
       "                 NDX      ATVI      ADBE       AMD      ALXN      ALGN  \\\n",
       "Date                                                                     \n",
       "2019-01-03 -0.033602 -0.035509 -0.039498 -0.094530  0.022030 -0.085791   \n",
       "2019-01-04  0.044824  0.039903  0.048632  0.114370  0.057779  0.010445   \n",
       "2019-01-07  0.010211  0.028196  0.013573  0.082632  0.018302  0.017192   \n",
       "2019-01-08  0.009802  0.030309  0.014918  0.008751  0.006207  0.015954   \n",
       "2019-01-09  0.007454  0.017210  0.011819 -0.026988  0.012430  0.038196   \n",
       "...              ...       ...       ...       ...       ...       ...   \n",
       "2019-12-23  0.002019 -0.005572  0.004090  0.029672  0.006469  0.019239   \n",
       "2019-12-24  0.000402 -0.001358  0.002098  0.023757 -0.001630 -0.000899   \n",
       "2019-12-26  0.009058  0.001360  0.004732  0.001934 -0.012242  0.001331   \n",
       "2019-12-27 -0.000835  0.005094 -0.001238 -0.009650 -0.003488 -0.002228   \n",
       "2019-12-30 -0.006983 -0.005237 -0.007407 -0.014292 -0.011147 -0.007240   \n",
       "\n",
       "               GOOGL      GOOG      AMZN      AMGN  ...      TCOM      ULTA  \\\n",
       "Date                                                ...                       \n",
       "2019-01-03 -0.027696 -0.028484 -0.025242 -0.015216  ... -0.022834 -0.018591   \n",
       "2019-01-04  0.051294  0.053786  0.050064  0.034184  ...  0.058976  0.047954   \n",
       "2019-01-07 -0.001994 -0.002167  0.034353  0.013457  ...  0.022067  0.062620   \n",
       "2019-01-08  0.008783  0.007385  0.016612  0.012824  ...  0.010281  0.018450   \n",
       "2019-01-09 -0.003427 -0.001505  0.001714 -0.001196  ...  0.023745  0.018804   \n",
       "...              ...       ...       ...       ...  ...       ...       ...   \n",
       "2019-12-23 -0.000437 -0.000556  0.003638 -0.000123  ...  0.002603  0.010060   \n",
       "2019-12-24 -0.004590 -0.003914 -0.002114 -0.002880  ... -0.005482 -0.002095   \n",
       "2019-12-26  0.013418  0.012534  0.044467 -0.001774  ...  0.002901 -0.004594   \n",
       "2019-12-27 -0.005747 -0.006256  0.000551 -0.001530  ...  0.001157  0.007321   \n",
       "2019-12-30 -0.011021 -0.011650 -0.012253 -0.005217  ... -0.011846 -0.007189   \n",
       "\n",
       "                VRSN      VRSK      VRTX       WBA      WDAY       WDC  \\\n",
       "Date                                                                     \n",
       "2019-01-03 -0.034989 -0.030557 -0.002133 -0.010435 -0.035808 -0.068217   \n",
       "2019-01-04  0.044744  0.044147  0.054785  0.033269  0.060577  0.042356   \n",
       "2019-01-07  0.016312  0.001000  0.018240  0.005749  0.000918  0.035522   \n",
       "2019-01-08  0.036460  0.008902  0.013307  0.020009  0.021101 -0.009615   \n",
       "2019-01-09 -0.008157  0.003781  0.023065  0.012050 -0.004612  0.044083   \n",
       "...              ...       ...       ...       ...       ...       ...   \n",
       "2019-12-23 -0.000104 -0.000869 -0.003217  0.003083 -0.009273  0.026019   \n",
       "2019-12-24  0.001663 -0.002541  0.002637 -0.003756  0.003502 -0.007496   \n",
       "2019-12-26  0.004981 -0.002279 -0.001406  0.009426 -0.004994  0.009160   \n",
       "2019-12-27  0.001755 -0.001680  0.003269  0.002037  0.002963 -0.010669   \n",
       "2019-12-30 -0.008864 -0.006932 -0.009051 -0.001864 -0.012119  0.004024   \n",
       "\n",
       "                 XEL      XLNX  \n",
       "Date                            \n",
       "2019-01-03 -0.003940 -0.037651  \n",
       "2019-01-04  0.009786  0.046303  \n",
       "2019-01-07 -0.004330  0.026415  \n",
       "2019-01-08  0.011597 -0.019051  \n",
       "2019-01-09 -0.007984  0.008972  \n",
       "...              ...       ...  \n",
       "2019-12-23 -0.017615  0.011868  \n",
       "2019-12-24  0.003913 -0.004146  \n",
       "2019-12-26 -0.001114  0.001929  \n",
       "2019-12-27  0.005256 -0.002635  \n",
       "2019-12-30  0.002693 -0.007519  \n",
       "\n",
       "[250 rows x 101 columns]"
      ]
     },
     "metadata": {},
     "output_type": "display_data"
    }
   ],
   "source": [
    "#Returns Correlation matrix\n",
    "return_stock19,Corr_Sim19= return_sim(stocks2019)\n",
    "display(return_stock19)"
   ]
  },
  {
   "cell_type": "code",
   "execution_count": 22,
   "id": "LagIDRW4O2uv",
   "metadata": {
    "colab": {
     "base_uri": "https://localhost:8080/",
     "height": 693
    },
    "id": "LagIDRW4O2uv",
    "outputId": "8d86a090-ff17-4f30-a4b8-b49a9ce9c861"
   },
   "outputs": [
    {
     "data": {
      "text/html": [
       "<div>\n",
       "<style scoped>\n",
       "    .dataframe tbody tr th:only-of-type {\n",
       "        vertical-align: middle;\n",
       "    }\n",
       "\n",
       "    .dataframe tbody tr th {\n",
       "        vertical-align: top;\n",
       "    }\n",
       "\n",
       "    .dataframe thead th {\n",
       "        text-align: right;\n",
       "    }\n",
       "</style>\n",
       "<table border=\"1\" class=\"dataframe\">\n",
       "  <thead>\n",
       "    <tr style=\"text-align: right;\">\n",
       "      <th></th>\n",
       "      <th>NDX</th>\n",
       "      <th>ATVI</th>\n",
       "      <th>ADBE</th>\n",
       "      <th>AMD</th>\n",
       "      <th>ALXN</th>\n",
       "      <th>ALGN</th>\n",
       "      <th>GOOGL</th>\n",
       "      <th>GOOG</th>\n",
       "      <th>AMZN</th>\n",
       "      <th>AMGN</th>\n",
       "      <th>...</th>\n",
       "      <th>TCOM</th>\n",
       "      <th>ULTA</th>\n",
       "      <th>VRSN</th>\n",
       "      <th>VRSK</th>\n",
       "      <th>VRTX</th>\n",
       "      <th>WBA</th>\n",
       "      <th>WDAY</th>\n",
       "      <th>WDC</th>\n",
       "      <th>XEL</th>\n",
       "      <th>XLNX</th>\n",
       "    </tr>\n",
       "    <tr>\n",
       "      <th>Date</th>\n",
       "      <th></th>\n",
       "      <th></th>\n",
       "      <th></th>\n",
       "      <th></th>\n",
       "      <th></th>\n",
       "      <th></th>\n",
       "      <th></th>\n",
       "      <th></th>\n",
       "      <th></th>\n",
       "      <th></th>\n",
       "      <th></th>\n",
       "      <th></th>\n",
       "      <th></th>\n",
       "      <th></th>\n",
       "      <th></th>\n",
       "      <th></th>\n",
       "      <th></th>\n",
       "      <th></th>\n",
       "      <th></th>\n",
       "      <th></th>\n",
       "      <th></th>\n",
       "    </tr>\n",
       "  </thead>\n",
       "  <tbody>\n",
       "    <tr>\n",
       "      <th>2020-01-03</th>\n",
       "      <td>-0.008827</td>\n",
       "      <td>0.000341</td>\n",
       "      <td>-0.007834</td>\n",
       "      <td>-0.010183</td>\n",
       "      <td>-0.013260</td>\n",
       "      <td>-0.011421</td>\n",
       "      <td>-0.005231</td>\n",
       "      <td>-0.004907</td>\n",
       "      <td>-0.012139</td>\n",
       "      <td>-0.006789</td>\n",
       "      <td>...</td>\n",
       "      <td>-0.021369</td>\n",
       "      <td>-0.017207</td>\n",
       "      <td>0.021095</td>\n",
       "      <td>0.009727</td>\n",
       "      <td>-0.006699</td>\n",
       "      <td>0.000000</td>\n",
       "      <td>0.005852</td>\n",
       "      <td>-0.015392</td>\n",
       "      <td>0.004809</td>\n",
       "      <td>-0.023020</td>\n",
       "    </tr>\n",
       "    <tr>\n",
       "      <th>2020-01-06</th>\n",
       "      <td>0.006211</td>\n",
       "      <td>0.018238</td>\n",
       "      <td>0.005726</td>\n",
       "      <td>-0.004321</td>\n",
       "      <td>0.001598</td>\n",
       "      <td>0.019398</td>\n",
       "      <td>0.026654</td>\n",
       "      <td>0.024657</td>\n",
       "      <td>0.014886</td>\n",
       "      <td>0.007674</td>\n",
       "      <td>...</td>\n",
       "      <td>-0.013543</td>\n",
       "      <td>0.003118</td>\n",
       "      <td>0.009259</td>\n",
       "      <td>0.002294</td>\n",
       "      <td>0.027755</td>\n",
       "      <td>0.008632</td>\n",
       "      <td>0.006234</td>\n",
       "      <td>-0.019192</td>\n",
       "      <td>-0.001436</td>\n",
       "      <td>-0.020844</td>\n",
       "    </tr>\n",
       "    <tr>\n",
       "      <th>2020-01-07</th>\n",
       "      <td>-0.000234</td>\n",
       "      <td>0.010043</td>\n",
       "      <td>-0.000959</td>\n",
       "      <td>-0.002893</td>\n",
       "      <td>0.002533</td>\n",
       "      <td>-0.009864</td>\n",
       "      <td>-0.001932</td>\n",
       "      <td>-0.000624</td>\n",
       "      <td>0.002092</td>\n",
       "      <td>-0.009405</td>\n",
       "      <td>...</td>\n",
       "      <td>0.045951</td>\n",
       "      <td>0.008528</td>\n",
       "      <td>0.002318</td>\n",
       "      <td>0.008369</td>\n",
       "      <td>-0.001071</td>\n",
       "      <td>-0.005034</td>\n",
       "      <td>0.020414</td>\n",
       "      <td>0.067698</td>\n",
       "      <td>-0.002077</td>\n",
       "      <td>0.022830</td>\n",
       "    </tr>\n",
       "    <tr>\n",
       "      <th>2020-01-08</th>\n",
       "      <td>0.007452</td>\n",
       "      <td>-0.007623</td>\n",
       "      <td>0.013438</td>\n",
       "      <td>-0.008705</td>\n",
       "      <td>0.016191</td>\n",
       "      <td>0.010386</td>\n",
       "      <td>0.007118</td>\n",
       "      <td>0.007880</td>\n",
       "      <td>-0.007809</td>\n",
       "      <td>0.000756</td>\n",
       "      <td>...</td>\n",
       "      <td>-0.012323</td>\n",
       "      <td>0.019400</td>\n",
       "      <td>0.004626</td>\n",
       "      <td>0.009207</td>\n",
       "      <td>0.032620</td>\n",
       "      <td>-0.058357</td>\n",
       "      <td>0.033304</td>\n",
       "      <td>0.014484</td>\n",
       "      <td>-0.000961</td>\n",
       "      <td>-0.002815</td>\n",
       "    </tr>\n",
       "    <tr>\n",
       "      <th>2020-01-09</th>\n",
       "      <td>0.008669</td>\n",
       "      <td>-0.009018</td>\n",
       "      <td>0.007636</td>\n",
       "      <td>0.023834</td>\n",
       "      <td>0.019893</td>\n",
       "      <td>0.036853</td>\n",
       "      <td>0.010498</td>\n",
       "      <td>0.011044</td>\n",
       "      <td>0.004799</td>\n",
       "      <td>0.002980</td>\n",
       "      <td>...</td>\n",
       "      <td>0.006781</td>\n",
       "      <td>0.021318</td>\n",
       "      <td>0.023169</td>\n",
       "      <td>0.009638</td>\n",
       "      <td>-0.003592</td>\n",
       "      <td>-0.020598</td>\n",
       "      <td>0.004309</td>\n",
       "      <td>-0.000291</td>\n",
       "      <td>0.002244</td>\n",
       "      <td>0.023493</td>\n",
       "    </tr>\n",
       "    <tr>\n",
       "      <th>...</th>\n",
       "      <td>...</td>\n",
       "      <td>...</td>\n",
       "      <td>...</td>\n",
       "      <td>...</td>\n",
       "      <td>...</td>\n",
       "      <td>...</td>\n",
       "      <td>...</td>\n",
       "      <td>...</td>\n",
       "      <td>...</td>\n",
       "      <td>...</td>\n",
       "      <td>...</td>\n",
       "      <td>...</td>\n",
       "      <td>...</td>\n",
       "      <td>...</td>\n",
       "      <td>...</td>\n",
       "      <td>...</td>\n",
       "      <td>...</td>\n",
       "      <td>...</td>\n",
       "      <td>...</td>\n",
       "      <td>...</td>\n",
       "      <td>...</td>\n",
       "    </tr>\n",
       "    <tr>\n",
       "      <th>2020-09-24</th>\n",
       "      <td>0.005828</td>\n",
       "      <td>-0.005491</td>\n",
       "      <td>-0.005782</td>\n",
       "      <td>0.014586</td>\n",
       "      <td>-0.003647</td>\n",
       "      <td>0.011546</td>\n",
       "      <td>0.009557</td>\n",
       "      <td>0.009242</td>\n",
       "      <td>0.006644</td>\n",
       "      <td>-0.009357</td>\n",
       "      <td>...</td>\n",
       "      <td>0.003254</td>\n",
       "      <td>-0.006681</td>\n",
       "      <td>0.009343</td>\n",
       "      <td>0.000847</td>\n",
       "      <td>-0.002615</td>\n",
       "      <td>-0.000856</td>\n",
       "      <td>0.006268</td>\n",
       "      <td>-0.035714</td>\n",
       "      <td>0.013295</td>\n",
       "      <td>0.017679</td>\n",
       "    </tr>\n",
       "    <tr>\n",
       "      <th>2020-09-25</th>\n",
       "      <td>0.023371</td>\n",
       "      <td>0.016188</td>\n",
       "      <td>0.025894</td>\n",
       "      <td>0.029544</td>\n",
       "      <td>0.021514</td>\n",
       "      <td>0.019398</td>\n",
       "      <td>0.011386</td>\n",
       "      <td>0.011671</td>\n",
       "      <td>0.024949</td>\n",
       "      <td>0.014564</td>\n",
       "      <td>...</td>\n",
       "      <td>0.086486</td>\n",
       "      <td>0.005752</td>\n",
       "      <td>0.017672</td>\n",
       "      <td>0.023190</td>\n",
       "      <td>0.019192</td>\n",
       "      <td>0.011419</td>\n",
       "      <td>0.033974</td>\n",
       "      <td>0.025047</td>\n",
       "      <td>0.021321</td>\n",
       "      <td>0.013534</td>\n",
       "    </tr>\n",
       "    <tr>\n",
       "      <th>2020-09-28</th>\n",
       "      <td>0.019130</td>\n",
       "      <td>0.011978</td>\n",
       "      <td>0.018196</td>\n",
       "      <td>0.018191</td>\n",
       "      <td>-0.009875</td>\n",
       "      <td>0.015507</td>\n",
       "      <td>0.013620</td>\n",
       "      <td>0.013537</td>\n",
       "      <td>0.025498</td>\n",
       "      <td>0.013165</td>\n",
       "      <td>...</td>\n",
       "      <td>0.061360</td>\n",
       "      <td>0.041092</td>\n",
       "      <td>-0.004183</td>\n",
       "      <td>0.017536</td>\n",
       "      <td>-0.001678</td>\n",
       "      <td>0.018064</td>\n",
       "      <td>0.021133</td>\n",
       "      <td>0.003899</td>\n",
       "      <td>0.005109</td>\n",
       "      <td>0.034380</td>\n",
       "    </tr>\n",
       "    <tr>\n",
       "      <th>2020-09-29</th>\n",
       "      <td>-0.003652</td>\n",
       "      <td>-0.014277</td>\n",
       "      <td>0.001679</td>\n",
       "      <td>0.028812</td>\n",
       "      <td>-0.007414</td>\n",
       "      <td>-0.008332</td>\n",
       "      <td>0.005046</td>\n",
       "      <td>0.003284</td>\n",
       "      <td>-0.009190</td>\n",
       "      <td>0.005141</td>\n",
       "      <td>...</td>\n",
       "      <td>-0.022813</td>\n",
       "      <td>-0.012669</td>\n",
       "      <td>0.000928</td>\n",
       "      <td>-0.000759</td>\n",
       "      <td>0.009637</td>\n",
       "      <td>-0.019129</td>\n",
       "      <td>0.001997</td>\n",
       "      <td>0.018125</td>\n",
       "      <td>-0.002905</td>\n",
       "      <td>-0.001638</td>\n",
       "    </tr>\n",
       "    <tr>\n",
       "      <th>2020-09-30</th>\n",
       "      <td>0.008400</td>\n",
       "      <td>0.002104</td>\n",
       "      <td>0.002248</td>\n",
       "      <td>0.002690</td>\n",
       "      <td>0.017517</td>\n",
       "      <td>0.022457</td>\n",
       "      <td>-0.000287</td>\n",
       "      <td>0.000184</td>\n",
       "      <td>0.001224</td>\n",
       "      <td>0.023600</td>\n",
       "      <td>...</td>\n",
       "      <td>-0.004157</td>\n",
       "      <td>0.004935</td>\n",
       "      <td>-0.000293</td>\n",
       "      <td>0.005044</td>\n",
       "      <td>0.006696</td>\n",
       "      <td>0.015263</td>\n",
       "      <td>-0.025591</td>\n",
       "      <td>-0.070448</td>\n",
       "      <td>0.005244</td>\n",
       "      <td>0.005886</td>\n",
       "    </tr>\n",
       "  </tbody>\n",
       "</table>\n",
       "<p>188 rows × 101 columns</p>\n",
       "</div>"
      ],
      "text/plain": [
       "                 NDX      ATVI      ADBE       AMD      ALXN      ALGN  \\\n",
       "Date                                                                     \n",
       "2020-01-03 -0.008827  0.000341 -0.007834 -0.010183 -0.013260 -0.011421   \n",
       "2020-01-06  0.006211  0.018238  0.005726 -0.004321  0.001598  0.019398   \n",
       "2020-01-07 -0.000234  0.010043 -0.000959 -0.002893  0.002533 -0.009864   \n",
       "2020-01-08  0.007452 -0.007623  0.013438 -0.008705  0.016191  0.010386   \n",
       "2020-01-09  0.008669 -0.009018  0.007636  0.023834  0.019893  0.036853   \n",
       "...              ...       ...       ...       ...       ...       ...   \n",
       "2020-09-24  0.005828 -0.005491 -0.005782  0.014586 -0.003647  0.011546   \n",
       "2020-09-25  0.023371  0.016188  0.025894  0.029544  0.021514  0.019398   \n",
       "2020-09-28  0.019130  0.011978  0.018196  0.018191 -0.009875  0.015507   \n",
       "2020-09-29 -0.003652 -0.014277  0.001679  0.028812 -0.007414 -0.008332   \n",
       "2020-09-30  0.008400  0.002104  0.002248  0.002690  0.017517  0.022457   \n",
       "\n",
       "               GOOGL      GOOG      AMZN      AMGN  ...      TCOM      ULTA  \\\n",
       "Date                                                ...                       \n",
       "2020-01-03 -0.005231 -0.004907 -0.012139 -0.006789  ... -0.021369 -0.017207   \n",
       "2020-01-06  0.026654  0.024657  0.014886  0.007674  ... -0.013543  0.003118   \n",
       "2020-01-07 -0.001932 -0.000624  0.002092 -0.009405  ...  0.045951  0.008528   \n",
       "2020-01-08  0.007118  0.007880 -0.007809  0.000756  ... -0.012323  0.019400   \n",
       "2020-01-09  0.010498  0.011044  0.004799  0.002980  ...  0.006781  0.021318   \n",
       "...              ...       ...       ...       ...  ...       ...       ...   \n",
       "2020-09-24  0.009557  0.009242  0.006644 -0.009357  ...  0.003254 -0.006681   \n",
       "2020-09-25  0.011386  0.011671  0.024949  0.014564  ...  0.086486  0.005752   \n",
       "2020-09-28  0.013620  0.013537  0.025498  0.013165  ...  0.061360  0.041092   \n",
       "2020-09-29  0.005046  0.003284 -0.009190  0.005141  ... -0.022813 -0.012669   \n",
       "2020-09-30 -0.000287  0.000184  0.001224  0.023600  ... -0.004157  0.004935   \n",
       "\n",
       "                VRSN      VRSK      VRTX       WBA      WDAY       WDC  \\\n",
       "Date                                                                     \n",
       "2020-01-03  0.021095  0.009727 -0.006699  0.000000  0.005852 -0.015392   \n",
       "2020-01-06  0.009259  0.002294  0.027755  0.008632  0.006234 -0.019192   \n",
       "2020-01-07  0.002318  0.008369 -0.001071 -0.005034  0.020414  0.067698   \n",
       "2020-01-08  0.004626  0.009207  0.032620 -0.058357  0.033304  0.014484   \n",
       "2020-01-09  0.023169  0.009638 -0.003592 -0.020598  0.004309 -0.000291   \n",
       "...              ...       ...       ...       ...       ...       ...   \n",
       "2020-09-24  0.009343  0.000847 -0.002615 -0.000856  0.006268 -0.035714   \n",
       "2020-09-25  0.017672  0.023190  0.019192  0.011419  0.033974  0.025047   \n",
       "2020-09-28 -0.004183  0.017536 -0.001678  0.018064  0.021133  0.003899   \n",
       "2020-09-29  0.000928 -0.000759  0.009637 -0.019129  0.001997  0.018125   \n",
       "2020-09-30 -0.000293  0.005044  0.006696  0.015263 -0.025591 -0.070448   \n",
       "\n",
       "                 XEL      XLNX  \n",
       "Date                            \n",
       "2020-01-03  0.004809 -0.023020  \n",
       "2020-01-06 -0.001436 -0.020844  \n",
       "2020-01-07 -0.002077  0.022830  \n",
       "2020-01-08 -0.000961 -0.002815  \n",
       "2020-01-09  0.002244  0.023493  \n",
       "...              ...       ...  \n",
       "2020-09-24  0.013295  0.017679  \n",
       "2020-09-25  0.021321  0.013534  \n",
       "2020-09-28  0.005109  0.034380  \n",
       "2020-09-29 -0.002905 -0.001638  \n",
       "2020-09-30  0.005244  0.005886  \n",
       "\n",
       "[188 rows x 101 columns]"
      ]
     },
     "metadata": {},
     "output_type": "display_data"
    }
   ],
   "source": [
    "#Returns Correlation matrix in 2020\n",
    "return_stock20,Corr_Sim20=return_sim(stocks2020)\n",
    "display(return_stock20)"
   ]
  },
  {
   "cell_type": "markdown",
   "id": "4eff8fef",
   "metadata": {
    "id": "4eff8fef"
   },
   "source": [
    "### Question-2 : Choosing 5 best stocks "
   ]
  },
  {
   "cell_type": "code",
   "execution_count": 23,
   "id": "1d68c219",
   "metadata": {
    "ExecuteTime": {
     "end_time": "2022-10-28T23:56:17.506824Z",
     "start_time": "2022-10-28T23:56:15.764453Z"
    },
    "colab": {
     "base_uri": "https://localhost:8080/",
     "height": 240
    },
    "id": "1d68c219",
    "outputId": "8539f7b3-6c1a-4664-e990-da18cbff5ffa"
   },
   "outputs": [
    {
     "name": "stdout",
     "output_type": "stream",
     "text": [
      "Set parameter Username\n",
      "Academic license - for non-commercial use only - expires 2023-08-19\n"
     ]
    }
   ],
   "source": [
    "for i in [5]: \n",
    "    stock_choices = i\n",
    "    index19_selected,fund_stocks19 = select_stocks(stock_choices,Corr_Sim19,return_stock19)\n",
    "    funds_weight19 = stockportfolioweights(stock_choices,return_stock19,fund_stocks19)\n",
    "    funds_weight20 = stockportfolioweights(stock_choices,return_stock20,fund_stocks19)"
   ]
  },
  {
   "cell_type": "code",
   "execution_count": 24,
   "id": "OO_fQSKifvdK",
   "metadata": {
    "id": "OO_fQSKifvdK"
   },
   "outputs": [
    {
     "data": {
      "text/plain": [
       "Text(0.5, 0, 'Stocks Selected')"
      ]
     },
     "execution_count": 24,
     "metadata": {},
     "output_type": "execute_result"
    },
    {
     "data": {
      "image/png": "[encoded data removed]",
      "text/plain": [
       "<Figure size 864x576 with 1 Axes>"
      ]
     },
     "metadata": {
      "needs_background": "light"
     },
     "output_type": "display_data"
    }
   ],
   "source": [
    "plt.figure(figsize = (12,8))\n",
    "plt.title(\"Fund Weights of the optimal 5 stocks\")\n",
    "sn.lineplot(x = fund_stocks19, y = funds_weight19, palette= 'crest')\n",
    "plt.ylabel(\"Weights\")\n",
    "plt.xlabel(\"Stocks Selected\")"
   ]
  },
  {
   "cell_type": "code",
   "execution_count": 25,
   "id": "8bp6uR01SdH0",
   "metadata": {
    "id": "8bp6uR01SdH0"
   },
   "outputs": [
    {
     "name": "stdout",
     "output_type": "stream",
     "text": [
      "Top 5 stocks based on weights :  ['LBTYK', 'MXIM', 'MSFT', 'VRTX', 'XEL']\n",
      "The corresponding weights of these stocks are :  [0.04886175 0.21038806 0.58035198 0.07119022 0.089208  ]\n"
     ]
    }
   ],
   "source": [
    "print(\"Top 5 stocks based on weights : \",fund_stocks19)\n",
    "print(\"The corresponding weights of these stocks are : \",funds_weight19)"
   ]
  },
  {
   "cell_type": "code",
   "execution_count": 26,
   "id": "c6faab5d",
   "metadata": {
    "ExecuteTime": {
     "end_time": "2022-10-28T23:56:17.570784Z",
     "start_time": "2022-10-28T23:56:17.508573Z"
    },
    "id": "c6faab5d",
    "outputId": "1bbe6263-a887-4853-d9d3-af7624577cff"
   },
   "outputs": [
    {
     "name": "stdout",
     "output_type": "stream",
     "text": [
      "Total absolute deviation from NASDAQ in 2019:  0.789\n",
      "Total absolute deviation from NASDAQ in 2020:  0.851\n"
     ]
    }
   ],
   "source": [
    "perform1 = perform_measure(return_stock19,fund_stocks19,funds_weight19)\n",
    "perform2 = perform_measure(return_stock20,fund_stocks19,funds_weight20)\n",
    "\n",
    "print('Total absolute deviation from NASDAQ in 2019: ',round(perform1,3))\n",
    "print('Total absolute deviation from NASDAQ in 2020: ',round(perform2,3))"
   ]
  },
  {
   "cell_type": "code",
   "execution_count": 27,
   "id": "79879d14",
   "metadata": {
    "ExecuteTime": {
     "end_time": "2022-10-28T23:56:17.575436Z",
     "start_time": "2022-10-28T23:56:17.572146Z"
    },
    "id": "79879d14",
    "outputId": "392fb6c9-ee44-4555-aae1-1b9075dfd7d1"
   },
   "outputs": [
    {
     "data": {
      "text/plain": [
       "<AxesSubplot:title={'center':'Performance Evaluation on m=5'}, xlabel='Year', ylabel='Total Absolute Deviation'>"
      ]
     },
     "execution_count": 27,
     "metadata": {},
     "output_type": "execute_result"
    },
    {
     "data": {
      "image/png": "[encoded data removed]",
      "text/plain": [
       "<Figure size 432x288 with 1 Axes>"
      ]
     },
     "metadata": {
      "needs_background": "light"
     },
     "output_type": "display_data"
    }
   ],
   "source": [
    "plt.title(\"Performance Evaluation on m=5\")\n",
    "plt.xlabel(\"Year\")\n",
    "plt.ylabel(\"Total Absolute Deviation\")\n",
    "sn.barplot(x = [2019,2020], y = [perform1,perform2], palette= 'Greens')"
   ]
  },
  {
   "cell_type": "markdown",
   "id": "0fdafdeb",
   "metadata": {
    "id": "0fdafdeb"
   },
   "source": [
    "- Based on the portfolio developed using 2019 stock data, the total absolute deviation of the portfolio from NASDAQ is 0.7 units greater in 2020. \n",
    "- This means that portfolio returns in 2020 will be more widely distributed from the real NASDAQ returns. This issue is most likely caused by the fact that a portfolio of only 5 equities is insufficient to correctly replicate the index fund. This notion is supported by the fact that, even in 2019, variances from the NASDAQ are rather large. \n",
    "- As a result, increasing the number of stocks in the portfolio is more likely to accurately mirror the NASDAQ-100 results."
   ]
  },
  {
   "cell_type": "code",
   "execution_count": 28,
   "id": "9f5acb16",
   "metadata": {
    "ExecuteTime": {
     "end_time": "2022-10-28T23:56:17.768321Z",
     "start_time": "2022-10-28T23:56:17.576775Z"
    },
    "id": "9f5acb16",
    "outputId": "3ffec88b-96b4-4309-f94c-5b3e1b01bee8"
   },
   "outputs": [
    {
     "data": {
      "text/plain": [
       "Text(0, 0.5, 'Returns')"
      ]
     },
     "execution_count": 28,
     "metadata": {},
     "output_type": "execute_result"
    },
    {
     "data": {
      "image/png": "[encoded data removed]",
      "text/plain": [
       "<Figure size 1080x576 with 1 Axes>"
      ]
     },
     "metadata": {
      "needs_background": "light"
     },
     "output_type": "display_data"
    }
   ],
   "source": [
    "returntime = pd.to_datetime(stocks2020.index[1:])\n",
    "plt.figure(figsize = (15,8))\n",
    "sn.lineplot(x = returntime, y = return_stock20.loc[:,'NDX'], color = 'Red', label = 'NDX')\n",
    "returnweighted20 = returnweighted(return_stock20,fund_stocks19,funds_weight19)\n",
    "\n",
    "sn.lineplot(x = returntime, y = returnweighted20,\n",
    "             color = 'Green', label = 'Portfolio')\n",
    "plt.title(\"Performance of 5-Fund Portfolio in tracing 2020 NDX returns\")\n",
    "plt.xlabel('Time Period')\n",
    "plt.ylabel('Returns')"
   ]
  },
  {
   "cell_type": "markdown",
   "id": "5b10c70c",
   "metadata": {
    "id": "5b10c70c"
   },
   "source": [
    "- The graph above shows that the portoflio is somewhat accurate in monitoring the index fund in 2020. Especially when the returns are subject to big swings. For instance, between the years 2020-03 and 2020-05. \n",
    "- The most significant differences are visible around 2020-5, and lastly between 2020-07 and 2020-08 when the line (portfolio) clearly does not overlap with the botted line (NDX)."
   ]
  },
  {
   "cell_type": "markdown",
   "id": "93419764",
   "metadata": {
    "id": "93419764"
   },
   "source": [
    "### Question-3 : Analyze the performance of the portfolio for each value of m = 10,20,30......90,100"
   ]
  },
  {
   "cell_type": "code",
   "execution_count": 29,
   "id": "8dfe2ee7",
   "metadata": {
    "ExecuteTime": {
     "end_time": "2022-10-28T23:56:17.772759Z",
     "start_time": "2022-10-28T23:56:17.769423Z"
    },
    "id": "8dfe2ee7",
    "outputId": "7bcdb541-4f9e-4a7c-c2f0-ee5620810e3e"
   },
   "outputs": [
    {
     "data": {
      "text/plain": [
       "[5, 10, 20, 30, 40, 50, 60, 70, 80, 90]"
      ]
     },
     "execution_count": 29,
     "metadata": {},
     "output_type": "execute_result"
    }
   ],
   "source": [
    "stockcount_prev= len(stocks2019.iloc[:, 2:].columns)\n",
    "stockcount_prev\n",
    "m_list = [5] + [i for i in range(10, stockcount_prev + 1, 10)]\n",
    "m_list"
   ]
  },
  {
   "cell_type": "code",
   "execution_count": 30,
   "id": "ff6edc0c",
   "metadata": {
    "ExecuteTime": {
     "end_time": "2022-10-28T23:56:17.786583Z",
     "start_time": "2022-10-28T23:56:17.773813Z"
    },
    "id": "ff6edc0c",
    "outputId": "f3441030-879c-49fe-dd57-c7d070757f9a"
   },
   "outputs": [
    {
     "data": {
      "text/html": [
       "<div>\n",
       "<style scoped>\n",
       "    .dataframe tbody tr th:only-of-type {\n",
       "        vertical-align: middle;\n",
       "    }\n",
       "\n",
       "    .dataframe tbody tr th {\n",
       "        vertical-align: top;\n",
       "    }\n",
       "\n",
       "    .dataframe thead th {\n",
       "        text-align: right;\n",
       "    }\n",
       "</style>\n",
       "<table border=\"1\" class=\"dataframe\">\n",
       "  <thead>\n",
       "    <tr style=\"text-align: right;\">\n",
       "      <th></th>\n",
       "      <th>NDX</th>\n",
       "      <th>ATVI</th>\n",
       "      <th>ADBE</th>\n",
       "      <th>AMD</th>\n",
       "      <th>ALXN</th>\n",
       "      <th>ALGN</th>\n",
       "      <th>GOOGL</th>\n",
       "      <th>GOOG</th>\n",
       "      <th>AMZN</th>\n",
       "      <th>AMGN</th>\n",
       "      <th>...</th>\n",
       "      <th>TCOM</th>\n",
       "      <th>ULTA</th>\n",
       "      <th>VRSN</th>\n",
       "      <th>VRSK</th>\n",
       "      <th>VRTX</th>\n",
       "      <th>WBA</th>\n",
       "      <th>WDAY</th>\n",
       "      <th>WDC</th>\n",
       "      <th>XEL</th>\n",
       "      <th>XLNX</th>\n",
       "    </tr>\n",
       "    <tr>\n",
       "      <th>Date</th>\n",
       "      <th></th>\n",
       "      <th></th>\n",
       "      <th></th>\n",
       "      <th></th>\n",
       "      <th></th>\n",
       "      <th></th>\n",
       "      <th></th>\n",
       "      <th></th>\n",
       "      <th></th>\n",
       "      <th></th>\n",
       "      <th></th>\n",
       "      <th></th>\n",
       "      <th></th>\n",
       "      <th></th>\n",
       "      <th></th>\n",
       "      <th></th>\n",
       "      <th></th>\n",
       "      <th></th>\n",
       "      <th></th>\n",
       "      <th></th>\n",
       "      <th></th>\n",
       "    </tr>\n",
       "  </thead>\n",
       "  <tbody>\n",
       "    <tr>\n",
       "      <th>2019-01-03</th>\n",
       "      <td>-0.033602</td>\n",
       "      <td>-0.035509</td>\n",
       "      <td>-0.039498</td>\n",
       "      <td>-0.094530</td>\n",
       "      <td>0.022030</td>\n",
       "      <td>-0.085791</td>\n",
       "      <td>-0.027696</td>\n",
       "      <td>-0.028484</td>\n",
       "      <td>-0.025242</td>\n",
       "      <td>-0.015216</td>\n",
       "      <td>...</td>\n",
       "      <td>-0.022834</td>\n",
       "      <td>-0.018591</td>\n",
       "      <td>-0.034989</td>\n",
       "      <td>-0.030557</td>\n",
       "      <td>-0.002133</td>\n",
       "      <td>-0.010435</td>\n",
       "      <td>-0.035808</td>\n",
       "      <td>-0.068217</td>\n",
       "      <td>-0.003940</td>\n",
       "      <td>-0.037651</td>\n",
       "    </tr>\n",
       "    <tr>\n",
       "      <th>2019-01-04</th>\n",
       "      <td>0.044824</td>\n",
       "      <td>0.039903</td>\n",
       "      <td>0.048632</td>\n",
       "      <td>0.114370</td>\n",
       "      <td>0.057779</td>\n",
       "      <td>0.010445</td>\n",
       "      <td>0.051294</td>\n",
       "      <td>0.053786</td>\n",
       "      <td>0.050064</td>\n",
       "      <td>0.034184</td>\n",
       "      <td>...</td>\n",
       "      <td>0.058976</td>\n",
       "      <td>0.047954</td>\n",
       "      <td>0.044744</td>\n",
       "      <td>0.044147</td>\n",
       "      <td>0.054785</td>\n",
       "      <td>0.033269</td>\n",
       "      <td>0.060577</td>\n",
       "      <td>0.042356</td>\n",
       "      <td>0.009786</td>\n",
       "      <td>0.046303</td>\n",
       "    </tr>\n",
       "    <tr>\n",
       "      <th>2019-01-07</th>\n",
       "      <td>0.010211</td>\n",
       "      <td>0.028196</td>\n",
       "      <td>0.013573</td>\n",
       "      <td>0.082632</td>\n",
       "      <td>0.018302</td>\n",
       "      <td>0.017192</td>\n",
       "      <td>-0.001994</td>\n",
       "      <td>-0.002167</td>\n",
       "      <td>0.034353</td>\n",
       "      <td>0.013457</td>\n",
       "      <td>...</td>\n",
       "      <td>0.022067</td>\n",
       "      <td>0.062620</td>\n",
       "      <td>0.016312</td>\n",
       "      <td>0.001000</td>\n",
       "      <td>0.018240</td>\n",
       "      <td>0.005749</td>\n",
       "      <td>0.000918</td>\n",
       "      <td>0.035522</td>\n",
       "      <td>-0.004330</td>\n",
       "      <td>0.026415</td>\n",
       "    </tr>\n",
       "    <tr>\n",
       "      <th>2019-01-08</th>\n",
       "      <td>0.009802</td>\n",
       "      <td>0.030309</td>\n",
       "      <td>0.014918</td>\n",
       "      <td>0.008751</td>\n",
       "      <td>0.006207</td>\n",
       "      <td>0.015954</td>\n",
       "      <td>0.008783</td>\n",
       "      <td>0.007385</td>\n",
       "      <td>0.016612</td>\n",
       "      <td>0.012824</td>\n",
       "      <td>...</td>\n",
       "      <td>0.010281</td>\n",
       "      <td>0.018450</td>\n",
       "      <td>0.036460</td>\n",
       "      <td>0.008902</td>\n",
       "      <td>0.013307</td>\n",
       "      <td>0.020009</td>\n",
       "      <td>0.021101</td>\n",
       "      <td>-0.009615</td>\n",
       "      <td>0.011597</td>\n",
       "      <td>-0.019051</td>\n",
       "    </tr>\n",
       "    <tr>\n",
       "      <th>2019-01-09</th>\n",
       "      <td>0.007454</td>\n",
       "      <td>0.017210</td>\n",
       "      <td>0.011819</td>\n",
       "      <td>-0.026988</td>\n",
       "      <td>0.012430</td>\n",
       "      <td>0.038196</td>\n",
       "      <td>-0.003427</td>\n",
       "      <td>-0.001505</td>\n",
       "      <td>0.001714</td>\n",
       "      <td>-0.001196</td>\n",
       "      <td>...</td>\n",
       "      <td>0.023745</td>\n",
       "      <td>0.018804</td>\n",
       "      <td>-0.008157</td>\n",
       "      <td>0.003781</td>\n",
       "      <td>0.023065</td>\n",
       "      <td>0.012050</td>\n",
       "      <td>-0.004612</td>\n",
       "      <td>0.044083</td>\n",
       "      <td>-0.007984</td>\n",
       "      <td>0.008972</td>\n",
       "    </tr>\n",
       "    <tr>\n",
       "      <th>...</th>\n",
       "      <td>...</td>\n",
       "      <td>...</td>\n",
       "      <td>...</td>\n",
       "      <td>...</td>\n",
       "      <td>...</td>\n",
       "      <td>...</td>\n",
       "      <td>...</td>\n",
       "      <td>...</td>\n",
       "      <td>...</td>\n",
       "      <td>...</td>\n",
       "      <td>...</td>\n",
       "      <td>...</td>\n",
       "      <td>...</td>\n",
       "      <td>...</td>\n",
       "      <td>...</td>\n",
       "      <td>...</td>\n",
       "      <td>...</td>\n",
       "      <td>...</td>\n",
       "      <td>...</td>\n",
       "      <td>...</td>\n",
       "      <td>...</td>\n",
       "    </tr>\n",
       "    <tr>\n",
       "      <th>2019-12-23</th>\n",
       "      <td>0.002019</td>\n",
       "      <td>-0.005572</td>\n",
       "      <td>0.004090</td>\n",
       "      <td>0.029672</td>\n",
       "      <td>0.006469</td>\n",
       "      <td>0.019239</td>\n",
       "      <td>-0.000437</td>\n",
       "      <td>-0.000556</td>\n",
       "      <td>0.003638</td>\n",
       "      <td>-0.000123</td>\n",
       "      <td>...</td>\n",
       "      <td>0.002603</td>\n",
       "      <td>0.010060</td>\n",
       "      <td>-0.000104</td>\n",
       "      <td>-0.000869</td>\n",
       "      <td>-0.003217</td>\n",
       "      <td>0.003083</td>\n",
       "      <td>-0.009273</td>\n",
       "      <td>0.026019</td>\n",
       "      <td>-0.017615</td>\n",
       "      <td>0.011868</td>\n",
       "    </tr>\n",
       "    <tr>\n",
       "      <th>2019-12-24</th>\n",
       "      <td>0.000402</td>\n",
       "      <td>-0.001358</td>\n",
       "      <td>0.002098</td>\n",
       "      <td>0.023757</td>\n",
       "      <td>-0.001630</td>\n",
       "      <td>-0.000899</td>\n",
       "      <td>-0.004590</td>\n",
       "      <td>-0.003914</td>\n",
       "      <td>-0.002114</td>\n",
       "      <td>-0.002880</td>\n",
       "      <td>...</td>\n",
       "      <td>-0.005482</td>\n",
       "      <td>-0.002095</td>\n",
       "      <td>0.001663</td>\n",
       "      <td>-0.002541</td>\n",
       "      <td>0.002637</td>\n",
       "      <td>-0.003756</td>\n",
       "      <td>0.003502</td>\n",
       "      <td>-0.007496</td>\n",
       "      <td>0.003913</td>\n",
       "      <td>-0.004146</td>\n",
       "    </tr>\n",
       "    <tr>\n",
       "      <th>2019-12-26</th>\n",
       "      <td>0.009058</td>\n",
       "      <td>0.001360</td>\n",
       "      <td>0.004732</td>\n",
       "      <td>0.001934</td>\n",
       "      <td>-0.012242</td>\n",
       "      <td>0.001331</td>\n",
       "      <td>0.013418</td>\n",
       "      <td>0.012534</td>\n",
       "      <td>0.044467</td>\n",
       "      <td>-0.001774</td>\n",
       "      <td>...</td>\n",
       "      <td>0.002901</td>\n",
       "      <td>-0.004594</td>\n",
       "      <td>0.004981</td>\n",
       "      <td>-0.002279</td>\n",
       "      <td>-0.001406</td>\n",
       "      <td>0.009426</td>\n",
       "      <td>-0.004994</td>\n",
       "      <td>0.009160</td>\n",
       "      <td>-0.001114</td>\n",
       "      <td>0.001929</td>\n",
       "    </tr>\n",
       "    <tr>\n",
       "      <th>2019-12-27</th>\n",
       "      <td>-0.000835</td>\n",
       "      <td>0.005094</td>\n",
       "      <td>-0.001238</td>\n",
       "      <td>-0.009650</td>\n",
       "      <td>-0.003488</td>\n",
       "      <td>-0.002228</td>\n",
       "      <td>-0.005747</td>\n",
       "      <td>-0.006256</td>\n",
       "      <td>0.000551</td>\n",
       "      <td>-0.001530</td>\n",
       "      <td>...</td>\n",
       "      <td>0.001157</td>\n",
       "      <td>0.007321</td>\n",
       "      <td>0.001755</td>\n",
       "      <td>-0.001680</td>\n",
       "      <td>0.003269</td>\n",
       "      <td>0.002037</td>\n",
       "      <td>0.002963</td>\n",
       "      <td>-0.010669</td>\n",
       "      <td>0.005256</td>\n",
       "      <td>-0.002635</td>\n",
       "    </tr>\n",
       "    <tr>\n",
       "      <th>2019-12-30</th>\n",
       "      <td>-0.006983</td>\n",
       "      <td>-0.005237</td>\n",
       "      <td>-0.007407</td>\n",
       "      <td>-0.014292</td>\n",
       "      <td>-0.011147</td>\n",
       "      <td>-0.007240</td>\n",
       "      <td>-0.011021</td>\n",
       "      <td>-0.011650</td>\n",
       "      <td>-0.012253</td>\n",
       "      <td>-0.005217</td>\n",
       "      <td>...</td>\n",
       "      <td>-0.011846</td>\n",
       "      <td>-0.007189</td>\n",
       "      <td>-0.008864</td>\n",
       "      <td>-0.006932</td>\n",
       "      <td>-0.009051</td>\n",
       "      <td>-0.001864</td>\n",
       "      <td>-0.012119</td>\n",
       "      <td>0.004024</td>\n",
       "      <td>0.002693</td>\n",
       "      <td>-0.007519</td>\n",
       "    </tr>\n",
       "  </tbody>\n",
       "</table>\n",
       "<p>250 rows × 101 columns</p>\n",
       "</div>"
      ],
      "text/plain": [
       "                 NDX      ATVI      ADBE       AMD      ALXN      ALGN  \\\n",
       "Date                                                                     \n",
       "2019-01-03 -0.033602 -0.035509 -0.039498 -0.094530  0.022030 -0.085791   \n",
       "2019-01-04  0.044824  0.039903  0.048632  0.114370  0.057779  0.010445   \n",
       "2019-01-07  0.010211  0.028196  0.013573  0.082632  0.018302  0.017192   \n",
       "2019-01-08  0.009802  0.030309  0.014918  0.008751  0.006207  0.015954   \n",
       "2019-01-09  0.007454  0.017210  0.011819 -0.026988  0.012430  0.038196   \n",
       "...              ...       ...       ...       ...       ...       ...   \n",
       "2019-12-23  0.002019 -0.005572  0.004090  0.029672  0.006469  0.019239   \n",
       "2019-12-24  0.000402 -0.001358  0.002098  0.023757 -0.001630 -0.000899   \n",
       "2019-12-26  0.009058  0.001360  0.004732  0.001934 -0.012242  0.001331   \n",
       "2019-12-27 -0.000835  0.005094 -0.001238 -0.009650 -0.003488 -0.002228   \n",
       "2019-12-30 -0.006983 -0.005237 -0.007407 -0.014292 -0.011147 -0.007240   \n",
       "\n",
       "               GOOGL      GOOG      AMZN      AMGN  ...      TCOM      ULTA  \\\n",
       "Date                                                ...                       \n",
       "2019-01-03 -0.027696 -0.028484 -0.025242 -0.015216  ... -0.022834 -0.018591   \n",
       "2019-01-04  0.051294  0.053786  0.050064  0.034184  ...  0.058976  0.047954   \n",
       "2019-01-07 -0.001994 -0.002167  0.034353  0.013457  ...  0.022067  0.062620   \n",
       "2019-01-08  0.008783  0.007385  0.016612  0.012824  ...  0.010281  0.018450   \n",
       "2019-01-09 -0.003427 -0.001505  0.001714 -0.001196  ...  0.023745  0.018804   \n",
       "...              ...       ...       ...       ...  ...       ...       ...   \n",
       "2019-12-23 -0.000437 -0.000556  0.003638 -0.000123  ...  0.002603  0.010060   \n",
       "2019-12-24 -0.004590 -0.003914 -0.002114 -0.002880  ... -0.005482 -0.002095   \n",
       "2019-12-26  0.013418  0.012534  0.044467 -0.001774  ...  0.002901 -0.004594   \n",
       "2019-12-27 -0.005747 -0.006256  0.000551 -0.001530  ...  0.001157  0.007321   \n",
       "2019-12-30 -0.011021 -0.011650 -0.012253 -0.005217  ... -0.011846 -0.007189   \n",
       "\n",
       "                VRSN      VRSK      VRTX       WBA      WDAY       WDC  \\\n",
       "Date                                                                     \n",
       "2019-01-03 -0.034989 -0.030557 -0.002133 -0.010435 -0.035808 -0.068217   \n",
       "2019-01-04  0.044744  0.044147  0.054785  0.033269  0.060577  0.042356   \n",
       "2019-01-07  0.016312  0.001000  0.018240  0.005749  0.000918  0.035522   \n",
       "2019-01-08  0.036460  0.008902  0.013307  0.020009  0.021101 -0.009615   \n",
       "2019-01-09 -0.008157  0.003781  0.023065  0.012050 -0.004612  0.044083   \n",
       "...              ...       ...       ...       ...       ...       ...   \n",
       "2019-12-23 -0.000104 -0.000869 -0.003217  0.003083 -0.009273  0.026019   \n",
       "2019-12-24  0.001663 -0.002541  0.002637 -0.003756  0.003502 -0.007496   \n",
       "2019-12-26  0.004981 -0.002279 -0.001406  0.009426 -0.004994  0.009160   \n",
       "2019-12-27  0.001755 -0.001680  0.003269  0.002037  0.002963 -0.010669   \n",
       "2019-12-30 -0.008864 -0.006932 -0.009051 -0.001864 -0.012119  0.004024   \n",
       "\n",
       "                 XEL      XLNX  \n",
       "Date                            \n",
       "2019-01-03 -0.003940 -0.037651  \n",
       "2019-01-04  0.009786  0.046303  \n",
       "2019-01-07 -0.004330  0.026415  \n",
       "2019-01-08  0.011597 -0.019051  \n",
       "2019-01-09 -0.007984  0.008972  \n",
       "...              ...       ...  \n",
       "2019-12-23 -0.017615  0.011868  \n",
       "2019-12-24  0.003913 -0.004146  \n",
       "2019-12-26 -0.001114  0.001929  \n",
       "2019-12-27  0.005256 -0.002635  \n",
       "2019-12-30  0.002693 -0.007519  \n",
       "\n",
       "[250 rows x 101 columns]"
      ]
     },
     "execution_count": 30,
     "metadata": {},
     "output_type": "execute_result"
    }
   ],
   "source": [
    "return_stock19"
   ]
  },
  {
   "cell_type": "code",
   "execution_count": 31,
   "id": "ed813c5a",
   "metadata": {
    "ExecuteTime": {
     "end_time": "2022-10-28T23:56:31.311518Z",
     "start_time": "2022-10-28T23:56:17.787985Z"
    },
    "id": "ed813c5a"
   },
   "outputs": [],
   "source": [
    "performanance19 = []\n",
    "performanance20=[]\n",
    "cumret19=[]\n",
    "cumret20=[]\n",
    "for i in m_list: \n",
    "    nostockoption = i\n",
    "    index_stocks19,fund_stocks19 =select_stocks(nostockoption,Corr_Sim19,return_stock19)\n",
    "    funds_weight19 = stockportfolioweights(nostockoption,return_stock19,fund_stocks19)\n",
    "    performanance20.append(perform_measure(return_stock20,fund_stocks19,funds_weight19))\n",
    "    performanance19.append(perform_measure(return_stock19,fund_stocks19,funds_weight19))\n",
    "    cum_ret19,_=(dailyCumulativeReturn(return_stock19,fund_stocks19,funds_weight19))\n",
    "    cum_ret20,_=(dailyCumulativeReturn(return_stock20,fund_stocks19,funds_weight19))\n",
    "    cumret19.append(cum_ret19.iloc[-1])\n",
    "    cumret20.append(cum_ret20.iloc[-1])"
   ]
  },
  {
   "cell_type": "code",
   "execution_count": 32,
   "id": "c2dc1fd8",
   "metadata": {
    "ExecuteTime": {
     "end_time": "2022-10-28T23:56:31.414300Z",
     "start_time": "2022-10-28T23:56:31.313157Z"
    },
    "id": "c2dc1fd8",
    "outputId": "787d7057-cfba-4291-fcd7-93aaf290d991"
   },
   "outputs": [
    {
     "data": {
      "text/plain": [
       "Text(0, 0.5, 'Total Absolute Deviation')"
      ]
     },
     "execution_count": 32,
     "metadata": {},
     "output_type": "execute_result"
    },
    {
     "data": {
      "image/png": "[encoded data removed]",
      "text/plain": [
       "<Figure size 432x288 with 1 Axes>"
      ]
     },
     "metadata": {
      "needs_background": "light"
     },
     "output_type": "display_data"
    }
   ],
   "source": [
    "sn.lineplot(x = m_list, y= performanance19, label = \"2019\",  color = 'Purple')\n",
    "sn.lineplot(x = m_list, y= performanance20, label = \"2020\",  color = 'green')\n",
    "plt.title(\"Total Absolute Deviation between Weighted Returns and NASDAQ\")\n",
    "plt.xlabel(\"Stocks in Portfolio\")\n",
    "plt.ylabel(\"Total Absolute Deviation\")\n"
   ]
  },
  {
   "cell_type": "markdown",
   "id": "902a21f6",
   "metadata": {
    "id": "902a21f6"
   },
   "source": [
    "- We can observe that the overall absolute deviation is consistently lowering until there are 50 stocks in the portfolio for both 2019 and 2020. \n",
    "\n",
    "- With 60 equities in the portfolio, we begin to notice declining returns as a result of adding additional stocks to the portfolio. This shift is considerably more visible in the 2020 graph. This is due to the model utilizing weights from 2019.\n",
    "\n",
    "- After 60 stocks, the divergence from the index fund begins to decline again, eventually becoming steady in 2020 when the number of stocks in the portfolio is between 90 and 100."
   ]
  },
  {
   "cell_type": "code",
   "execution_count": 33,
   "id": "YE4huOlEiz-t",
   "metadata": {
    "id": "YE4huOlEiz-t"
   },
   "outputs": [
    {
     "name": "stdout",
     "output_type": "stream",
     "text": [
      "For 2019, 70 stocks are needed to get the max cumulative value of 145.2142667616713\n",
      "For 2020, 30 stocks are needed to get the max cumulative value of 134.86185386723716\n"
     ]
    }
   ],
   "source": [
    "print(\"For 2019,\",(pd.Series(cumret19).idxmax())*10, \"stocks are needed to get the max cumulative value of\", max(cumret19))\n",
    "print(\"For 2020,\",(pd.Series(cumret20).idxmax())*10, \"stocks are needed to get the max cumulative value of\", max(cumret20))"
   ]
  },
  {
   "cell_type": "code",
   "execution_count": 34,
   "id": "a6cc7b9c",
   "metadata": {
    "ExecuteTime": {
     "end_time": "2022-10-28T23:56:31.521287Z",
     "start_time": "2022-10-28T23:56:31.415699Z"
    },
    "id": "a6cc7b9c",
    "outputId": "b64026c3-cd07-405b-cf43-cf981702cfd5"
   },
   "outputs": [
    {
     "data": {
      "image/png": "[encoded data removed]",
      "text/plain": [
       "<Figure size 432x288 with 1 Axes>"
      ]
     },
     "metadata": {
      "needs_background": "light"
     },
     "output_type": "display_data"
    }
   ],
   "source": [
    "width=2\n",
    "plt.bar(np.array(m_list), cumret19, width, label = '2019',  color = 'purple')\n",
    "plt.bar(np.array(m_list)+width, cumret20, width,  color = 'green')\n",
    "plt.xlabel('Stocks in portfolio')\n",
    "plt.ylabel('Cumulative Return after one year')\n",
    "plt.title('Cumulative values after a year for various stock combinations following a $100 initial investment')\n",
    "plt.show()"
   ]
  },
  {
   "cell_type": "markdown",
   "id": "e81c9ca1",
   "metadata": {
    "id": "e81c9ca1"
   },
   "source": [
    "### Question-4 : Using MIP method to compute the optimized weights "
   ]
  },
  {
   "cell_type": "code",
   "execution_count": 35,
   "id": "3199d82b",
   "metadata": {
    "ExecuteTime": {
     "end_time": "2022-10-28T23:56:31.531291Z",
     "start_time": "2022-10-28T23:56:31.526415Z"
    },
    "id": "3199d82b",
    "outputId": "ccd4bf00-b4d1-4c24-e719-159f6ed844fc"
   },
   "outputs": [],
   "source": [
    "length_yvars = len(return_stock19) \n",
    "weight_x = return_stock19.shape[1]-1\n",
    "stock_chooser = return_stock19.shape[1]-1\n",
    "obj_wt = np.array([1]*length_yvars + [0]*weight_x+ [0]*stock_chooser ) \n",
    "stock_returns19_all_funds = return_stock19.drop(['NDX'], axis = 1).to_numpy()\n",
    "obj_wt.shape\n",
    "q = return_stock19.loc[:,'NDX'].to_numpy()\n",
    "M = 1\n",
    "A_weight = np.zeros((2*length_yvars + weight_x+2 ,len(obj_wt)))"
   ]
  },
  {
   "cell_type": "code",
   "execution_count": 36,
   "id": "b006266e",
   "metadata": {
    "ExecuteTime": {
     "end_time": "2022-10-28T23:56:31.539855Z",
     "start_time": "2022-10-28T23:56:31.532500Z"
    },
    "id": "b006266e"
   },
   "outputs": [],
   "source": [
    "def MIP_Solver(m_input,df):\n",
    "    length_yvars = len(df) \n",
    "    weight_x = df.shape[1]-1\n",
    "    stock_chooser = df.shape[1]-1\n",
    "    obj_wt = np.array([1]*length_yvars + [0]*weight_x+ \n",
    "                      [0]*stock_chooser ) \n",
    "    stock_returns19_all_funds = df.drop(['NDX'], axis = 1).to_numpy()\n",
    "    \n",
    "    q = df.loc[:,'NDX'].to_numpy()\n",
    "    M = 1\n",
    "    A_weight = np.zeros((2*length_yvars + weight_x+2 ,len(obj_wt)))\n",
    "    A_weight[0:length_yvars,0:length_yvars] = np.identity(length_yvars) # First 250 constraints\n",
    "    A_weight[0:length_yvars,length_yvars:length_yvars+weight_x] = stock_returns19_all_funds # Next 250 constraints\n",
    "    A_weight[length_yvars:2*length_yvars,0:length_yvars] = np.identity(length_yvars)\n",
    "    A_weight[length_yvars:2*length_yvars,length_yvars:length_yvars+weight_x] = stock_returns19_all_funds*-1 # Next 100 constraints\n",
    "\n",
    "    i = 0\n",
    "    for row_number in range(2*length_yvars, 2*length_yvars+weight_x):\n",
    "        A_weight[row_number][length_yvars+i]=1\n",
    "        A_weight[row_number][length_yvars+weight_x+i]=-1*M\n",
    "        i = i+1\n",
    "\n",
    "    A_weight[-2][-1*stock_chooser:] = 1 # Last 1 constraint to make sure that indicator variables add up to stocks to pick\n",
    "    A_weight[-1][length_yvars: length_yvars+weight_x] = 1 # Last 1 constraint to make the weights as 1\n",
    "    \n",
    "    \n",
    "    m = m_input\n",
    "    b_weight = np.array(list(q) + list(-1*q) + [0]*weight_x + [m]*1 +[1]*1)\n",
    "    direction_weight = np.array(['>']*length_yvars*2 + ['<']*weight_x +['=']*2) # Sense Array\n",
    "        \n",
    "    ## Optimization\n",
    "    var_num = len(obj_wt)\n",
    "    WeightMod = gp.Model()\n",
    "    WeightMod_x = WeightMod.addMVar(var_num,vtype=['C']*length_yvars + ['C']*weight_x +['B']*stock_chooser) \n",
    "    WeightMod_con = WeightMod.addMConstrs(A_weight, WeightMod_x, direction_weight,b_weight)\n",
    "    WeightMod.setMObjective(None,obj_wt,0,sense=gp.GRB.MINIMIZE)\n",
    "    WeightMod.Params.OutputFlag = 0 # tell gurobi to shut up!!\n",
    "    WeightMod.Params.timeLimit = gurobi_time_limit\n",
    "    WeightMod.optimize()\n",
    "    \n",
    "    return WeightMod_x.x[length_yvars: length_yvars+weight_x]\n"
   ]
  },
  {
   "cell_type": "code",
   "execution_count": 37,
   "id": "b25fd08f",
   "metadata": {
    "ExecuteTime": {
     "end_time": "2022-10-28T23:56:31.544009Z",
     "start_time": "2022-10-28T23:56:31.541185Z"
    },
    "id": "b25fd08f",
    "outputId": "24cf558c-fb8c-4278-dff5-132195696381"
   },
   "outputs": [
    {
     "data": {
      "text/plain": [
       "'\\nThis runs for 8-9 hrs. Uncomment it when you want to calculte weights using MIP.\\n\\n'"
      ]
     },
     "execution_count": 37,
     "metadata": {},
     "output_type": "execute_result"
    }
   ],
   "source": [
    "'''\n",
    "This runs for 8-9 hrs. Uncomment it when you want to calculte weights using MIP.\n",
    "\n",
    "'''\n",
    "# performanance19_method2 = []\n",
    "# perf20_method2 = []\n",
    "# for i in range(10,110,10): \n",
    "#     stock_choices = return_stock19.columns[1:]\n",
    "#     Indexweights = MIP_Solver(i,return_stock19)\n",
    "#     perf20_method2.append(perform_measure(return_stock20,stock_choices,Indexweights))\n",
    "#     performanance19_method2.append(perform_measure(return_stock19,stock_choices,Indexweights))\n",
    "\n",
    "# pd.DataFrame(perf20_method2).to_csv(\"2020.csv\")\n",
    "# pd.DataFrame(performanance19_method2).to_csv(\"2019.csv\")"
   ]
  },
  {
   "cell_type": "code",
   "execution_count": 38,
   "id": "d378cba2",
   "metadata": {
    "ExecuteTime": {
     "end_time": "2022-10-28T23:56:31.639183Z",
     "start_time": "2022-10-28T23:56:31.545147Z"
    },
    "id": "d378cba2",
    "outputId": "6479bd5c-bfe6-4b7b-9e5f-35ba212877ff"
   },
   "outputs": [
    {
     "data": {
      "text/plain": [
       "<Figure size 1080x576 with 0 Axes>"
      ]
     },
     "execution_count": 38,
     "metadata": {},
     "output_type": "execute_result"
    },
    {
     "data": {
      "image/png": "[encoded data removed]",
      "text/plain": [
       "<Figure size 432x288 with 1 Axes>"
      ]
     },
     "metadata": {
      "needs_background": "light"
     },
     "output_type": "display_data"
    },
    {
     "data": {
      "text/plain": [
       "<Figure size 1080x576 with 0 Axes>"
      ]
     },
     "metadata": {},
     "output_type": "display_data"
    }
   ],
   "source": [
    "performanance19_method2 = pd.read_csv('2019.csv')\n",
    "perf20_method2 = pd.read_csv('2020.csv')\n",
    "sn.lineplot(x = m_list, y= performanance19_method2['0'], label = \"2019\", color='purple')\n",
    "sn.lineplot(x = m_list, y= perf20_method2['0'], label = \"2020\", color='green')\n",
    "plt.title(\"Total Absolute Deviation between Weighted Returns and NASDAQ\")\n",
    "plt.xlabel(\"Stocks in Index Fund\")\n",
    "plt.ylabel(\"Total Absolute Deviation\")\n",
    "plt.figure(figsize = (15,8))"
   ]
  },
  {
   "cell_type": "markdown",
   "id": "20efe769",
   "metadata": {
    "id": "20efe769"
   },
   "source": [
    "- From the above graph, it is evident that the second method is much more accurate in tracking NASDAQ. Even at 5 stocks in the portfolio, the deviation in 2020 is near 0.45, whereas in the old method, it was over 0.85.\n",
    "\n",
    "- The graph starts to get stable earlier at 60 stocks in the portfolio (both in 2019 and 2020). The final value of the deviation in 2020 is very similar to the value of deviation obtained in the old method, but the optimal number of stocks is much lesser. In this method, the optimal stocks is 40."
   ]
  },
  {
   "cell_type": "code",
   "execution_count": 39,
   "id": "2c4ff055",
   "metadata": {
    "ExecuteTime": {
     "end_time": "2022-10-28T23:56:31.768886Z",
     "start_time": "2022-10-28T23:56:31.640396Z"
    },
    "id": "2c4ff055",
    "outputId": "0205936d-cf80-4f26-8d67-2deb272b50b8"
   },
   "outputs": [
    {
     "data": {
      "image/png": "[encoded data removed]",
      "text/plain": [
       "<Figure size 720x576 with 2 Axes>"
      ]
     },
     "metadata": {
      "needs_background": "light"
     },
     "output_type": "display_data"
    }
   ],
   "source": [
    "# Plot Performance vs Number of Stocks for both Methods\n",
    "\n",
    "fig, (ax1, ax2) = plt.subplots(figsize = (10,8), sharey = True, nrows = 2, ncols = 1)\n",
    "\n",
    "ax1.plot( m_list, performanance19, color='purple' ,label = ' 2019 using Stock Selection)')\n",
    "ax1.plot(m_list, performanance19_method2['0'], color='green' ,label = ' 2019 using MIP)')\n",
    "ax1.set_xlabel('Stocks')\n",
    "ax1.set_ylabel('Portfolio Performance')\n",
    "ax1.legend()\n",
    "\n",
    "ax2.plot( m_list, performanance20, label = \"2020 using stock Selection \", color='purple')\n",
    "ax2.plot(m_list , perf20_method2['0'], label = \"2020 using MIP\", color='green' )\n",
    "ax2.set_xlabel('Stocks')\n",
    "ax2.set_ylabel('Portfolio Performance')\n",
    "ax2.legend()\n",
    "plt.show()"
   ]
  },
  {
   "cell_type": "code",
   "execution_count": 40,
   "id": "9bb48d4c",
   "metadata": {
    "ExecuteTime": {
     "end_time": "2022-10-28T23:56:31.896816Z",
     "start_time": "2022-10-28T23:56:31.770000Z"
    },
    "id": "9bb48d4c",
    "outputId": "6bfe142c-879e-4d8b-81d1-1bf2363a865d"
   },
   "outputs": [
    {
     "data": {
      "image/png": "[encoded data removed]",
      "text/plain": [
       "<Figure size 720x576 with 2 Axes>"
      ]
     },
     "metadata": {
      "needs_background": "light"
     },
     "output_type": "display_data"
    }
   ],
   "source": [
    "# Plot Performance vs Number of Stocks for both Methods\n",
    "\n",
    "fig, (ax1, ax2) = plt.subplots(figsize = (10,8), sharey = True, nrows = 2, ncols = 1)\n",
    "\n",
    "ax1.plot( m_list, performanance19, color='purple' ,label = ' 2019 using Stock Selection)')\n",
    "ax1.plot(m_list, performanance20, color='green' ,label = ' 2020 using Stock Selection)')\n",
    "ax1.set_xlabel('Stocks')\n",
    "ax1.set_ylabel('Portfolio Performance')\n",
    "ax1.legend()\n",
    "\n",
    "\n",
    "ax2.plot( m_list, performanance19_method2['0'], label = \"2019 using MIP \", color='purple')\n",
    "ax2.plot(m_list , perf20_method2['0'], label = \"2020 using MIP\", color='green' )\n",
    "ax2.set_xlabel('Stocks')\n",
    "ax2.set_ylabel('Portfolio Performance')\n",
    "ax2.legend()\n",
    "\n",
    "\n",
    "plt.show()"
   ]
  },
  {
   "cell_type": "markdown",
   "id": "c9a78575",
   "metadata": {
    "id": "c9a78575"
   },
   "source": [
    "### Final Recommendation\n",
    "- The plot above shows that Method 2 performs better on the 2020 data. The performance of both approaches is comparable, but Method 1 has a lot more volatility since the loss changes with a larger magnitude.\n",
    "- Method 2 is better, we advocate picking 40 stocks to model the NASDAQ-100 index and modeling the optimization to immediately compute the weights without first selecting the stocks, i.e., using the Second Method in the future. We may enhance our model by determining the cost of adding additional stocks to our portfolio and include that cost into our optimization restrictions."
   ]
  }
 ],
 "metadata": {
  "colab": {
   "collapsed_sections": [],
   "provenance": []
  },
  "kernelspec": {
   "display_name": "Python 3 (ipykernel)",
   "language": "python",
   "name": "python3"
  },
  "language_info": {
   "codemirror_mode": {
    "name": "ipython",
    "version": 3
   },
   "file_extension": ".py",
   "mimetype": "text/x-python",
   "name": "python",
   "nbconvert_exporter": "python",
   "pygments_lexer": "ipython3",
   "version": "3.9.12"
  }
 },
 "nbformat": 4,
 "nbformat_minor": 5
}
