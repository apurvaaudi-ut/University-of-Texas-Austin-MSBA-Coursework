{
 "cells": [
  {
   "cell_type": "markdown",
   "metadata": {
    "id": "voAS4e-XbWaH"
   },
   "source": [
    "# Assignment - 1 (65 pts)\n",
    "\n",
    "Due: 11:59 PM CT, September 7 \n",
    "\n",
    "---\n",
    "\n"
   ]
  },
  {
   "cell_type": "markdown",
   "metadata": {
    "id": "8ji27ywnUrn8"
   },
   "source": [
    "## **Submitted By :** Apurva Audi (AA85254), Olivia Ryunghee Lee (rl29986)"
   ]
  },
  {
   "cell_type": "markdown",
   "metadata": {
    "id": "Rh_WVVdznfMN"
   },
   "source": [
    "# Question 1: Adoption of AI/ML (5 pts)\n",
    "\n",
    "Read the HBR article on barriers to adoption of AI/ML based solutions in the healthcare industry, which is posted as the first document in Canvas under Modules --> Resources.\n",
    "\n",
    "Write a paragraph in your own words summarizing what you feel were the key factors that contributed to the lack of trust (and hence adoption) of the AI/ML solutions discussed. "
   ]
  },
  {
   "cell_type": "markdown",
   "metadata": {
    "id": "1ojv906NSz3L"
   },
   "source": [
    "**Solution to Q.1.**\n",
    "\n",
    "**Summary of HBR artcile:** *AI Can Outperform Doctors.So Why Don't Patients Trust it?*\n",
    "\n",
    "Based on the HBR article about using AI based in healthcare services, it is evident that patients lack trust in adoption of AI/ML for their medical care. Although there are several means like chatbot diagnoses, algorithm based predictive modeling, app-based treatments, and feedback from wearable devices for individuals, the hesitance of patients to AI/ML healthcare services is manifold. The surveys and experients conducted by NYU academia (incorporated human and AI providers with same medical costs and comparable performances of their services) elucidates that the mistrust in AI stems from the belief that patients see their **medical needs as unique and feel that AI/ML algorithms can't address this diversity**. It is intriguing to observe that this resistance persists even though patients are aware of how AI services are high-performing, informative, convenient, and inexpensive. Patients perceive AI as inflexible and standardized, with inability for personalized medical care. In other surveys, it was evident that participants were willing to forego better health care to have a human provider rather than an AI and inclined to pay more for a human provider for same diagnostic procedure. In many instances, the providers that leveraged AI services were better equipped to make an informed decision about patient’s care. **The lack of awareness** inhibits harnessing the full potential of AI in delivering the broad spectrum of facilities like assisted surgery, telemedicine, and virtual assistant with 24/7 availability. This mistrust in AI can be largely mitigated with a little support from the doctors. Highlighting how AI can tailor recommendations by considering a patient’s medical history and unique characteristics can help overcome the inhibitions that general populace has in adopting AI widely in healthcare industry."
   ]
  },
  {
   "cell_type": "markdown",
   "metadata": {
    "id": "IkVxrWs0o0tn"
   },
   "source": [
    "\n",
    "# Question 2: Google Flu Trends (8 pts)\n",
    "\n",
    "The second article posted  in Canvas under Modules --> Resources, (google flu) describes a high-profile (and embarrassingly  failed)  project done by google, highlighting the phenomena of data drift and the importance of continually monitoring/updating models post deployment.\n",
    "\n",
    "Read this article and then briefly describe \n",
    "\n",
    "(i) three important causes of \"data drift\" in the flu prediction problem that are mentioned in the article, and\n",
    "\n",
    "(ii) one important aspect of the original google model design that made it very prone to overfitting (and hence poor generalization on future data).\n"
   ]
  },
  {
   "cell_type": "markdown",
   "metadata": {},
   "source": [
    "**Solution to Q.2.**\n",
    "\n",
    "(i):    (1) Media Stoked Panic: Media stoked flu panic led people to search for the flu more than usual. Because GFT was train on this data, it made to a data   drift because the input data changed.\n",
    "    (2) Data Manipulation (red team dynamic): Since Google is a open platform that many people can freely search results, GFT results can be influenced. So, manipulation can make data drift again because of the input data changed.\n",
    "    (3) Google Algorithim (blue team dynamic): Google changes Google's search algorithim by itself to support its business objectives.\n",
    "    \n",
    "    \n",
    "(ii): The search terms that were unrelated to the flu actually showed strong correlated to the CDC data and this caused the overfitting."
   ]
  },
  {
   "cell_type": "markdown",
   "metadata": {
    "id": "hpTvwLiHVmfo"
   },
   "source": [
    "# Question 3: Maximum Likelihood Estimate (12 pts)\n",
    "\n",
    "100 students in the MSBA Program were asked if they wanted to buy the Big Ticket for the season. They reported their preferences by entering No or Yes in the survey. We use 0 to represent their disinterest in buying the Big Ticket and 1 to represent their interest. A random sample of 30 students yielded the following preferences:\n",
    "\n",
    "$$0 0 1 1 0 1 0 1 1 1 0 1 1 0 1 0 0 1 1 1 0 0 1 1 0 1 1 0 0 1$$\n",
    "\n",
    "These choices are assumed to arise by independent and identically distributed (i.i.d.) sampling from the following distribution and if the unknown parameter $q$ can be estimated, then we can provide more insights about the students' preference.\n",
    "\n",
    "$$\n",
    "\\begin{equation}\n",
    "\\nonumber P(x) = \\left\\{\n",
    "\\begin{array}{l l}\n",
    "    q& \\quad \\text{for  } x=0\\\\\n",
    "1-q & \\quad \\text{for } x=1\n",
    "\\end{array} \\right.\n",
    "\\end{equation}\n",
    "$$\n",
    "\n",
    "\n",
    "1. Based on the definitions given above, write down the likelihood function (3 pts)\n",
    "2. Derive the **maximum likelihood estimator** of $q$ (Algenric expression in terms of variables) (3 pts)\n",
    "3. Using the given sample, find a maximum likelihood estimate of $q$ as well (numerical value) (3 pts)\n",
    "4. Show that the maximum likelihood estimate is unbiased (3 pts)\n",
    "\n",
    "Note: For this question, you can either upload a scanned copy of the handwritten solution or write the answer in LaTex/Markdown.\n"
   ]
  },
  {
   "cell_type": "code",
   "execution_count": 24,
   "metadata": {
    "colab": {
     "base_uri": "https://localhost:8080/",
     "height": 825
    },
    "id": "LSLJFkfhVcrH",
    "outputId": "05d126ca-5a22-4336-8cb9-0466383d5cbd"
   },
   "outputs": [
    {
     "data": {
      "text/html": [
       "<iframe src=Advanced_ML_Q3.pdf width=1000 height=800></iframe>"
      ],
      "text/latex": [
       "\\includegraphics[width=1.0\\textwidth]{Advanced_ML_Q3.pdf}"
      ],
      "text/plain": [
       "<__main__.PDF at 0x1a83b7400d0>"
      ]
     },
     "execution_count": 24,
     "metadata": {},
     "output_type": "execute_result"
    }
   ],
   "source": [
    "class PDF(object):\n",
    "  def __init__(self, pdf, size=(200,200)):\n",
    "    self.pdf = pdf\n",
    "    self.size = size\n",
    "\n",
    "  def _repr_html_(self):\n",
    "    return '<iframe src={0} width={1[0]} height={1[1]}></iframe>'.format(self.pdf, self.size)\n",
    "\n",
    "  def _repr_latex_(self):\n",
    "    return r'\\includegraphics[width=1.0\\textwidth]{{{0}}}'.format(self.pdf)\n",
    "\n",
    "PDF('Advanced_ML_Q3.pdf',size=(1000,800))"
   ]
  },
  {
   "cell_type": "markdown",
   "metadata": {
    "id": "nTWFVcvwXP4w"
   },
   "source": [
    "# Question 4: Linear Regression (10 pts)\n",
    "\n",
    "1. What is the difference between R-square and adjusted R square and why is it desirable to use the adjusted value? (4 pts)\n",
    "\n",
    "2. Overfitting usually happens in complex models. Linear Regression is a fairly simple model. Could overfitting happen in Linear Regression? If so, please explain the scenario in which it could happen and how we can tackle it. (6 pts)\n"
   ]
  },
  {
   "cell_type": "markdown",
   "metadata": {
    "id": "M_3ptY2W7xLj"
   },
   "source": [
    "**Solutions to Q.4.**\n",
    "\n",
    "1. **R-squared** is the statistics measure of the proportion of variability in in the response (dependent variable) that is explained by the predictor (independent variable) in each regression model. In other words, the degree of correlation of predictors to the response. This value ranges between 0 to 1 and a higher R-squared indicates that the model is a good fit. \n",
    "\n",
    " However, a major disadvantage of R-squared is that adding new predictors will result in an increased value of R-squared irrespective of the significance of these additional variables. Hence, **adjusted R-squared** value adds precision and reliability to the R-squared estimation by considering the impact of additional independent variables that can skew its value. Adjusted R-squared is either equal or smaller than the R-squared value for any regression analysis. Thus, adjusted R-squared is an appropriate measure to explain the goodness of fit or model accuracy of any regression model as compared to R-squared.\n",
    "\n",
    "2. **Overfitting** in any model occurs when it closely corresponds to training data and hence, fails to generalize on test data. Even a simple model as linear regression can be overfit where it fits the quirks and random noise in the specific sample dataset. In such a scenario, the regression coefficients, R-squared and p-values are all misleading.\n",
    "\n",
    " For example, when a high degree polynomial is fit to linear data based on the sample data, it will have a high error on the next data point, even though it fits perfectly to the training data. This is a classic example of high training accuracy and low testing accuracy which is the case in overfit models.\n",
    "\n",
    " Most common methods to tackle or avoid overfitting in regression models is using followig methods :\n",
    "\n",
    "*   regularization techniques like *shrinkage method* and *Bayesian priors*\n",
    "*   Large training dataset to reliably complete data modeling.\n",
    "\n",
    " **Regularization** is the process of adding constraints to an under-constrained problem. There are primarily two shrinkage methods called *Lasso (L1 regularization)* and *Ridge (L2 regularization)* that are used to penalize large weights i.e., encourage models to be biased towards small regression coefficients.\n",
    "\n",
    " The goal of these shrinkage methods is to obtain the subset of predictors that minimizes prediction error for a quantitative response variable. The difference between ridge and lasso regression is that it tends to make coefficients to absolute zero as compared to Ridge which never sets the value of coefficient to absolute zero.A Bayesian prior such as a zero-centered normal distribution on the weights achieves a similar goal: the data must overcome the noise and avoid overfit of model."
   ]
  },
  {
   "cell_type": "markdown",
   "metadata": {
    "id": "rTCBgfLxeIi5"
   },
   "source": [
    "# Question 5: Ridge/ Lasso Regression (30 pts)\n",
    "\n",
    "Use the following code to import the California housing prices dataset and linear models in python. The dataset is taken from https://www.kaggle.com/camnugent/california-housing-prices/version/1. We have removed the categorical variables and rows with missing variables to make it easier to run the models."
   ]
  },
  {
   "cell_type": "markdown",
   "metadata": {
    "id": "naMH3EMCm1cA"
   },
   "source": [
    "The data pertains to the houses found in a given California district and some summary stats about them based on the 1990 census data. The columns are as follows:\n",
    "\n",
    "longitude\n",
    "\n",
    "latitude\n",
    "\n",
    "housingmedianage\n",
    "\n",
    "total_rooms\n",
    "\n",
    "total_bedrooms\n",
    "\n",
    "population\n",
    "\n",
    "households\n",
    "\n",
    "median_income\n",
    "\n",
    "medianhousevalue\n",
    "\n",
    "ocean_proximity (this feature has been removed from the csv file since it is an ordinal variable)"
   ]
  },
  {
   "cell_type": "code",
   "execution_count": 2,
   "metadata": {
    "colab": {
     "base_uri": "https://localhost:8080/",
     "height": 73,
     "resources": {
      "http://localhost:8080/nbextensions/google.colab/files.js": {
       "data": "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",
       "headers": [
        [
         "content-type",
         "application/javascript"
        ]
       ],
       "ok": true,
       "status": 200,
       "status_text": ""
      }
     }
    },
    "id": "PsOjDoYQegUZ",
    "outputId": "de703686-c3f9-4c02-afeb-0b48ccd96e7e"
   },
   "outputs": [],
   "source": [
    "# Only use this code block if you are using Google Colab.\n",
    "# If you are using Jupyter Notebook, please ignore this code block. You can directly upload the file to your Jupyter Notebook file systems.\n",
    "#from google.colab import files\n",
    "\n",
    "## It will prompt you to select a local file. Click on “Choose Files” then select and upload the file. \n",
    "## Wait for the file to be 100% uploaded. You should see the name of the file once Colab has uploaded it.\n",
    "#uploaded = files.upload()"
   ]
  },
  {
   "cell_type": "code",
   "execution_count": 6,
   "metadata": {
    "id": "Qhv7UoyilbDV"
   },
   "outputs": [],
   "source": [
    "from sklearn import linear_model\n",
    "from sklearn.metrics import mean_absolute_error\n",
    "import numpy as np\n",
    "import pandas as pd\n",
    "from sklearn.metrics import mean_absolute_error, mean_squared_error\n",
    "import random\n",
    "from sklearn import linear_model\n",
    "pd.options.mode.chained_assignment = None\n",
    "\n",
    "\n",
    "df = pd.read_csv(\"housing.csv\").dropna()\n",
    "X = df.drop(['median_house_value','ocean_proximity'],axis=1)\n",
    "Y = df['median_house_value']"
   ]
  },
  {
   "cell_type": "code",
   "execution_count": 7,
   "metadata": {
    "colab": {
     "base_uri": "https://localhost:8080/"
    },
    "id": "CTiUIITYezts",
    "outputId": "b4d8a8ab-4af4-40d4-f922-a79f0d9da83d"
   },
   "outputs": [
    {
     "data": {
      "text/plain": [
       "Index(['longitude', 'latitude', 'housing_median_age', 'total_rooms',\n",
       "       'total_bedrooms', 'population', 'households', 'median_income',\n",
       "       'median_house_value', 'ocean_proximity'],\n",
       "      dtype='object')"
      ]
     },
     "execution_count": 7,
     "metadata": {},
     "output_type": "execute_result"
    }
   ],
   "source": [
    "df.columns # Show you all the columns in this file"
   ]
  },
  {
   "cell_type": "code",
   "execution_count": 8,
   "metadata": {
    "colab": {
     "base_uri": "https://localhost:8080/",
     "height": 250
    },
    "id": "li4lFm55fEPg",
    "outputId": "71835153-29cf-45bb-f9f8-7dc206c4652a"
   },
   "outputs": [
    {
     "data": {
      "text/html": [
       "<div>\n",
       "<style scoped>\n",
       "    .dataframe tbody tr th:only-of-type {\n",
       "        vertical-align: middle;\n",
       "    }\n",
       "\n",
       "    .dataframe tbody tr th {\n",
       "        vertical-align: top;\n",
       "    }\n",
       "\n",
       "    .dataframe thead th {\n",
       "        text-align: right;\n",
       "    }\n",
       "</style>\n",
       "<table border=\"1\" class=\"dataframe\">\n",
       "  <thead>\n",
       "    <tr style=\"text-align: right;\">\n",
       "      <th></th>\n",
       "      <th>longitude</th>\n",
       "      <th>latitude</th>\n",
       "      <th>housing_median_age</th>\n",
       "      <th>total_rooms</th>\n",
       "      <th>total_bedrooms</th>\n",
       "      <th>population</th>\n",
       "      <th>households</th>\n",
       "      <th>median_income</th>\n",
       "      <th>median_house_value</th>\n",
       "      <th>ocean_proximity</th>\n",
       "    </tr>\n",
       "  </thead>\n",
       "  <tbody>\n",
       "    <tr>\n",
       "      <th>0</th>\n",
       "      <td>-122.23</td>\n",
       "      <td>37.88</td>\n",
       "      <td>41.0</td>\n",
       "      <td>880.0</td>\n",
       "      <td>129.0</td>\n",
       "      <td>322.0</td>\n",
       "      <td>126.0</td>\n",
       "      <td>8.3252</td>\n",
       "      <td>452600.0</td>\n",
       "      <td>NEAR BAY</td>\n",
       "    </tr>\n",
       "    <tr>\n",
       "      <th>1</th>\n",
       "      <td>-122.22</td>\n",
       "      <td>37.86</td>\n",
       "      <td>21.0</td>\n",
       "      <td>7099.0</td>\n",
       "      <td>1106.0</td>\n",
       "      <td>2401.0</td>\n",
       "      <td>1138.0</td>\n",
       "      <td>8.3014</td>\n",
       "      <td>358500.0</td>\n",
       "      <td>NEAR BAY</td>\n",
       "    </tr>\n",
       "    <tr>\n",
       "      <th>2</th>\n",
       "      <td>-122.24</td>\n",
       "      <td>37.85</td>\n",
       "      <td>52.0</td>\n",
       "      <td>1467.0</td>\n",
       "      <td>190.0</td>\n",
       "      <td>496.0</td>\n",
       "      <td>177.0</td>\n",
       "      <td>7.2574</td>\n",
       "      <td>352100.0</td>\n",
       "      <td>NEAR BAY</td>\n",
       "    </tr>\n",
       "    <tr>\n",
       "      <th>3</th>\n",
       "      <td>-122.25</td>\n",
       "      <td>37.85</td>\n",
       "      <td>52.0</td>\n",
       "      <td>1274.0</td>\n",
       "      <td>235.0</td>\n",
       "      <td>558.0</td>\n",
       "      <td>219.0</td>\n",
       "      <td>5.6431</td>\n",
       "      <td>341300.0</td>\n",
       "      <td>NEAR BAY</td>\n",
       "    </tr>\n",
       "    <tr>\n",
       "      <th>4</th>\n",
       "      <td>-122.25</td>\n",
       "      <td>37.85</td>\n",
       "      <td>52.0</td>\n",
       "      <td>1627.0</td>\n",
       "      <td>280.0</td>\n",
       "      <td>565.0</td>\n",
       "      <td>259.0</td>\n",
       "      <td>3.8462</td>\n",
       "      <td>342200.0</td>\n",
       "      <td>NEAR BAY</td>\n",
       "    </tr>\n",
       "  </tbody>\n",
       "</table>\n",
       "</div>"
      ],
      "text/plain": [
       "   longitude  latitude  housing_median_age  total_rooms  total_bedrooms  \\\n",
       "0    -122.23     37.88                41.0        880.0           129.0   \n",
       "1    -122.22     37.86                21.0       7099.0          1106.0   \n",
       "2    -122.24     37.85                52.0       1467.0           190.0   \n",
       "3    -122.25     37.85                52.0       1274.0           235.0   \n",
       "4    -122.25     37.85                52.0       1627.0           280.0   \n",
       "\n",
       "   population  households  median_income  median_house_value ocean_proximity  \n",
       "0       322.0       126.0         8.3252            452600.0        NEAR BAY  \n",
       "1      2401.0      1138.0         8.3014            358500.0        NEAR BAY  \n",
       "2       496.0       177.0         7.2574            352100.0        NEAR BAY  \n",
       "3       558.0       219.0         5.6431            341300.0        NEAR BAY  \n",
       "4       565.0       259.0         3.8462            342200.0        NEAR BAY  "
      ]
     },
     "execution_count": 8,
     "metadata": {},
     "output_type": "execute_result"
    }
   ],
   "source": [
    "df.head() # Show you the first 5 rows in this file"
   ]
  },
  {
   "cell_type": "markdown",
   "metadata": {
    "id": "V39QgNuEfR6q"
   },
   "source": [
    "1) Split the data into a training set (75% of data) and a test set (25% of data), using the train_test_split function with random_state = 50. Then scale the data (not including target) so that each of the independent variables would have zero mean and unit variance. You can use the sklearn.preprocessing.scale function for this. Print the first 5 rows of the training set after scaling. (2 pts) \n",
    "\n",
    "2) Use sklearn.linear_model.Lasso and sklearn.linear_model.Ridge classes to do a 5-fold cross validation using sklearn's KFold. For the sweep of the regularization parameter, we will look at a grid of values ranging from $α = 10^{10}$ to $α = 10^{−6}$.\n",
    "\n",
    "In Python, you can consider this range of values as follows: alpha = 10**numpy.linspace(6,-6,100) so that you can generate 100 uniform values between -6 to 6 as power series.\n",
    "\n",
    "Fit the 2 regression models with scaled data and report the best chosen α based on cross validation as well as the corresponding scoring metric. The cross validation should happen on your training data using MSE as the scoring metric. (5 pts) \n",
    "\n",
    "3) a) Run ridge and lasso regression for all of the α specified above (on training data), and plot the coefficients learned for each of them - there should be one plot each for lasso and ridge, so a total of two plots; different features' weights of each model should be on the same plot with different colors (5 pts).\n",
    "\n",
    "  b) What do you qualitatively observe when the value of the regularization parameter changes? (2pts)\n",
    "\n",
    "4) a) Similarly, use sklearn.linear_model.ElasticNet to do linear regression with different α values, and plot the coefficients learned for each of them (2 pts).\n",
    "\n",
    "  b) Observe the plot, then explain the pros and cons of ridge, lasso and Elastic Net models. (3pts)\n",
    "\n",
    "5) Run the following three regression models with MSE loss on the training data (5 pts): \n",
    "\n",
    "a) linear regression without regularization (1pts)\n",
    "\n",
    "b) linear regression with ridge regularization (2pts)\n",
    "\n",
    "c) linear regression with lasso regularization (2pts)\n",
    "\n",
    "For part (b) and (c), use only the best regularization parameters. Report the MSE and R2 on the test data for each of the models.\n",
    "\n",
    "6) Train the 3 models and report metrics with the original data without scaling (3pts)\n",
    "\n",
    "7) Why did we have to scale the data in ridge and lasso regression? (3 pts)\n",
    "\n"
   ]
  },
  {
   "cell_type": "markdown",
   "metadata": {
    "id": "ssJnPJEUMdUP"
   },
   "source": [
    "**Solutions Q.5. Part 1**"
   ]
  },
  {
   "cell_type": "code",
   "execution_count": 9,
   "metadata": {
    "id": "J_GJz1PEfSw0"
   },
   "outputs": [],
   "source": [
    "##Solutions Q.5. Part 1\n",
    "from sklearn.model_selection import train_test_split\n",
    "X_train, X_test, Y_train, Y_test = train_test_split(X,Y, test_size=0.25, random_state = 50)"
   ]
  },
  {
   "cell_type": "code",
   "execution_count": 10,
   "metadata": {
    "colab": {
     "base_uri": "https://localhost:8080/"
    },
    "id": "7C8IHGEcCoqA",
    "outputId": "84e2c18f-4c09-4cc3-ebd6-dd9dc937eb17"
   },
   "outputs": [
    {
     "name": "stdout",
     "output_type": "stream",
     "text": [
      "X Scaled Training Dataset\n"
     ]
    },
    {
     "data": {
      "text/plain": [
       "array([[-1.13113681,  1.91091856,  1.85290292, ..., -0.99407214,\n",
       "        -1.05120862, -1.2222887 ],\n",
       "       [-1.12615029,  0.76639279, -0.92620274, ...,  0.54845443,\n",
       "         0.27854331,  0.71761009],\n",
       "       [ 0.70888992, -0.7004688 ,  1.85290292, ..., -0.94920516,\n",
       "        -1.03796408, -1.18162406],\n",
       "       ...,\n",
       "       [ 0.8385395 , -0.82660022,  0.26484254, ..., -0.65128845,\n",
       "        -0.71214837, -0.26447524],\n",
       "       [ 0.63409209, -0.88733015, -0.68799368, ..., -0.21069477,\n",
       "         0.28913895,  0.03022439],\n",
       "       [ 1.24743433, -1.34981199,  0.66185764, ..., -0.17928789,\n",
       "         0.07192847, -0.81685858]])"
      ]
     },
     "execution_count": 10,
     "metadata": {},
     "output_type": "execute_result"
    }
   ],
   "source": [
    "from sklearn.preprocessing import StandardScaler\n",
    "scaler = StandardScaler()\n",
    "#Scaling the training data\n",
    "X_train_scaled=scaler.fit_transform(X_train)\n",
    "print('X Scaled Training Dataset')\n",
    "X_train_scaled"
   ]
  },
  {
   "cell_type": "code",
   "execution_count": 11,
   "metadata": {
    "colab": {
     "base_uri": "https://localhost:8080/"
    },
    "id": "AIbWFFCIFWVO",
    "outputId": "8c4997c7-1ea2-4b1f-b5b3-e3e888b02306"
   },
   "outputs": [
    {
     "name": "stdout",
     "output_type": "stream",
     "text": [
      "[-6.91810077e-16 -9.05102728e-16  1.33539747e-16 -3.10665383e-17\n",
      "  3.61670147e-17  2.08655854e-17 -6.56106742e-17  1.84776351e-16]\n",
      "[1. 1. 1. 1. 1. 1. 1. 1.]\n"
     ]
    }
   ],
   "source": [
    "## Scaled Data with zero mean and unit variance\n",
    "print(X_train_scaled.mean(axis=0))\n",
    "print(X_train_scaled.std(axis=0))"
   ]
  },
  {
   "cell_type": "code",
   "execution_count": 12,
   "metadata": {
    "colab": {
     "base_uri": "https://localhost:8080/"
    },
    "id": "SfBP-7FwF12h",
    "outputId": "07d64079-f4e8-4291-fe97-d2c0feb35e7f"
   },
   "outputs": [
    {
     "name": "stdout",
     "output_type": "stream",
     "text": [
      "X Scaled Test Dataset\n"
     ]
    },
    {
     "data": {
      "text/plain": [
       "array([[-0.11388626, -0.56499433, -0.52918765, ...,  0.03338157,\n",
       "        -0.1134951 ,  0.95229105],\n",
       "       [ 0.70888992, -0.72382647, -0.13217255, ...,  0.03338157,\n",
       "        -0.3042165 , -0.5570068 ],\n",
       "       [ 1.09285214, -1.13959298, -0.21157557, ..., -0.39913606,\n",
       "        -0.47639553, -1.30573317],\n",
       "       ...,\n",
       "       [ 0.7487821 , -0.76119874,  0.74126065, ...,  0.10875808,\n",
       "        -0.20620689, -0.03222676],\n",
       "       [ 0.73382253, -0.80324255,  0.5030516 , ..., -0.02763752,\n",
       "        -0.29362086,  0.11520238],\n",
       "       [-1.21092117,  0.62157525,  0.1060365 , ..., -0.59744809,\n",
       "        -0.65652129, -0.3908053 ]])"
      ]
     },
     "execution_count": 12,
     "metadata": {},
     "output_type": "execute_result"
    }
   ],
   "source": [
    "#Scaling the training data\n",
    "X_test_scaled=scaler.transform(X_test)\n",
    "#X_test_scaled = pd.DataFrame( \\\n",
    "#        data = X_test_scaled, columns = X_test.columns)\n",
    "print('X Scaled Test Dataset')\n",
    "X_test_scaled"
   ]
  },
  {
   "cell_type": "code",
   "execution_count": 13,
   "metadata": {
    "colab": {
     "base_uri": "https://localhost:8080/"
    },
    "id": "H0O4No9GLrnA",
    "outputId": "3bcebd2d-4cb3-41a9-c54e-d958b3d82dbf"
   },
   "outputs": [
    {
     "data": {
      "text/plain": [
       "array([[-1.13113681,  1.91091856,  1.85290292, -0.97858972, -1.04294314,\n",
       "        -0.99407214, -1.05120862, -1.2222887 ],\n",
       "       [-1.12615029,  0.76639279, -0.92620274,  0.19946448,  0.16877038,\n",
       "         0.54845443,  0.27854331,  0.71761009],\n",
       "       [ 0.70888992, -0.7004688 ,  1.85290292, -1.02423644, -1.0022334 ,\n",
       "        -0.94920516, -1.03796408, -1.18162406],\n",
       "       [-1.21590769,  0.62157525,  1.13827575, -0.2132003 , -0.06351462,\n",
       "        -0.18915862, -0.08700602, -0.69687411],\n",
       "       [ 0.86347211, -0.70981187, -0.29097859,  0.38758429,  0.07298275,\n",
       "         0.27207387,  0.10371537,  0.51338795]])"
      ]
     },
     "execution_count": 13,
     "metadata": {},
     "output_type": "execute_result"
    }
   ],
   "source": [
    "X_train_scaled[:5]"
   ]
  },
  {
   "cell_type": "markdown",
   "metadata": {
    "id": "Qotd7gQVMRYT"
   },
   "source": [
    "**Solution Q.5. Part 2**"
   ]
  },
  {
   "cell_type": "code",
   "execution_count": 14,
   "metadata": {
    "colab": {
     "base_uri": "https://localhost:8080/"
    },
    "id": "LWfEVV4uOaMw",
    "outputId": "06caf35a-8806-438f-843d-28c6e89d661b"
   },
   "outputs": [
    {
     "name": "stdout",
     "output_type": "stream",
     "text": [
      "Best alpha for Ridge Regression 12.915496650148826\n",
      "MSE for this alpha: 4863142312.117586\n",
      "Best alpha for Lasso Regression 57.22367659350197\n",
      "MSE for this alpha: 4863275273.656404\n"
     ]
    }
   ],
   "source": [
    "from sklearn.model_selection import KFold, cross_val_score\n",
    "from sklearn.linear_model import Ridge, Lasso\n",
    "import pandas as pd\n",
    "import numpy as np\n",
    "\n",
    "alphas=10**np.linspace(10,-6,100)\n",
    "lasso_dict={}\n",
    "ridge_dict={}\n",
    "\n",
    "#Implementing cross validation\n",
    "cv = KFold(n_splits=5, random_state=1,shuffle=True)\n",
    "for a in alphas:\n",
    "  model_r=Ridge(alpha=a)\n",
    "  scores_r = cross_val_score(model_r, X_train_scaled, Y_train, scoring='neg_mean_squared_error', cv=cv, n_jobs=-1)\n",
    "\n",
    "  model_l=Lasso(alpha=a)\n",
    "  scores_l = cross_val_score(model_l, X_train_scaled, Y_train, scoring='neg_mean_squared_error', cv=cv, n_jobs=-1)\n",
    "\n",
    "  ridge_dict[a]=np.mean(np.absolute(scores_r))\n",
    "  lasso_dict[a]=np.mean(np.absolute(scores_l))\n",
    "\n",
    "best_alpha_r=min(ridge_dict,key=ridge_dict.get)\n",
    "best_alpha_l=min(lasso_dict,key=lasso_dict.get)\n",
    "\n",
    "print('Best alpha for Ridge Regression',best_alpha_r)\n",
    "print('MSE for this alpha:',min(ridge_dict.values()))\n",
    "print('Best alpha for Lasso Regression',best_alpha_l)\n",
    "print('MSE for this alpha:',min(lasso_dict.values()))"
   ]
  },
  {
   "cell_type": "markdown",
   "metadata": {
    "id": "Ah8f0-NVgjzl"
   },
   "source": [
    "**Solution Q.5. Part 3 Part a**"
   ]
  },
  {
   "cell_type": "code",
   "execution_count": 17,
   "metadata": {
    "colab": {
     "base_uri": "https://localhost:8080/",
     "height": 1000
    },
    "id": "Ly1J_ddteBPb",
    "outputId": "33a3e0fa-eead-482c-c141-f0068630f20b"
   },
   "outputs": [
    {
     "data": {
      "text/plain": [
       "Text(0.5, 1.0, 'Ridge Regression')"
      ]
     },
     "execution_count": 17,
     "metadata": {},
     "output_type": "execute_result"
    },
    {
     "data": {
      "image/png": "[encoded data removed]",
      "text/plain": [
       "<Figure size 432x288 with 1 Axes>"
      ]
     },
     "metadata": {
      "needs_background": "light"
     },
     "output_type": "display_data"
    }
   ],
   "source": [
    "import matplotlib.pyplot as plt\n",
    "%matplotlib inline\n",
    "\n",
    "import warnings\n",
    "warnings.filterwarnings('ignore')\n",
    "\n",
    "alphas=10**np.linspace(6,-6,100)\n",
    "ridge = Ridge(normalize = True)\n",
    "coefs = []\n",
    "\n",
    "for a in alphas:\n",
    "    ridge.set_params(alpha = a)\n",
    "    ridge.fit(X_train_scaled, Y_train)\n",
    "    coefs.append(ridge.coef_)\n",
    "    \n",
    "np.shape(coefs)\n",
    "\n",
    "ax = plt.gca()\n",
    "ax.plot(alphas, coefs)\n",
    "ax.set_xscale('log')\n",
    "plt.axis('tight')\n",
    "plt.xlabel('alpha')\n",
    "plt.ylabel('weights')\n",
    "plt.title('Ridge Regression')"
   ]
  },
  {
   "cell_type": "code",
   "execution_count": 18,
   "metadata": {
    "colab": {
     "base_uri": "https://localhost:8080/",
     "height": 1000
    },
    "id": "bcJ-ZgNlhUQu",
    "outputId": "f43d020c-ed79-4487-fa18-83f112087bbf"
   },
   "outputs": [
    {
     "data": {
      "text/plain": [
       "Text(0.5, 1.0, 'Lasso Regression')"
      ]
     },
     "execution_count": 18,
     "metadata": {},
     "output_type": "execute_result"
    },
    {
     "data": {
      "image/png": "[encoded data removed]",
      "text/plain": [
       "<Figure size 432x288 with 1 Axes>"
      ]
     },
     "metadata": {
      "needs_background": "light"
     },
     "output_type": "display_data"
    }
   ],
   "source": [
    "import warnings\n",
    "warnings.filterwarnings('ignore')\n",
    "\n",
    "lasso = Lasso(max_iter = 10000, normalize = True)\n",
    "coefs = []\n",
    "\n",
    "for a in alphas:\n",
    "    lasso.set_params(alpha=a)\n",
    "    lasso.fit(X_train_scaled, Y_train)\n",
    "    coefs.append(lasso.coef_)\n",
    "    \n",
    "ax = plt.gca()\n",
    "ax.plot(alphas*2, coefs)\n",
    "ax.set_xscale('log')\n",
    "plt.axis('tight')\n",
    "plt.xlabel('alpha')\n",
    "plt.ylabel('weights')\n",
    "plt.title('Lasso Regression')"
   ]
  },
  {
   "cell_type": "markdown",
   "metadata": {
    "id": "upX_nusbjZVL"
   },
   "source": [
    "**Solution Q.5. Part 3 Part b**"
   ]
  },
  {
   "cell_type": "markdown",
   "metadata": {
    "id": "bxbcxTgRjbnS"
   },
   "source": [
    "When the value of aplha in Ridge regression approaches to zero, the weights or coefficients are reduced significantly in a proportion (based on sum of squares of coefficients) that is smooth. However, in Lasso Regression, when alpha is slightly larger than zero, the weights are greatly reduced based on the absolute values of the coefficients and thus, we can notice that some coefficients are reduced drastically. Both plots qualitatively showcase, reduction of coefficients or weights of the predictors, thus leading to shrinkage of features."
   ]
  },
  {
   "cell_type": "markdown",
   "metadata": {
    "id": "B9X3c-A7lNdJ"
   },
   "source": [
    "**Solution Q.5. Part 4 Part a**"
   ]
  },
  {
   "cell_type": "code",
   "execution_count": 25,
   "metadata": {
    "colab": {
     "base_uri": "https://localhost:8080/",
     "height": 316
    },
    "id": "VxOYk75mlfd9",
    "outputId": "ef3f5126-1722-470c-d04c-b0c8428745bb"
   },
   "outputs": [
    {
     "data": {
      "text/plain": [
       "Text(0.5, 1.0, 'ElasticNet Regression')"
      ]
     },
     "execution_count": 25,
     "metadata": {},
     "output_type": "execute_result"
    },
    {
     "data": {
      "image/png": "[encoded data removed]",
      "text/plain": [
       "<Figure size 432x288 with 1 Axes>"
      ]
     },
     "metadata": {
      "needs_background": "light"
     },
     "output_type": "display_data"
    }
   ],
   "source": [
    "from sklearn.linear_model import ElasticNet\n",
    "\n",
    "elastic = ElasticNet(random_state=0)\n",
    "coefs = []\n",
    "\n",
    "for a in alphas:\n",
    "    elastic.set_params(alpha=a)\n",
    "    elastic.fit(X_train_scaled, Y_train)\n",
    "    coefs.append(elastic.coef_)\n",
    "    \n",
    "ax = plt.gca()\n",
    "ax.plot(alphas*2, coefs)\n",
    "ax.set_xscale('log')\n",
    "plt.axis('tight')\n",
    "plt.xlabel('alpha')\n",
    "plt.ylabel('weights')\n",
    "plt.title('ElasticNet Regression')"
   ]
  },
  {
   "cell_type": "markdown",
   "metadata": {
    "id": "rukdRz7lmwX0"
   },
   "source": [
    "**Solution Q.5. Part 4 Part b**\n",
    "\n",
    "Based on the observations from the plots, we can conclude the following:\n",
    "\n",
    "1. Elastic Net is better than Ridge and Lasso regression in handling bias. Small bias leads to the disturbance of prediction as it is dependent on a variable. Therefore Elastic Net is better in handling collinearity than the combined ridge and lasso regression.\n",
    "\n",
    "2. When it comes to complexity, Elastic Net performs better than ridge and lasso regression as both ridge and lasso, the number of variables is not significantly reduced which impacts the model accuracy.\n",
    "\n",
    "3. Ridge and Elastic Net could be considered better than the Lasso Regression as Lasso regression predictors do not perform as accurately as Ridge and Elastic Net. Lasso Regression tends to pick non-zero as predictors and sometimes it affects accuracy.\n",
    "\n",
    "To summarize -\n",
    "\n",
    "**Ridge Regression**\n",
    "1. *Pros:* Trades variance for bias and works best in colinear datasets\n",
    "2. *Cons:* Model interpret-ability is low\n",
    "\n",
    "**Lasso Regression**\n",
    "1. *Pros:* Select features, by shrinking co-efficient towards zero and avoid overfitting\n",
    "2. *Cons:* For n<<p (n-number of data points, p-number of features), LASSO selects at most n features.\n",
    "\n",
    "**ElasticNet Regression**\n",
    "1. *Pros:* Doesn’t have the problem of selecting more than n predictors when n<<p, whereas LASSO saturates when n<<p.\n",
    "\n",
    "2. *Cons:* Computationally more expensive than LASSO or Ridge.\n"
   ]
  },
  {
   "cell_type": "markdown",
   "metadata": {
    "id": "TGPx7wv8n6vh"
   },
   "source": [
    "**Solution Q.5. Part 5 Part a - Linear Regression without Regularization**"
   ]
  },
  {
   "cell_type": "code",
   "execution_count": 19,
   "metadata": {
    "colab": {
     "base_uri": "https://localhost:8080/"
    },
    "id": "osVKN3zFoOkO",
    "outputId": "e0be1572-1205-4400-fde1-76b69d04cda7"
   },
   "outputs": [
    {
     "name": "stdout",
     "output_type": "stream",
     "text": [
      "Training Stats for Linear Regression without Regularization\n",
      "R-squared value:  0.6362272647678572\n",
      "MSE:  4831534611.158463\n",
      "Testing Stats for Linear Regression without Regularization\n",
      "R-squared value:  0.6384697484766777\n",
      "MSE:  4861014374.694436\n"
     ]
    }
   ],
   "source": [
    "from sklearn.linear_model import Ridge, Lasso, LinearRegression\n",
    "from sklearn.metrics import mean_squared_error\n",
    "\n",
    "model_lm=LinearRegression()\n",
    "model_lm.fit(X_train_scaled,Y_train)\n",
    "r_sq = model_lm.score(X_train_scaled,Y_train)\n",
    "print('Training Stats for Linear Regression without Regularization')\n",
    "print(\"R-squared value: \",r_sq)\n",
    "Y_train_pred = model_lm.predict(X_train_scaled)\n",
    "print(\"MSE: \",mean_squared_error(Y_train,Y_train_pred))\n",
    "\n",
    "r_sq_test = model_lm.score(X_test_scaled,Y_test)\n",
    "print('Testing Stats for Linear Regression without Regularization')\n",
    "print(\"R-squared value: \",r_sq_test)\n",
    "Y_test_pred = model_lm.predict(X_test_scaled)\n",
    "print(\"MSE: \",mean_squared_error(Y_test,Y_test_pred))"
   ]
  },
  {
   "cell_type": "markdown",
   "metadata": {
    "id": "73lFe6Xm36bO"
   },
   "source": [
    "**Solution Q.5. Part 5 Part b - Linear Regression without Ridge Regularization**"
   ]
  },
  {
   "cell_type": "code",
   "execution_count": 20,
   "metadata": {
    "colab": {
     "base_uri": "https://localhost:8080/"
    },
    "id": "Mcn9Fk7o351u",
    "outputId": "e1f5f230-06da-4a73-dfc8-8f6cdc5169b6"
   },
   "outputs": [
    {
     "name": "stdout",
     "output_type": "stream",
     "text": [
      "Training Stats for Linear Regression with Ridge Regularization\n",
      "R-squared value:  0.6362119589992583\n",
      "MSE:  4831737898.385828\n",
      "Testing Stats for Linear Regression with Ridge Regularization\n",
      "R-squared value:  0.6383939958648206\n",
      "MSE:  4862032918.878794\n"
     ]
    }
   ],
   "source": [
    "#Fitting model with best regularization parameter\n",
    "model_r=Ridge(alpha=12.91)\n",
    "model_r.fit(X_train_scaled, Y_train)             # Fit a ridge regression on the training data\n",
    "r_sq_r=model_r.score(X_train_scaled,Y_train)\n",
    "print('Training Stats for Linear Regression with Ridge Regularization')\n",
    "print(\"R-squared value: \",r_sq_r)\n",
    "Y_train_r_pred = model_r.predict(X_train_scaled)\n",
    "print(\"MSE: \",mean_squared_error(Y_train,Y_train_r_pred))\n",
    "\n",
    "r_sq_r_test = model_r.score(X_test_scaled,Y_test)\n",
    "print('Testing Stats for Linear Regression with Ridge Regularization')\n",
    "print(\"R-squared value: \",r_sq_r_test)\n",
    "Y_test_r_pred = model_r.predict(X_test_scaled)\n",
    "print(\"MSE: \",mean_squared_error(Y_test,Y_test_r_pred))"
   ]
  },
  {
   "cell_type": "markdown",
   "metadata": {
    "id": "tbadrhD64FqX"
   },
   "source": [
    "**Solution Q.5. Part 5 Part c - Linear Regression without Lasso Regularization**"
   ]
  },
  {
   "cell_type": "code",
   "execution_count": 21,
   "metadata": {
    "colab": {
     "base_uri": "https://localhost:8080/"
    },
    "id": "bms7kYVI6To0",
    "outputId": "66ec9e1c-6664-4ada-ac9d-02d6b35a364f"
   },
   "outputs": [
    {
     "name": "stdout",
     "output_type": "stream",
     "text": [
      "Training Stats for Linear Regression with Ridge Regularization\n",
      "R-squared value:  0.6362089078878258\n",
      "MSE:  4831778422.452258\n",
      "Testing Stats for Linear Regression with Ridge Regularization\n",
      "R-squared value:  0.6384660290545199\n",
      "MSE:  4862032918.878794\n"
     ]
    }
   ],
   "source": [
    "#Fitting model with best regularization parameter\n",
    "model_l=Lasso(alpha=57.22)\n",
    "model_l.fit(X_train_scaled, Y_train)             # Fit a Lasso regression on the training data\n",
    "r_sq_l=model_l.score(X_train_scaled,Y_train)\n",
    "print('Training Stats for Linear Regression with Ridge Regularization')\n",
    "print(\"R-squared value: \",r_sq_l)\n",
    "Y_train_l_pred = model_l.predict(X_train_scaled)\n",
    "print(\"MSE: \",mean_squared_error(Y_train,Y_train_l_pred))\n",
    "\n",
    "r_sq_l_test = model_l.score(X_test_scaled,Y_test)\n",
    "print('Testing Stats for Linear Regression with Ridge Regularization')\n",
    "print(\"R-squared value: \",r_sq_l_test)\n",
    "Y_test_l_pred = model_r.predict(X_test_scaled)\n",
    "print(\"MSE: \",mean_squared_error(Y_test,Y_test_l_pred))"
   ]
  },
  {
   "cell_type": "markdown",
   "metadata": {
    "id": "pIZZtVkp7Mo4"
   },
   "source": [
    "**Solution Q.5. Part 6 - Fit models against unscaled data**"
   ]
  },
  {
   "cell_type": "code",
   "execution_count": 22,
   "metadata": {
    "colab": {
     "base_uri": "https://localhost:8080/"
    },
    "id": "8RY_EQZM7DmH",
    "outputId": "fc2a5cb5-1ca0-4d80-e9af-be3143456c0e"
   },
   "outputs": [
    {
     "name": "stdout",
     "output_type": "stream",
     "text": [
      "Training Stats for Linear Regression without Regularization\n",
      "R-squared value:  0.6362272647678572\n",
      "MSE:  4831534611.158463\n",
      "Testing Stats for Linear Regression without Regularization\n",
      "R-squared value:  0.6384697484766748\n",
      "MSE:  4861014374.694476\n"
     ]
    }
   ],
   "source": [
    "#Fit Linear Regression model on unscaled data\n",
    "model_lm=LinearRegression()\n",
    "model_lm.fit(X_train,Y_train)\n",
    "r_sq = model_lm.score(X_train,Y_train)\n",
    "print('Training Stats for Linear Regression without Regularization')\n",
    "print(\"R-squared value: \",r_sq)\n",
    "Y_train_pred = model_lm.predict(X_train)\n",
    "print(\"MSE: \",mean_squared_error(Y_train,Y_train_pred))\n",
    "\n",
    "r_sq_test = model_lm.score(X_test,Y_test)\n",
    "print('Testing Stats for Linear Regression without Regularization')\n",
    "print(\"R-squared value: \",r_sq_test)\n",
    "Y_test_pred = model_lm.predict(X_test)\n",
    "print(\"MSE: \",mean_squared_error(Y_test,Y_test_pred))"
   ]
  },
  {
   "cell_type": "code",
   "execution_count": 79,
   "metadata": {
    "colab": {
     "base_uri": "https://localhost:8080/"
    },
    "id": "J4qzGs_O70p0",
    "outputId": "0a3ade62-5f0e-4c6d-ebf6-0b415dc638cb"
   },
   "outputs": [
    {
     "name": "stdout",
     "output_type": "stream",
     "text": [
      "Training Stats for Linear Regression with Ridge Regularization\n",
      "R-squared value:  0.6362265943796025\n",
      "MSE:  4831543515.08045\n",
      "Testing Stats for Linear Regression with Ridge Regularization\n",
      "R-squared value:  0.638456184477484\n",
      "MSE:  4861196751.67335\n"
     ]
    }
   ],
   "source": [
    "#Fit Linear Regression model with Ridge regularization on unscaled data\n",
    "model_r1=Ridge(alpha=12.91)\n",
    "model_r1.fit(X_train, Y_train)             # Fit a ridge regression on the training data\n",
    "r_sq_r1=model_r1.score(X_train,Y_train)\n",
    "print('Training Stats for Linear Regression with Ridge Regularization')\n",
    "print(\"R-squared value: \",r_sq_r1)\n",
    "Y_train_r1_pred = model_r1.predict(X_train)\n",
    "print(\"MSE: \",mean_squared_error(Y_train,Y_train_r1_pred))\n",
    "\n",
    "r_sq_r1_test = model_r1.score(X_test,Y_test)\n",
    "print('Testing Stats for Linear Regression with Ridge Regularization')\n",
    "print(\"R-squared value: \",r_sq_r1_test)\n",
    "Y_test_r1_pred = model_r1.predict(X_test)\n",
    "print(\"MSE: \",mean_squared_error(Y_test,Y_test_r1_pred))"
   ]
  },
  {
   "cell_type": "code",
   "execution_count": 23,
   "metadata": {
    "colab": {
     "base_uri": "https://localhost:8080/"
    },
    "id": "ET3UhrDJ8d9j",
    "outputId": "0f6b52e1-7660-4ade-f2bc-ce32321df43a"
   },
   "outputs": [
    {
     "name": "stdout",
     "output_type": "stream",
     "text": [
      "Training Stats for Linear Regression with Lasso Regularization\n",
      "R-squared value:  0.6362255545400847\n",
      "MSE:  4831557325.957774\n",
      "Testing Stats for Linear Regression with Lasso Regularization\n",
      "R-squared value:  0.638448775134651\n",
      "MSE:  8804913741967919.0\n"
     ]
    }
   ],
   "source": [
    "#Fit Linear Regression model with Lasso regularization on unscaled data\n",
    "model_l1=Lasso(alpha=57.22)\n",
    "model_l1.fit(X_train, Y_train)             # Fit a Lasso regression on the training data\n",
    "r_sq_l1=model_l1.score(X_train,Y_train)\n",
    "print('Training Stats for Linear Regression with Lasso Regularization')\n",
    "print(\"R-squared value: \",r_sq_l1)\n",
    "Y_train_l1_pred = model_l1.predict(X_train)\n",
    "print(\"MSE: \",mean_squared_error(Y_train,Y_train_l1_pred))\n",
    "\n",
    "r_sq_l1_test = model_l1.score(X_test,Y_test)\n",
    "print('Testing Stats for Linear Regression with Lasso Regularization')\n",
    "print(\"R-squared value: \",r_sq_l1_test)\n",
    "Y_test_l1_pred = model_r.predict(X_test)\n",
    "print(\"MSE: \",mean_squared_error(Y_test,Y_test_l1_pred))"
   ]
  },
  {
   "cell_type": "markdown",
   "metadata": {
    "id": "AldHv6_9KCKB"
   },
   "source": [
    "**Solution Q.5. Part 7**"
   ]
  },
  {
   "cell_type": "markdown",
   "metadata": {
    "id": "TWe-BR8vKwHs"
   },
   "source": [
    "Scaling in Lasso and Ridge Regularization is necessary as the penalty \n",
    "on the magnitude of the coefficients associated with each variable. The scale of variables will affect how much penalty will be applied on their coefficients. Coefficients of variables with large variance are small and thus less penalized. Therefore, standardization is required before fitting both regressions.\n",
    "\n",
    " "
   ]
  }
 ],
 "metadata": {
  "colab": {
   "collapsed_sections": [],
   "provenance": []
  },
  "kernelspec": {
   "display_name": "Python 3 (ipykernel)",
   "language": "python",
   "name": "python3"
  },
  "language_info": {
   "codemirror_mode": {
    "name": "ipython",
    "version": 3
   },
   "file_extension": ".py",
   "mimetype": "text/x-python",
   "name": "python",
   "nbconvert_exporter": "python",
   "pygments_lexer": "ipython3",
   "version": "3.9.12"
  }
 },
 "nbformat": 4,
 "nbformat_minor": 1
}
