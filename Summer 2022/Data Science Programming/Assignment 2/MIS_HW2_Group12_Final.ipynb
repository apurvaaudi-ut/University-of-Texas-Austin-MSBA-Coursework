{
 "cells": [
  {
   "cell_type": "markdown",
   "id": "d8899c5c",
   "metadata": {},
   "source": [
    "<b style=\"font-size: 32px\" > MIS HW 2\n",
    "\n",
    "<b style=\"font-size: 26px\"> Group 12 \n",
    "\n",
    "<b style=\"font-size: 18px\"> Apurva Audi, Vivek Dhulipalla, Kshitij Mahajan "
   ]
  },
  {
   "cell_type": "code",
   "execution_count": 52,
   "id": "ca75407f",
   "metadata": {},
   "outputs": [],
   "source": [
    "import pandas as pd\n",
    "from pandas import Series, DataFrame\n",
    "import numpy as np"
   ]
  },
  {
   "cell_type": "code",
   "execution_count": 53,
   "id": "b388bec9",
   "metadata": {},
   "outputs": [
    {
     "data": {
      "text/plain": [
       "44633"
      ]
     },
     "execution_count": 53,
     "metadata": {},
     "output_type": "execute_result"
    }
   ],
   "source": [
    "df = pd.read_csv(\"NYC_Restaurants.csv\",dtype=str)\n",
    "df.head()\n",
    "#len(df.columns)\n",
    "df.columns\n",
    "len(df)"
   ]
  },
  {
   "cell_type": "markdown",
   "id": "18f5094f",
   "metadata": {},
   "source": [
    "#### Q.1. Create a unique name for each restaurant\n",
    "On the DataFrame created above, add a new column to your DataFrame, called ’RESTAURANT’, that combines DBA, BUILDING, STREET, ZIPCODE,and BORO fields. For example, “WENDY’S 469 FLATBUSH AVENUE 11225 BROOKLYN”. Print the first 10 values of the RESTAURANT column of your DataFrame."
   ]
  },
  {
   "cell_type": "code",
   "execution_count": 54,
   "id": "2ae27c0c",
   "metadata": {},
   "outputs": [
    {
     "data": {
      "text/plain": [
       "0                    WENDY'S 469 FLATBUSH AVENUE 11225\n",
       "1                    WENDY'S 469 FLATBUSH AVENUE 11225\n",
       "2                    WENDY'S 469 FLATBUSH AVENUE 11225\n",
       "3                    WENDY'S 469 FLATBUSH AVENUE 11225\n",
       "4                    WENDY'S 469 FLATBUSH AVENUE 11225\n",
       "5               TOV KOSHER KITCHEN 97-22 63 ROAD 11374\n",
       "6               TOV KOSHER KITCHEN 97-22 63 ROAD 11374\n",
       "7               TOV KOSHER KITCHEN 97-22 63 ROAD 11374\n",
       "8               TOV KOSHER KITCHEN 97-22 63 ROAD 11374\n",
       "9    BRUNOS ON THE BOULEVARD 8825 ASTORIA BOULEVARD...\n",
       "Name: RESTAURANT, dtype: object"
      ]
     },
     "execution_count": 54,
     "metadata": {},
     "output_type": "execute_result"
    }
   ],
   "source": [
    "df['RESTAURANT'] = df[['DBA','BUILDING','STREET','ZIPCODE']].apply(lambda x: \" \".join(x),axis = 1)\n",
    "df['RESTAURANT'][:10]"
   ]
  },
  {
   "cell_type": "markdown",
   "id": "2128c2a6",
   "metadata": {},
   "source": [
    "#### Q.2. How many restaurants are included in the data? \n",
    "Careful now:\n",
    "• A “Subway” in one particular address (i.e., building, street, zipcode,\n",
    "and boro) counts as one restaurant; don’t combine all Subways into\n",
    "one restaurant!\n",
    "• The data can have multiple violations for the same restaurant!"
   ]
  },
  {
   "cell_type": "code",
   "execution_count": 55,
   "id": "48e29901",
   "metadata": {},
   "outputs": [
    {
     "name": "stdout",
     "output_type": "stream",
     "text": [
      "Total Number of Restaurants :  10114\n"
     ]
    }
   ],
   "source": [
    "res_mask = df['RESTAURANT'].unique()\n",
    "print(\"Total Number of Restaurants : \",len(res_mask))"
   ]
  },
  {
   "cell_type": "markdown",
   "id": "e5dd98a9",
   "metadata": {},
   "source": [
    "#### Q.3. How many chains are there? \n",
    "Let us define a chain to be the same restaurant name occurring in at least two different (building, street, zipcode, boro) addresses (i.e., one DBA with multiple restaurant locations).\n",
    "You’ll see multiple versions of the name ”DUNKIN DONUTS”. Just act as if they are different chains."
   ]
  },
  {
   "cell_type": "code",
   "execution_count": 56,
   "id": "09b05982",
   "metadata": {
    "scrolled": true
   },
   "outputs": [
    {
     "data": {
      "text/plain": [
       "368"
      ]
     },
     "execution_count": 56,
     "metadata": {},
     "output_type": "execute_result"
    }
   ],
   "source": [
    "df_uniq_res = df.drop_duplicates(subset='RESTAURANT')\n",
    "chains_mask = df_uniq_res['DBA'].value_counts().values > 1\n",
    "chains_mask.sum()                                                 "
   ]
  },
  {
   "cell_type": "markdown",
   "id": "d5315df8",
   "metadata": {},
   "source": [
    "#### Q.4.Plot a bar graph of the top 20 most popular chains.\n",
    "We already have the chains from the previous problem. Count the number of restaurants for each chain as a measure of its popularity."
   ]
  },
  {
   "cell_type": "code",
   "execution_count": 57,
   "id": "f204a9e5",
   "metadata": {},
   "outputs": [
    {
     "data": {
      "text/plain": [
       "<AxesSubplot:>"
      ]
     },
     "execution_count": 57,
     "metadata": {},
     "output_type": "execute_result"
    },
    {
     "data": {
      "image/png": "[encoded data removed]",
      "text/plain": [
       "<Figure size 432x288 with 1 Axes>"
      ]
     },
     "metadata": {
      "needs_background": "light"
     },
     "output_type": "display_data"
    }
   ],
   "source": [
    "df_uniq_res['DBA'].value_counts()[:20].plot(kind='bar')"
   ]
  },
  {
   "cell_type": "markdown",
   "id": "c6da1398",
   "metadata": {},
   "source": [
    "#### Q.5. What fraction of all restaurants are chain restaurants?\n",
    "You should think of a restaurant as being one restaurant at one location. So “Wendy’s 5th Street” and “Wendy’s on 10th Street” are two different restaurants. Essentially a restaurant is what you defined in Q1."
   ]
  },
  {
   "cell_type": "code",
   "execution_count": 58,
   "id": "47855384",
   "metadata": {},
   "outputs": [
    {
     "name": "stdout",
     "output_type": "stream",
     "text": [
      "Fraction of all restaurants which are chain restaurants :  0.16472216729286138\n"
     ]
    }
   ],
   "source": [
    "'''\n",
    "Using the dataframe referring to the unique restaurants based on address.\n",
    "Computing the actual sum of restaurants for which the sum is more than 1.\n",
    "'''\n",
    "non_chains= sum(df_uniq_res['DBA'].value_counts()==1)\n",
    "chain_res_fraction = (len(res_mask) - non_chains)/len(res_mask)\n",
    "\n",
    "print(\"Fraction of all restaurants which are chain restaurants : \", chain_res_fraction)"
   ]
  },
  {
   "cell_type": "markdown",
   "id": "c3a426b3",
   "metadata": {},
   "source": [
    "#### Q.6. Plot the number of non-chain restaurants in each boro. \n",
    "First, we need to figure out all the non-chain restaurants, then select out only those restaurants, and finally plot the number of such restaurants by boro. Make sure to look at the plot; we don’t want to see... oh... the “missing” boro."
   ]
  },
  {
   "cell_type": "code",
   "execution_count": 59,
   "id": "c37b2087",
   "metadata": {
    "scrolled": true
   },
   "outputs": [
    {
     "data": {
      "text/plain": [
       "<AxesSubplot:>"
      ]
     },
     "execution_count": 59,
     "metadata": {},
     "output_type": "execute_result"
    },
    {
     "data": {
      "image/png": "[encoded data removed]",
      "text/plain": [
       "<Figure size 432x288 with 1 Axes>"
      ]
     },
     "metadata": {
      "needs_background": "light"
     },
     "output_type": "display_data"
    }
   ],
   "source": [
    "#Replacing 'Missing' Borough names with NaN values\n",
    "df_uniq_res= df_uniq_res.replace('Missing',np.nan)\n",
    "\n",
    "# #Dropping rows with NaN values\n",
    "df_uniq_res.dropna()\n",
    "\n",
    "# #Creating unique mask for restaurants to find non-chain restaurants - value would be 1 for them\n",
    "uniq_mask = (df_uniq_res['DBA'].value_counts() == 1)\n",
    "\n",
    "#Creating dataframe using value_counts() output as a dictionary\n",
    "df_non_chain = pd.DataFrame({'DBA':uniq_mask.index, 'is_non_chain':uniq_mask.values})\n",
    "\n",
    "\n",
    "#Adding a column using apply function to assign True - non-chain restaurants value of 1.\n",
    "df_non_chain['is_non_chain']= df_non_chain['is_non_chain'].apply(lambda x : 1 if x == True else 0)\n",
    "\n",
    "#Merging the dataframe created with mask with the unique restaurant list using the DBA column.\n",
    "uniq_res_merge = df_uniq_res.merge(df_non_chain,left_on='DBA',right_on='DBA')\n",
    "\n",
    "#Selecting all non-chain columns to group with their respective BORO.\n",
    "uniq_res_merge['BORO'][uniq_res_merge['is_non_chain'] == 1].value_counts().plot(kind='bar')"
   ]
  },
  {
   "cell_type": "markdown",
   "id": "6c95a6e0",
   "metadata": {},
   "source": [
    "#### Q.7.Plot the fraction of non-chain restaurants in each boro. \n",
    "The boro with the most non-chain restaurants might just be the boro with the most restaurants in general. If we want to find the boro that attracts the most “independent” restauranteurs, we must divide the number of non-chain restaurants by the total number of restaurants in the boro. Plot this.\n",
    "Is the boro with the most independent restaurants also the one with the highest ratio of independent restaurants?"
   ]
  },
  {
   "cell_type": "code",
   "execution_count": 60,
   "id": "69266159",
   "metadata": {},
   "outputs": [
    {
     "data": {
      "text/plain": [
       "<AxesSubplot:>"
      ]
     },
     "execution_count": 60,
     "metadata": {},
     "output_type": "execute_result"
    },
    {
     "data": {
      "image/png": "[encoded data removed]",
      "text/plain": [
       "<Figure size 432x288 with 1 Axes>"
      ]
     },
     "metadata": {
      "needs_background": "light"
     },
     "output_type": "display_data"
    }
   ],
   "source": [
    "total_non_chain = uniq_res_merge['BORO'].value_counts()\n",
    "non_chain_res = uniq_res_merge['BORO'][uniq_res_merge['is_non_chain'] == 1].value_counts()\n",
    "(non_chain_res/total_non_chain).plot(kind='bar')"
   ]
  },
  {
   "cell_type": "markdown",
   "id": "bd477d72",
   "metadata": {},
   "source": [
    "#### Q.8. Plot the popularity of cuisines. \n",
    "Which cuisines are the most well-represented among all restaurants? Define the popularity of a cuisine as the number of restaurants serving that cuisine. Plot the popularity of the top 20 cuisines."
   ]
  },
  {
   "cell_type": "code",
   "execution_count": 61,
   "id": "72fa312e",
   "metadata": {},
   "outputs": [
    {
     "data": {
      "text/plain": [
       "<AxesSubplot:>"
      ]
     },
     "execution_count": 61,
     "metadata": {},
     "output_type": "execute_result"
    },
    {
     "data": {
      "image/png": "[encoded data removed]",
      "text/plain": [
       "<Figure size 432x288 with 1 Axes>"
      ]
     },
     "metadata": {
      "needs_background": "light"
     },
     "output_type": "display_data"
    }
   ],
   "source": [
    "#Using uniq_res_merge dataframe which contains list of unique restaurants - 'DBA' and 'RESTAURANT' unique pairs.\n",
    "uniq_res_merge['CUISINE DESCRIPTION'].value_counts()[:20].plot(kind='bar')"
   ]
  },
  {
   "cell_type": "markdown",
   "id": "bd9d9092",
   "metadata": {},
   "source": [
    "#### Q.9.Plot the cuisines among restaurants which never got cited for violations. \n",
    "Ideally, you should explore and see what happens when there is no violation, but here I will just tell you: the ’VIOLATION\n",
    "CODE’ field is missing. First, find the restaurants that were never cited for a code violation. The compute the popularity of each cuisine among these “clean” restaurants. Plot the popularity of the top-20 among these cuisines."
   ]
  },
  {
   "cell_type": "code",
   "execution_count": 74,
   "id": "758e15e2",
   "metadata": {},
   "outputs": [
    {
     "data": {
      "text/plain": [
       "<AxesSubplot:>"
      ]
     },
     "execution_count": 74,
     "metadata": {},
     "output_type": "execute_result"
    },
    {
     "data": {
      "image/png": "[encoded data removed]",
      "text/plain": [
       "<Figure size 432x288 with 1 Axes>"
      ]
     },
     "metadata": {
      "needs_background": "light"
     },
     "output_type": "display_data"
    }
   ],
   "source": [
    "df['VIOLATION FLAG'] = np.where(df['VIOLATION CODE'].isna(), 0, 1)\n",
    "res = df.groupby(['RESTAURANT'])['VIOLATION FLAG'].sum()\n",
    "df_no_violation = df[df['RESTAURANT'].isin(res[res.values == 0].index)][['CUISINE DESCRIPTION','RESTAURANT']].drop_duplicates()\n",
    "df_res = df_no_violation['CUISINE DESCRIPTION'].value_counts()\n",
    "df_res[:20].plot(kind='bar')"
   ]
  },
  {
   "cell_type": "markdown",
   "id": "c16f3004",
   "metadata": {},
   "source": [
    "#### Q.10. What cuisines tend to be the “cleanest”?\n",
    "• Select all cuisines for which there were at least 20 restaurants representing that cuisine.\n",
    "• For each such cuisine, compute the ratio of the counts in Q9 to Q8.This is the ratio of restaurants that never got cited, versus total number of restaurants, for each cuisine.\n",
    "• Find the top-10 cuisines with the highest ratios; these are that cuisines whose restaurants are “most likely to be clean.”"
   ]
  },
  {
   "cell_type": "code",
   "execution_count": 76,
   "id": "77fbc69b",
   "metadata": {},
   "outputs": [
    {
     "name": "stdout",
     "output_type": "stream",
     "text": [
      "Soul Food                         0.090909\n",
      "Vietnamese/Cambodian/Malaysia     0.062500\n",
      "Other                             0.058252\n",
      "Soups & Sandwiches                0.047619\n",
      "Continental                       0.047619\n",
      "Barbecue                          0.047619\n",
      "Asian                             0.041096\n",
      "Chinese                           0.038251\n",
      "Greek                             0.036364\n",
      "Peruvian                          0.035714\n",
      "Tex-Mex                           0.034483\n",
      "Delicatessen                      0.032680\n",
      "Thai                              0.031250\n",
      "Sandwiches/Salads/Mixed Buffet    0.028571\n",
      "Bagels/Pretzels                   0.028571\n",
      "Irish                             0.028571\n",
      "Turkish                           0.028571\n",
      "Chinese/Japanese                  0.028571\n",
      "Donuts                            0.028409\n",
      "Café/Coffee/Tea                   0.028112\n",
      "Name: CUISINE DESCRIPTION, dtype: float64\n"
     ]
    }
   ],
   "source": [
    "every_cuisine = df.drop_duplicates('RESTAURANT')['CUISINE DESCRIPTION'].value_counts()\n",
    "mask=(every_cuisine >=20)\n",
    "clean_cuisine=df_no_violation['CUISINE DESCRIPTION'].value_counts()\n",
    "\n",
    "Output=clean_cuisine[mask]/every_cuisine[mask]\n",
    "\n",
    "Output=Output.sort_values(ascending= False)\n",
    "print(Output[0:20])"
   ]
  },
  {
   "cell_type": "markdown",
   "id": "4a2c4c9f",
   "metadata": {},
   "source": [
    "<b>Q.11.What are the most common violations in each borough?</b>\n",
    "\n",
    "Create a table of the number of times each violation description was observed in each borough, and figure out the most common violation description for each borough. To create the table, check out the crosstab function. We will see a more general version of this when we discuss groupby in class. Once you do have the table, you will still need to find the most common violation description for each boroug .\n"
   ]
  },
  {
   "cell_type": "code",
   "execution_count": 15,
   "id": "5ba9d601",
   "metadata": {},
   "outputs": [
    {
     "data": {
      "text/html": [
       "<div>\n",
       "<style scoped>\n",
       "    .dataframe tbody tr th:only-of-type {\n",
       "        vertical-align: middle;\n",
       "    }\n",
       "\n",
       "    .dataframe tbody tr th {\n",
       "        vertical-align: top;\n",
       "    }\n",
       "\n",
       "    .dataframe thead th {\n",
       "        text-align: right;\n",
       "    }\n",
       "</style>\n",
       "<table border=\"1\" class=\"dataframe\">\n",
       "  <thead>\n",
       "    <tr style=\"text-align: right;\">\n",
       "      <th>BORO</th>\n",
       "      <th>BRONX</th>\n",
       "      <th>BROOKLYN</th>\n",
       "      <th>MANHATTAN</th>\n",
       "      <th>QUEENS</th>\n",
       "      <th>STATEN ISLAND</th>\n",
       "    </tr>\n",
       "    <tr>\n",
       "      <th>VIOLATION DESCRIPTION</th>\n",
       "      <th></th>\n",
       "      <th></th>\n",
       "      <th></th>\n",
       "      <th></th>\n",
       "      <th></th>\n",
       "    </tr>\n",
       "  </thead>\n",
       "  <tbody>\n",
       "    <tr>\n",
       "      <th>\u001aChoking first aid\u001a poster not posted. \u001aAlcohol and pregnancy\u001a warning sign not posted. Resuscitation equipment: exhaled air resuscitation masks (adult &amp; pediatric), latex gloves, sign not posted. Inspection report sign not posted.</th>\n",
       "      <td>12</td>\n",
       "      <td>40</td>\n",
       "      <td>49</td>\n",
       "      <td>29</td>\n",
       "      <td>5</td>\n",
       "    </tr>\n",
       "    <tr>\n",
       "      <th>''''No Smoking\u001a and/or 'Smoking Permitted\u001a sign not conspicuously posted. Health warning not present on 'Smoking Permitted\u001a</th>\n",
       "      <td>1</td>\n",
       "      <td>5</td>\n",
       "      <td>6</td>\n",
       "      <td>4</td>\n",
       "      <td>1</td>\n",
       "    </tr>\n",
       "    <tr>\n",
       "      <th>''''Wash hands\u001a sign not posted at hand wash facility.</th>\n",
       "      <td>21</td>\n",
       "      <td>57</td>\n",
       "      <td>93</td>\n",
       "      <td>60</td>\n",
       "      <td>8</td>\n",
       "    </tr>\n",
       "    <tr>\n",
       "      <th>A food containing artificial trans fat, with 0.5 grams or more of trans fat per serving, is being stored, distributed, held for service, used in preparation of a menu item, or served.</th>\n",
       "      <td>5</td>\n",
       "      <td>12</td>\n",
       "      <td>19</td>\n",
       "      <td>24</td>\n",
       "      <td>3</td>\n",
       "    </tr>\n",
       "    <tr>\n",
       "      <th>Accurate thermometer not provided in refrigerated or hot holding equipment.</th>\n",
       "      <td>21</td>\n",
       "      <td>76</td>\n",
       "      <td>98</td>\n",
       "      <td>92</td>\n",
       "      <td>16</td>\n",
       "    </tr>\n",
       "    <tr>\n",
       "      <th>...</th>\n",
       "      <td>...</td>\n",
       "      <td>...</td>\n",
       "      <td>...</td>\n",
       "      <td>...</td>\n",
       "      <td>...</td>\n",
       "    </tr>\n",
       "    <tr>\n",
       "      <th>Toilet facility not provided for employees or for patrons when required.</th>\n",
       "      <td>2</td>\n",
       "      <td>3</td>\n",
       "      <td>11</td>\n",
       "      <td>3</td>\n",
       "      <td>1</td>\n",
       "    </tr>\n",
       "    <tr>\n",
       "      <th>Toilet facility used by women does not have at least one covered garbage receptacle.</th>\n",
       "      <td>1</td>\n",
       "      <td>5</td>\n",
       "      <td>7</td>\n",
       "      <td>2</td>\n",
       "      <td>1</td>\n",
       "    </tr>\n",
       "    <tr>\n",
       "      <th>Toxic chemical improperly labeled, stored or used such that food contamination may occur.</th>\n",
       "      <td>2</td>\n",
       "      <td>8</td>\n",
       "      <td>15</td>\n",
       "      <td>20</td>\n",
       "      <td>3</td>\n",
       "    </tr>\n",
       "    <tr>\n",
       "      <th>Unprotected food re-served.</th>\n",
       "      <td>1</td>\n",
       "      <td>0</td>\n",
       "      <td>1</td>\n",
       "      <td>0</td>\n",
       "      <td>0</td>\n",
       "    </tr>\n",
       "    <tr>\n",
       "      <th>Wiping cloths soiled or not stored in sanitizing solution.</th>\n",
       "      <td>47</td>\n",
       "      <td>198</td>\n",
       "      <td>285</td>\n",
       "      <td>168</td>\n",
       "      <td>25</td>\n",
       "    </tr>\n",
       "  </tbody>\n",
       "</table>\n",
       "<p>82 rows × 5 columns</p>\n",
       "</div>"
      ],
      "text/plain": [
       "BORO                                                BRONX  BROOKLYN  \\\n",
       "VIOLATION DESCRIPTION                                                 \n",
       "\u001aChoking first aid\u001a poster not posted. \u001aAlcohol...     12        40   \n",
       "''''No Smoking\u001a and/or 'Smoking Permitted\u001a sign...      1         5   \n",
       "''''Wash hands\u001a sign not posted at hand wash fa...     21        57   \n",
       "A food containing artificial trans fat, with 0....      5        12   \n",
       "Accurate thermometer not provided in refrigerat...     21        76   \n",
       "...                                                   ...       ...   \n",
       "Toilet facility not provided for employees or f...      2         3   \n",
       "Toilet facility used by women does not have at ...      1         5   \n",
       "Toxic chemical improperly labeled, stored or us...      2         8   \n",
       "Unprotected food re-served.                             1         0   \n",
       "Wiping cloths soiled or not stored in sanitizin...     47       198   \n",
       "\n",
       "BORO                                                MANHATTAN  QUEENS  \\\n",
       "VIOLATION DESCRIPTION                                                   \n",
       "\u001aChoking first aid\u001a poster not posted. \u001aAlcohol...         49      29   \n",
       "''''No Smoking\u001a and/or 'Smoking Permitted\u001a sign...          6       4   \n",
       "''''Wash hands\u001a sign not posted at hand wash fa...         93      60   \n",
       "A food containing artificial trans fat, with 0....         19      24   \n",
       "Accurate thermometer not provided in refrigerat...         98      92   \n",
       "...                                                       ...     ...   \n",
       "Toilet facility not provided for employees or f...         11       3   \n",
       "Toilet facility used by women does not have at ...          7       2   \n",
       "Toxic chemical improperly labeled, stored or us...         15      20   \n",
       "Unprotected food re-served.                                 1       0   \n",
       "Wiping cloths soiled or not stored in sanitizin...        285     168   \n",
       "\n",
       "BORO                                                STATEN ISLAND  \n",
       "VIOLATION DESCRIPTION                                              \n",
       "\u001aChoking first aid\u001a poster not posted. \u001aAlcohol...              5  \n",
       "''''No Smoking\u001a and/or 'Smoking Permitted\u001a sign...              1  \n",
       "''''Wash hands\u001a sign not posted at hand wash fa...              8  \n",
       "A food containing artificial trans fat, with 0....              3  \n",
       "Accurate thermometer not provided in refrigerat...             16  \n",
       "...                                                           ...  \n",
       "Toilet facility not provided for employees or f...              1  \n",
       "Toilet facility used by women does not have at ...              1  \n",
       "Toxic chemical improperly labeled, stored or us...              3  \n",
       "Unprotected food re-served.                                     0  \n",
       "Wiping cloths soiled or not stored in sanitizin...             25  \n",
       "\n",
       "[82 rows x 5 columns]"
      ]
     },
     "execution_count": 15,
     "metadata": {},
     "output_type": "execute_result"
    }
   ],
   "source": [
    "remove_missing= df[df['BORO']!='Missing']\n",
    "violation_boro = pd.crosstab(index=remove_missing['VIOLATION DESCRIPTION'],columns = remove_missing['BORO'])\n",
    "violation_boro\n",
    "\n"
   ]
  },
  {
   "cell_type": "code",
   "execution_count": 16,
   "id": "ee4eba6a",
   "metadata": {},
   "outputs": [
    {
     "name": "stdout",
     "output_type": "stream",
     "text": [
      "The most common violation description for each borough\n",
      "                   0                                                  1\n",
      "BORO                                                                  \n",
      "BRONX           500  Non-food contact surface improperly constructe...\n",
      "BROOKLYN       1485  Non-food contact surface improperly constructe...\n",
      "MANHATTAN      2417  Non-food contact surface improperly constructe...\n",
      "QUEENS         1416  Non-food contact surface improperly constructe...\n",
      "STATEN ISLAND   230  Non-food contact surface improperly constructe...\n"
     ]
    }
   ],
   "source": [
    "\n",
    "Violation_Boro_max=violation_boro.max()\n",
    "Violation_Boro_new=violation_boro.idxmax()\n",
    "Output=pd.concat([Violation_Boro_max,Violation_Boro_new],axis=1)\n",
    "print(\"The most common violation description for each borough\"+\"\\n\",Output)"
   ]
  },
  {
   "cell_type": "markdown",
   "id": "60683b70",
   "metadata": {},
   "source": [
    "<b>Q.12.What are the most common violations per borough,after normalizing for the relative abundance of each violation?</b>\n",
    "\n",
    "Hopefully, the answer to the previous question left you unsatisfied, because some violations are just very common,irrespective of borough. A better approach would be to normalize the violation counts, as follows.•Get overall frequencies: Figure out how common each violation is, over the entire dataset; let’s call this violationFrequency.•Normalize: Consider the table of number of violations by boro that you created for the previous question. For each borough, divide the number of violations of each type by the total number of violations for\n",
    "that type; i.e., divide the series of violations by violationFrequency. We want to do this for each borough. •Find the biggest violations: Now, after this normalization, for each borough, figure out the most common violation description."
   ]
  },
  {
   "cell_type": "code",
   "execution_count": 17,
   "id": "9c009b37",
   "metadata": {},
   "outputs": [],
   "source": [
    "\n",
    "frequency = df['VIOLATION DESCRIPTION'].value_counts()\n"
   ]
  },
  {
   "cell_type": "code",
   "execution_count": 18,
   "id": "85d75dbe",
   "metadata": {},
   "outputs": [
    {
     "name": "stdout",
     "output_type": "stream",
     "text": [
      "The most common violation description for each borough\n",
      "                       0                                                  1\n",
      "BORO                                                                      \n",
      "BRONX          0.500000                        Unprotected food re-served.\n",
      "BROOKLYN       0.714286  Precooked potentially hazardous food from comm...\n",
      "MANHATTAN      1.000000  Out-of package sale of tobacco products observed.\n",
      "QUEENS         1.000000  Caloric content range (minimum to maximum) not...\n",
      "STATEN ISLAND  0.090909  Eggs found dirty/cracked; liquid, frozen or po...\n"
     ]
    }
   ],
   "source": [
    "df1=pd.DataFrame(violation_boro)\n",
    "\n",
    "def normalization(value):\n",
    "    \n",
    "    return (value/frequency)\n",
    "\n",
    "Final_Violation_Boro = violation_boro.apply(normalization)\n",
    "Final_Violation_Boro_max=Final_Violation_Boro.max()\n",
    "Final_Violation_Boro_new=Final_Violation_Boro.idxmax()\n",
    "Output=pd.concat([Final_Violation_Boro_max,Final_Violation_Boro_new],axis=1)\n",
    "print(\"The most common violation description for each borough\"+\"\\n\",Output)\n"
   ]
  },
  {
   "cell_type": "markdown",
   "id": "c088412e",
   "metadata": {},
   "source": [
    "<b>Q.13.How many phone area codes correspond to a single zipcode?<b\\>\n",
    "\n",
    "The first three digits of the restaurant phone numbers are their area codes. The area codes do not generally align with zip codes, but some area codes are only for a single zip code. You must figure out how many area\n",
    "codes have this property.•To extract the first 3 characters of the phone number, recall that strings\n",
    "are pretty similar to lists.\n",
    "   "
   ]
  },
  {
   "cell_type": "code",
   "execution_count": 20,
   "id": "d225705c",
   "metadata": {},
   "outputs": [
    {
     "name": "stdout",
     "output_type": "stream",
     "text": [
      "Number of area codes having required property:  34\n"
     ]
    }
   ],
   "source": [
    "\n",
    "df['Area_code'] = df['PHONE'].apply(lambda x : x[0:3])\n",
    "area_zip = df.drop_duplicates(subset = ['ZIPCODE','Area_code'])[['ZIPCODE','Area_code']]\n",
    "area_zip= area_zip.groupby(['Area_code'],as_index = False)['ZIPCODE'].count()\n",
    "single_area_zip=len(area_zip[area_zip['ZIPCODE'] == 1])\n",
    "print ('Number of area codes having required property: ',single_area_zip)"
   ]
  },
  {
   "cell_type": "markdown",
   "id": "dbe73e0f",
   "metadata": {},
   "source": [
    "<b>Q.14.Find common misspellings of street names<b\\>\n",
    "\n",
    "Some-times, it’s Avenue, and sometimes, it’s Ave. We will try to come up with an automated way to find common misspellings. The idea is the following: if Ave and Avenue are the same, they should show up often in similar-sounding street names, e.g., Lexington Ave and Lexington Avenue. •Create a new column, called  STREET TYPE, which is the the last word in the name of the street. For example, if the street is “Astoria Boule-vard”, the street type should be “Boulevard”. •Create another column, called STREET BASE, which contains everything but the last word in the name of the street. For example, if the street is “Astoria Boulevard”, the street base should be “Astoria”. •Create a third column, called STREET BASE & ZIP, that combines the street base and the zipcode. •Create a table containing just these three columns, and remove any duplicates or instances where street base is empty. This table now\n",
    "contains unique street names, along with the street type. •Merge this table with itself, on the STREET BASE & ZIP column. Thus, in the new merged tabled, we will have two STREET TYPE fields for each street base and zipcode. For example, if both Lexington Ave and Lexington Avenue exist in the same zipcode, we will get a row for the street base Lexington and the two street types Ave and Avenue.  •From the merged table, select only the rows where the street types are different. •Now, do a cross-tabulation of the two distinct street types (check out\n",
    "the crosstab function in Pandas). This gives us the number of times Ave and Avenue were used with the same STREET BASE & ZIP.•From this cross-tabulation table, find the most commonly street type that occurs with each of the following: AVE, ST, RD, PL, BOULEARD,\n",
    "and BULEVARD."
   ]
  },
  {
   "cell_type": "code",
   "execution_count": 21,
   "id": "6a51f1aa",
   "metadata": {},
   "outputs": [
    {
     "data": {
      "text/plain": [
       "0       AVENUE\n",
       "1       AVENUE\n",
       "2       AVENUE\n",
       "3       AVENUE\n",
       "4       AVENUE\n",
       "5         ROAD\n",
       "6         ROAD\n",
       "7         ROAD\n",
       "8         ROAD\n",
       "9    BOULEVARD\n",
       "Name: STREET TYPE, dtype: object"
      ]
     },
     "execution_count": 21,
     "metadata": {},
     "output_type": "execute_result"
    }
   ],
   "source": [
    " df[\"STREET TYPE\"] = df[\"STREET\"].str.split().str[-1]\n",
    " df[\"STREET TYPE\"][:10]   "
   ]
  },
  {
   "cell_type": "code",
   "execution_count": 27,
   "id": "6b4429ef",
   "metadata": {},
   "outputs": [
    {
     "data": {
      "text/plain": [
       "0    FLATBUSH\n",
       "1    FLATBUSH\n",
       "2    FLATBUSH\n",
       "3    FLATBUSH\n",
       "4    FLATBUSH\n",
       "5          63\n",
       "6          63\n",
       "7          63\n",
       "8          63\n",
       "9     ASTORIA\n",
       "Name: STREET BASE, dtype: object"
      ]
     },
     "execution_count": 27,
     "metadata": {},
     "output_type": "execute_result"
    }
   ],
   "source": [
    "df[\"STREET BASE\"] = df[\"STREET\"].str.rsplit(' ',1).str[0]\n",
    "df[\"STREET BASE\"][:10]\n",
    "\n"
   ]
  },
  {
   "cell_type": "code",
   "execution_count": 40,
   "id": "8882b37f",
   "metadata": {},
   "outputs": [
    {
     "data": {
      "text/plain": [
       "0    FLATBUSH 11225\n",
       "1    FLATBUSH 11225\n",
       "2    FLATBUSH 11225\n",
       "3    FLATBUSH 11225\n",
       "4    FLATBUSH 11225\n",
       "5          63 11374\n",
       "6          63 11374\n",
       "7          63 11374\n",
       "8          63 11374\n",
       "9     ASTORIA 11369\n",
       "Name: STREET BASE & ZIP, dtype: object"
      ]
     },
     "execution_count": 40,
     "metadata": {},
     "output_type": "execute_result"
    }
   ],
   "source": [
    "df[\"STREET BASE & ZIP\"]=df[\"STREET BASE\"]+\" \"+df[\"ZIPCODE\"]\n",
    "df[\"STREET BASE & ZIP\"][:10]"
   ]
  },
  {
   "cell_type": "code",
   "execution_count": 42,
   "id": "0cf89c13",
   "metadata": {},
   "outputs": [
    {
     "data": {
      "text/html": [
       "<div>\n",
       "<style scoped>\n",
       "    .dataframe tbody tr th:only-of-type {\n",
       "        vertical-align: middle;\n",
       "    }\n",
       "\n",
       "    .dataframe tbody tr th {\n",
       "        vertical-align: top;\n",
       "    }\n",
       "\n",
       "    .dataframe thead th {\n",
       "        text-align: right;\n",
       "    }\n",
       "</style>\n",
       "<table border=\"1\" class=\"dataframe\">\n",
       "  <thead>\n",
       "    <tr style=\"text-align: right;\">\n",
       "      <th></th>\n",
       "      <th>STREET TYPE</th>\n",
       "      <th>STREET BASE</th>\n",
       "      <th>STREET BASE &amp; ZIP</th>\n",
       "    </tr>\n",
       "  </thead>\n",
       "  <tbody>\n",
       "    <tr>\n",
       "      <th>0</th>\n",
       "      <td>AVENUE</td>\n",
       "      <td>FLATBUSH</td>\n",
       "      <td>FLATBUSH 11225</td>\n",
       "    </tr>\n",
       "    <tr>\n",
       "      <th>5</th>\n",
       "      <td>ROAD</td>\n",
       "      <td>63</td>\n",
       "      <td>63 11374</td>\n",
       "    </tr>\n",
       "    <tr>\n",
       "      <th>9</th>\n",
       "      <td>BOULEVARD</td>\n",
       "      <td>ASTORIA</td>\n",
       "      <td>ASTORIA 11369</td>\n",
       "    </tr>\n",
       "    <tr>\n",
       "      <th>16</th>\n",
       "      <td>AVENUE</td>\n",
       "      <td>SUTTER</td>\n",
       "      <td>SUTTER 11208</td>\n",
       "    </tr>\n",
       "    <tr>\n",
       "      <th>22</th>\n",
       "      <td>HIGHWAY</td>\n",
       "      <td>KINGS</td>\n",
       "      <td>KINGS 11223</td>\n",
       "    </tr>\n",
       "    <tr>\n",
       "      <th>...</th>\n",
       "      <td>...</td>\n",
       "      <td>...</td>\n",
       "      <td>...</td>\n",
       "    </tr>\n",
       "    <tr>\n",
       "      <th>44613</th>\n",
       "      <td>ST</td>\n",
       "      <td>9TH</td>\n",
       "      <td>9TH 11101</td>\n",
       "    </tr>\n",
       "    <tr>\n",
       "      <th>44617</th>\n",
       "      <td>AVE</td>\n",
       "      <td>ROGERS</td>\n",
       "      <td>ROGERS 11216</td>\n",
       "    </tr>\n",
       "    <tr>\n",
       "      <th>44618</th>\n",
       "      <td>AVE</td>\n",
       "      <td>GRAND AVE</td>\n",
       "      <td>GRAND AVE                                     ...</td>\n",
       "    </tr>\n",
       "    <tr>\n",
       "      <th>44619</th>\n",
       "      <td>ST</td>\n",
       "      <td>E 48TH</td>\n",
       "      <td>E 48TH 10017</td>\n",
       "    </tr>\n",
       "    <tr>\n",
       "      <th>44629</th>\n",
       "      <td>ST</td>\n",
       "      <td>E 13TH</td>\n",
       "      <td>E 13TH 10009</td>\n",
       "    </tr>\n",
       "  </tbody>\n",
       "</table>\n",
       "<p>3872 rows × 3 columns</p>\n",
       "</div>"
      ],
      "text/plain": [
       "      STREET TYPE                                        STREET BASE  \\\n",
       "0          AVENUE                                           FLATBUSH   \n",
       "5            ROAD                                                 63   \n",
       "9       BOULEVARD                                            ASTORIA   \n",
       "16         AVENUE                                             SUTTER   \n",
       "22        HIGHWAY                                              KINGS   \n",
       "...           ...                                                ...   \n",
       "44613          ST                                                9TH   \n",
       "44617         AVE                                             ROGERS   \n",
       "44618         AVE  GRAND AVE                                           \n",
       "44619          ST                                             E 48TH   \n",
       "44629          ST                                             E 13TH   \n",
       "\n",
       "                                       STREET BASE & ZIP  \n",
       "0                                         FLATBUSH 11225  \n",
       "5                                               63 11374  \n",
       "9                                          ASTORIA 11369  \n",
       "16                                          SUTTER 11208  \n",
       "22                                           KINGS 11223  \n",
       "...                                                  ...  \n",
       "44613                                          9TH 11101  \n",
       "44617                                       ROGERS 11216  \n",
       "44618  GRAND AVE                                     ...  \n",
       "44619                                       E 48TH 10017  \n",
       "44629                                       E 13TH 10009  \n",
       "\n",
       "[3872 rows x 3 columns]"
      ]
     },
     "execution_count": 42,
     "metadata": {},
     "output_type": "execute_result"
    }
   ],
   "source": [
    "common_table = df[['STREET TYPE','STREET BASE','STREET BASE & ZIP']]\n",
    "common_table=common_table.drop_duplicates()\n",
    "common_table= common_table[common_table['STREET BASE']!='']\n",
    "\n",
    "common_table"
   ]
  },
  {
   "cell_type": "code",
   "execution_count": 43,
   "id": "0b360df2",
   "metadata": {},
   "outputs": [
    {
     "data": {
      "text/html": [
       "<div>\n",
       "<style scoped>\n",
       "    .dataframe tbody tr th:only-of-type {\n",
       "        vertical-align: middle;\n",
       "    }\n",
       "\n",
       "    .dataframe tbody tr th {\n",
       "        vertical-align: top;\n",
       "    }\n",
       "\n",
       "    .dataframe thead th {\n",
       "        text-align: right;\n",
       "    }\n",
       "</style>\n",
       "<table border=\"1\" class=\"dataframe\">\n",
       "  <thead>\n",
       "    <tr style=\"text-align: right;\">\n",
       "      <th></th>\n",
       "      <th>STREET TYPE_left</th>\n",
       "      <th>STREET BASE_left</th>\n",
       "      <th>STREET BASE &amp; ZIP</th>\n",
       "      <th>STREET TYPE_right</th>\n",
       "      <th>STREET BASE_right</th>\n",
       "    </tr>\n",
       "  </thead>\n",
       "  <tbody>\n",
       "    <tr>\n",
       "      <th>0</th>\n",
       "      <td>AVENUE</td>\n",
       "      <td>FLATBUSH</td>\n",
       "      <td>FLATBUSH 11225</td>\n",
       "      <td>AVENUE</td>\n",
       "      <td>FLATBUSH</td>\n",
       "    </tr>\n",
       "    <tr>\n",
       "      <th>1</th>\n",
       "      <td>ROAD</td>\n",
       "      <td>63</td>\n",
       "      <td>63 11374</td>\n",
       "      <td>ROAD</td>\n",
       "      <td>63</td>\n",
       "    </tr>\n",
       "    <tr>\n",
       "      <th>2</th>\n",
       "      <td>ROAD</td>\n",
       "      <td>63</td>\n",
       "      <td>63 11374</td>\n",
       "      <td>DRIVE</td>\n",
       "      <td>63</td>\n",
       "    </tr>\n",
       "    <tr>\n",
       "      <th>3</th>\n",
       "      <td>DRIVE</td>\n",
       "      <td>63</td>\n",
       "      <td>63 11374</td>\n",
       "      <td>ROAD</td>\n",
       "      <td>63</td>\n",
       "    </tr>\n",
       "    <tr>\n",
       "      <th>4</th>\n",
       "      <td>DRIVE</td>\n",
       "      <td>63</td>\n",
       "      <td>63 11374</td>\n",
       "      <td>DRIVE</td>\n",
       "      <td>63</td>\n",
       "    </tr>\n",
       "    <tr>\n",
       "      <th>...</th>\n",
       "      <td>...</td>\n",
       "      <td>...</td>\n",
       "      <td>...</td>\n",
       "      <td>...</td>\n",
       "      <td>...</td>\n",
       "    </tr>\n",
       "    <tr>\n",
       "      <th>4699</th>\n",
       "      <td>ST</td>\n",
       "      <td>9TH</td>\n",
       "      <td>9TH 11101</td>\n",
       "      <td>ST</td>\n",
       "      <td>9TH</td>\n",
       "    </tr>\n",
       "    <tr>\n",
       "      <th>4700</th>\n",
       "      <td>AVE</td>\n",
       "      <td>ROGERS</td>\n",
       "      <td>ROGERS 11216</td>\n",
       "      <td>AVE</td>\n",
       "      <td>ROGERS</td>\n",
       "    </tr>\n",
       "    <tr>\n",
       "      <th>4701</th>\n",
       "      <td>AVE</td>\n",
       "      <td>GRAND AVE</td>\n",
       "      <td>GRAND AVE                                     ...</td>\n",
       "      <td>AVE</td>\n",
       "      <td>GRAND AVE</td>\n",
       "    </tr>\n",
       "    <tr>\n",
       "      <th>4702</th>\n",
       "      <td>ST</td>\n",
       "      <td>E 48TH</td>\n",
       "      <td>E 48TH 10017</td>\n",
       "      <td>ST</td>\n",
       "      <td>E 48TH</td>\n",
       "    </tr>\n",
       "    <tr>\n",
       "      <th>4703</th>\n",
       "      <td>ST</td>\n",
       "      <td>E 13TH</td>\n",
       "      <td>E 13TH 10009</td>\n",
       "      <td>ST</td>\n",
       "      <td>E 13TH</td>\n",
       "    </tr>\n",
       "  </tbody>\n",
       "</table>\n",
       "<p>4704 rows × 5 columns</p>\n",
       "</div>"
      ],
      "text/plain": [
       "     STREET TYPE_left                                   STREET BASE_left  \\\n",
       "0              AVENUE                                           FLATBUSH   \n",
       "1                ROAD                                                 63   \n",
       "2                ROAD                                                 63   \n",
       "3               DRIVE                                                 63   \n",
       "4               DRIVE                                                 63   \n",
       "...               ...                                                ...   \n",
       "4699               ST                                                9TH   \n",
       "4700              AVE                                             ROGERS   \n",
       "4701              AVE  GRAND AVE                                           \n",
       "4702               ST                                             E 48TH   \n",
       "4703               ST                                             E 13TH   \n",
       "\n",
       "                                      STREET BASE & ZIP STREET TYPE_right  \\\n",
       "0                                        FLATBUSH 11225            AVENUE   \n",
       "1                                              63 11374              ROAD   \n",
       "2                                              63 11374             DRIVE   \n",
       "3                                              63 11374              ROAD   \n",
       "4                                              63 11374             DRIVE   \n",
       "...                                                 ...               ...   \n",
       "4699                                          9TH 11101                ST   \n",
       "4700                                       ROGERS 11216               AVE   \n",
       "4701  GRAND AVE                                     ...               AVE   \n",
       "4702                                       E 48TH 10017                ST   \n",
       "4703                                       E 13TH 10009                ST   \n",
       "\n",
       "                                      STREET BASE_right  \n",
       "0                                              FLATBUSH  \n",
       "1                                                    63  \n",
       "2                                                    63  \n",
       "3                                                    63  \n",
       "4                                                    63  \n",
       "...                                                 ...  \n",
       "4699                                                9TH  \n",
       "4700                                             ROGERS  \n",
       "4701  GRAND AVE                                          \n",
       "4702                                             E 48TH  \n",
       "4703                                             E 13TH  \n",
       "\n",
       "[4704 rows x 5 columns]"
      ]
     },
     "execution_count": 43,
     "metadata": {},
     "output_type": "execute_result"
    }
   ],
   "source": [
    "merged_table= common_table.merge(common_table,\n",
    "                                  left_on = 'STREET BASE & ZIP',\n",
    "                                  right_on = 'STREET BASE & ZIP',\n",
    "                                  suffixes= ['_left','_right'])\n",
    "merged_table"
   ]
  },
  {
   "cell_type": "code",
   "execution_count": 44,
   "id": "a71d45ee",
   "metadata": {},
   "outputs": [
    {
     "data": {
      "text/html": [
       "<div>\n",
       "<style scoped>\n",
       "    .dataframe tbody tr th:only-of-type {\n",
       "        vertical-align: middle;\n",
       "    }\n",
       "\n",
       "    .dataframe tbody tr th {\n",
       "        vertical-align: top;\n",
       "    }\n",
       "\n",
       "    .dataframe thead th {\n",
       "        text-align: right;\n",
       "    }\n",
       "</style>\n",
       "<table border=\"1\" class=\"dataframe\">\n",
       "  <thead>\n",
       "    <tr style=\"text-align: right;\">\n",
       "      <th></th>\n",
       "      <th>STREET TYPE_left</th>\n",
       "      <th>STREET BASE_left</th>\n",
       "      <th>STREET BASE &amp; ZIP</th>\n",
       "      <th>STREET TYPE_right</th>\n",
       "      <th>STREET BASE_right</th>\n",
       "    </tr>\n",
       "  </thead>\n",
       "  <tbody>\n",
       "    <tr>\n",
       "      <th>2</th>\n",
       "      <td>ROAD</td>\n",
       "      <td>63</td>\n",
       "      <td>63 11374</td>\n",
       "      <td>DRIVE</td>\n",
       "      <td>63</td>\n",
       "    </tr>\n",
       "    <tr>\n",
       "      <th>3</th>\n",
       "      <td>DRIVE</td>\n",
       "      <td>63</td>\n",
       "      <td>63 11374</td>\n",
       "      <td>ROAD</td>\n",
       "      <td>63</td>\n",
       "    </tr>\n",
       "    <tr>\n",
       "      <th>9</th>\n",
       "      <td>AVENUE</td>\n",
       "      <td>CHURCH</td>\n",
       "      <td>CHURCH 11218</td>\n",
       "      <td>AVE</td>\n",
       "      <td>CHURCH</td>\n",
       "    </tr>\n",
       "    <tr>\n",
       "      <th>10</th>\n",
       "      <td>AVE</td>\n",
       "      <td>CHURCH</td>\n",
       "      <td>CHURCH 11218</td>\n",
       "      <td>AVENUE</td>\n",
       "      <td>CHURCH</td>\n",
       "    </tr>\n",
       "    <tr>\n",
       "      <th>15</th>\n",
       "      <td>WEST</td>\n",
       "      <td>PROSPECT PARK</td>\n",
       "      <td>PROSPECT PARK 11215</td>\n",
       "      <td>W</td>\n",
       "      <td>PROSPECT PARK</td>\n",
       "    </tr>\n",
       "    <tr>\n",
       "      <th>...</th>\n",
       "      <td>...</td>\n",
       "      <td>...</td>\n",
       "      <td>...</td>\n",
       "      <td>...</td>\n",
       "      <td>...</td>\n",
       "    </tr>\n",
       "    <tr>\n",
       "      <th>4243</th>\n",
       "      <td>AVENUE</td>\n",
       "      <td>SAINT NICHOLAS</td>\n",
       "      <td>SAINT NICHOLAS 10040</td>\n",
       "      <td>AVE</td>\n",
       "      <td>SAINT NICHOLAS</td>\n",
       "    </tr>\n",
       "    <tr>\n",
       "      <th>4251</th>\n",
       "      <td>AVENUE</td>\n",
       "      <td>DITMAS</td>\n",
       "      <td>DITMAS 11218</td>\n",
       "      <td>AVE</td>\n",
       "      <td>DITMAS</td>\n",
       "    </tr>\n",
       "    <tr>\n",
       "      <th>4252</th>\n",
       "      <td>AVE</td>\n",
       "      <td>DITMAS</td>\n",
       "      <td>DITMAS 11218</td>\n",
       "      <td>AVENUE</td>\n",
       "      <td>DITMAS</td>\n",
       "    </tr>\n",
       "    <tr>\n",
       "      <th>4270</th>\n",
       "      <td>STREET</td>\n",
       "      <td>48</td>\n",
       "      <td>48 11101</td>\n",
       "      <td>AVENUE</td>\n",
       "      <td>48</td>\n",
       "    </tr>\n",
       "    <tr>\n",
       "      <th>4271</th>\n",
       "      <td>AVENUE</td>\n",
       "      <td>48</td>\n",
       "      <td>48 11101</td>\n",
       "      <td>STREET</td>\n",
       "      <td>48</td>\n",
       "    </tr>\n",
       "  </tbody>\n",
       "</table>\n",
       "<p>832 rows × 5 columns</p>\n",
       "</div>"
      ],
      "text/plain": [
       "     STREET TYPE_left STREET BASE_left     STREET BASE & ZIP  \\\n",
       "2                ROAD               63              63 11374   \n",
       "3               DRIVE               63              63 11374   \n",
       "9              AVENUE           CHURCH          CHURCH 11218   \n",
       "10                AVE           CHURCH          CHURCH 11218   \n",
       "15               WEST    PROSPECT PARK   PROSPECT PARK 11215   \n",
       "...               ...              ...                   ...   \n",
       "4243           AVENUE   SAINT NICHOLAS  SAINT NICHOLAS 10040   \n",
       "4251           AVENUE           DITMAS          DITMAS 11218   \n",
       "4252              AVE           DITMAS          DITMAS 11218   \n",
       "4270           STREET               48              48 11101   \n",
       "4271           AVENUE               48              48 11101   \n",
       "\n",
       "     STREET TYPE_right STREET BASE_right  \n",
       "2                DRIVE                63  \n",
       "3                 ROAD                63  \n",
       "9                  AVE            CHURCH  \n",
       "10              AVENUE            CHURCH  \n",
       "15                   W     PROSPECT PARK  \n",
       "...                ...               ...  \n",
       "4243               AVE    SAINT NICHOLAS  \n",
       "4251               AVE            DITMAS  \n",
       "4252            AVENUE            DITMAS  \n",
       "4270            AVENUE                48  \n",
       "4271            STREET                48  \n",
       "\n",
       "[832 rows x 5 columns]"
      ]
     },
     "execution_count": 44,
     "metadata": {},
     "output_type": "execute_result"
    }
   ],
   "source": [
    "merged_table= merged_table[merged_table['STREET TYPE_left']!=merged_table['STREET TYPE_right']]\n",
    "merged_table"
   ]
  },
  {
   "cell_type": "code",
   "execution_count": 46,
   "id": "40c3256b",
   "metadata": {},
   "outputs": [
    {
     "data": {
      "text/html": [
       "<div>\n",
       "<style scoped>\n",
       "    .dataframe tbody tr th:only-of-type {\n",
       "        vertical-align: middle;\n",
       "    }\n",
       "\n",
       "    .dataframe tbody tr th {\n",
       "        vertical-align: top;\n",
       "    }\n",
       "\n",
       "    .dataframe thead th {\n",
       "        text-align: right;\n",
       "    }\n",
       "</style>\n",
       "<table border=\"1\" class=\"dataframe\">\n",
       "  <thead>\n",
       "    <tr style=\"text-align: right;\">\n",
       "      <th>STREET TYPE_right</th>\n",
       "      <th>A</th>\n",
       "      <th>AAVENUE</th>\n",
       "      <th>AIRPORT</th>\n",
       "      <th>AVE</th>\n",
       "      <th>AVENUE</th>\n",
       "      <th>B</th>\n",
       "      <th>BLVD</th>\n",
       "      <th>BOULEARD</th>\n",
       "      <th>BOULEVARD</th>\n",
       "      <th>BULEVARD</th>\n",
       "      <th>...</th>\n",
       "      <th>STEINWAY</th>\n",
       "      <th>STREET</th>\n",
       "      <th>TERMINAL</th>\n",
       "      <th>TPKE</th>\n",
       "      <th>TURNPIKE</th>\n",
       "      <th>U</th>\n",
       "      <th>V</th>\n",
       "      <th>W</th>\n",
       "      <th>WEST</th>\n",
       "      <th>X</th>\n",
       "    </tr>\n",
       "    <tr>\n",
       "      <th>STREET TYPE_left</th>\n",
       "      <th></th>\n",
       "      <th></th>\n",
       "      <th></th>\n",
       "      <th></th>\n",
       "      <th></th>\n",
       "      <th></th>\n",
       "      <th></th>\n",
       "      <th></th>\n",
       "      <th></th>\n",
       "      <th></th>\n",
       "      <th></th>\n",
       "      <th></th>\n",
       "      <th></th>\n",
       "      <th></th>\n",
       "      <th></th>\n",
       "      <th></th>\n",
       "      <th></th>\n",
       "      <th></th>\n",
       "      <th></th>\n",
       "      <th></th>\n",
       "      <th></th>\n",
       "    </tr>\n",
       "  </thead>\n",
       "  <tbody>\n",
       "    <tr>\n",
       "      <th>A</th>\n",
       "      <td>0</td>\n",
       "      <td>0</td>\n",
       "      <td>0</td>\n",
       "      <td>0</td>\n",
       "      <td>0</td>\n",
       "      <td>2</td>\n",
       "      <td>0</td>\n",
       "      <td>0</td>\n",
       "      <td>0</td>\n",
       "      <td>0</td>\n",
       "      <td>...</td>\n",
       "      <td>0</td>\n",
       "      <td>0</td>\n",
       "      <td>0</td>\n",
       "      <td>0</td>\n",
       "      <td>0</td>\n",
       "      <td>0</td>\n",
       "      <td>0</td>\n",
       "      <td>0</td>\n",
       "      <td>0</td>\n",
       "      <td>0</td>\n",
       "    </tr>\n",
       "    <tr>\n",
       "      <th>AAVENUE</th>\n",
       "      <td>0</td>\n",
       "      <td>0</td>\n",
       "      <td>0</td>\n",
       "      <td>1</td>\n",
       "      <td>1</td>\n",
       "      <td>0</td>\n",
       "      <td>0</td>\n",
       "      <td>0</td>\n",
       "      <td>0</td>\n",
       "      <td>0</td>\n",
       "      <td>...</td>\n",
       "      <td>0</td>\n",
       "      <td>0</td>\n",
       "      <td>0</td>\n",
       "      <td>0</td>\n",
       "      <td>0</td>\n",
       "      <td>0</td>\n",
       "      <td>0</td>\n",
       "      <td>0</td>\n",
       "      <td>0</td>\n",
       "      <td>0</td>\n",
       "    </tr>\n",
       "    <tr>\n",
       "      <th>AIRPORT</th>\n",
       "      <td>0</td>\n",
       "      <td>0</td>\n",
       "      <td>0</td>\n",
       "      <td>0</td>\n",
       "      <td>0</td>\n",
       "      <td>0</td>\n",
       "      <td>0</td>\n",
       "      <td>0</td>\n",
       "      <td>0</td>\n",
       "      <td>0</td>\n",
       "      <td>...</td>\n",
       "      <td>0</td>\n",
       "      <td>0</td>\n",
       "      <td>0</td>\n",
       "      <td>0</td>\n",
       "      <td>0</td>\n",
       "      <td>0</td>\n",
       "      <td>0</td>\n",
       "      <td>0</td>\n",
       "      <td>0</td>\n",
       "      <td>0</td>\n",
       "    </tr>\n",
       "    <tr>\n",
       "      <th>AVE</th>\n",
       "      <td>0</td>\n",
       "      <td>1</td>\n",
       "      <td>0</td>\n",
       "      <td>0</td>\n",
       "      <td>152</td>\n",
       "      <td>0</td>\n",
       "      <td>0</td>\n",
       "      <td>0</td>\n",
       "      <td>0</td>\n",
       "      <td>0</td>\n",
       "      <td>...</td>\n",
       "      <td>0</td>\n",
       "      <td>0</td>\n",
       "      <td>0</td>\n",
       "      <td>0</td>\n",
       "      <td>0</td>\n",
       "      <td>0</td>\n",
       "      <td>0</td>\n",
       "      <td>0</td>\n",
       "      <td>0</td>\n",
       "      <td>0</td>\n",
       "    </tr>\n",
       "    <tr>\n",
       "      <th>AVENUE</th>\n",
       "      <td>0</td>\n",
       "      <td>1</td>\n",
       "      <td>0</td>\n",
       "      <td>152</td>\n",
       "      <td>0</td>\n",
       "      <td>0</td>\n",
       "      <td>0</td>\n",
       "      <td>0</td>\n",
       "      <td>0</td>\n",
       "      <td>0</td>\n",
       "      <td>...</td>\n",
       "      <td>0</td>\n",
       "      <td>11</td>\n",
       "      <td>0</td>\n",
       "      <td>0</td>\n",
       "      <td>0</td>\n",
       "      <td>0</td>\n",
       "      <td>0</td>\n",
       "      <td>0</td>\n",
       "      <td>0</td>\n",
       "      <td>0</td>\n",
       "    </tr>\n",
       "    <tr>\n",
       "      <th>...</th>\n",
       "      <td>...</td>\n",
       "      <td>...</td>\n",
       "      <td>...</td>\n",
       "      <td>...</td>\n",
       "      <td>...</td>\n",
       "      <td>...</td>\n",
       "      <td>...</td>\n",
       "      <td>...</td>\n",
       "      <td>...</td>\n",
       "      <td>...</td>\n",
       "      <td>...</td>\n",
       "      <td>...</td>\n",
       "      <td>...</td>\n",
       "      <td>...</td>\n",
       "      <td>...</td>\n",
       "      <td>...</td>\n",
       "      <td>...</td>\n",
       "      <td>...</td>\n",
       "      <td>...</td>\n",
       "      <td>...</td>\n",
       "      <td>...</td>\n",
       "    </tr>\n",
       "    <tr>\n",
       "      <th>U</th>\n",
       "      <td>0</td>\n",
       "      <td>0</td>\n",
       "      <td>0</td>\n",
       "      <td>0</td>\n",
       "      <td>0</td>\n",
       "      <td>0</td>\n",
       "      <td>0</td>\n",
       "      <td>0</td>\n",
       "      <td>0</td>\n",
       "      <td>0</td>\n",
       "      <td>...</td>\n",
       "      <td>0</td>\n",
       "      <td>0</td>\n",
       "      <td>0</td>\n",
       "      <td>0</td>\n",
       "      <td>0</td>\n",
       "      <td>0</td>\n",
       "      <td>1</td>\n",
       "      <td>0</td>\n",
       "      <td>0</td>\n",
       "      <td>1</td>\n",
       "    </tr>\n",
       "    <tr>\n",
       "      <th>V</th>\n",
       "      <td>0</td>\n",
       "      <td>0</td>\n",
       "      <td>0</td>\n",
       "      <td>0</td>\n",
       "      <td>0</td>\n",
       "      <td>0</td>\n",
       "      <td>0</td>\n",
       "      <td>0</td>\n",
       "      <td>0</td>\n",
       "      <td>0</td>\n",
       "      <td>...</td>\n",
       "      <td>0</td>\n",
       "      <td>0</td>\n",
       "      <td>0</td>\n",
       "      <td>0</td>\n",
       "      <td>0</td>\n",
       "      <td>1</td>\n",
       "      <td>0</td>\n",
       "      <td>0</td>\n",
       "      <td>0</td>\n",
       "      <td>0</td>\n",
       "    </tr>\n",
       "    <tr>\n",
       "      <th>W</th>\n",
       "      <td>0</td>\n",
       "      <td>0</td>\n",
       "      <td>0</td>\n",
       "      <td>0</td>\n",
       "      <td>0</td>\n",
       "      <td>0</td>\n",
       "      <td>0</td>\n",
       "      <td>0</td>\n",
       "      <td>0</td>\n",
       "      <td>0</td>\n",
       "      <td>...</td>\n",
       "      <td>0</td>\n",
       "      <td>0</td>\n",
       "      <td>0</td>\n",
       "      <td>0</td>\n",
       "      <td>0</td>\n",
       "      <td>0</td>\n",
       "      <td>0</td>\n",
       "      <td>0</td>\n",
       "      <td>1</td>\n",
       "      <td>0</td>\n",
       "    </tr>\n",
       "    <tr>\n",
       "      <th>WEST</th>\n",
       "      <td>0</td>\n",
       "      <td>0</td>\n",
       "      <td>0</td>\n",
       "      <td>0</td>\n",
       "      <td>0</td>\n",
       "      <td>0</td>\n",
       "      <td>0</td>\n",
       "      <td>0</td>\n",
       "      <td>0</td>\n",
       "      <td>0</td>\n",
       "      <td>...</td>\n",
       "      <td>0</td>\n",
       "      <td>0</td>\n",
       "      <td>0</td>\n",
       "      <td>0</td>\n",
       "      <td>0</td>\n",
       "      <td>0</td>\n",
       "      <td>0</td>\n",
       "      <td>1</td>\n",
       "      <td>0</td>\n",
       "      <td>0</td>\n",
       "    </tr>\n",
       "    <tr>\n",
       "      <th>X</th>\n",
       "      <td>0</td>\n",
       "      <td>0</td>\n",
       "      <td>0</td>\n",
       "      <td>0</td>\n",
       "      <td>0</td>\n",
       "      <td>0</td>\n",
       "      <td>0</td>\n",
       "      <td>0</td>\n",
       "      <td>0</td>\n",
       "      <td>0</td>\n",
       "      <td>...</td>\n",
       "      <td>0</td>\n",
       "      <td>0</td>\n",
       "      <td>0</td>\n",
       "      <td>0</td>\n",
       "      <td>0</td>\n",
       "      <td>1</td>\n",
       "      <td>0</td>\n",
       "      <td>0</td>\n",
       "      <td>0</td>\n",
       "      <td>0</td>\n",
       "    </tr>\n",
       "  </tbody>\n",
       "</table>\n",
       "<p>65 rows × 65 columns</p>\n",
       "</div>"
      ],
      "text/plain": [
       "STREET TYPE_right  A  AAVENUE  AIRPORT  AVE  AVENUE  B  BLVD  BOULEARD  \\\n",
       "STREET TYPE_left                                                         \n",
       "A                  0        0        0    0       0  2     0         0   \n",
       "AAVENUE            0        0        0    1       1  0     0         0   \n",
       "AIRPORT            0        0        0    0       0  0     0         0   \n",
       "AVE                0        1        0    0     152  0     0         0   \n",
       "AVENUE             0        1        0  152       0  0     0         0   \n",
       "...               ..      ...      ...  ...     ... ..   ...       ...   \n",
       "U                  0        0        0    0       0  0     0         0   \n",
       "V                  0        0        0    0       0  0     0         0   \n",
       "W                  0        0        0    0       0  0     0         0   \n",
       "WEST               0        0        0    0       0  0     0         0   \n",
       "X                  0        0        0    0       0  0     0         0   \n",
       "\n",
       "STREET TYPE_right  BOULEVARD  BULEVARD  ...  STEINWAY  STREET  TERMINAL  TPKE  \\\n",
       "STREET TYPE_left                        ...                                     \n",
       "A                          0         0  ...         0       0         0     0   \n",
       "AAVENUE                    0         0  ...         0       0         0     0   \n",
       "AIRPORT                    0         0  ...         0       0         0     0   \n",
       "AVE                        0         0  ...         0       0         0     0   \n",
       "AVENUE                     0         0  ...         0      11         0     0   \n",
       "...                      ...       ...  ...       ...     ...       ...   ...   \n",
       "U                          0         0  ...         0       0         0     0   \n",
       "V                          0         0  ...         0       0         0     0   \n",
       "W                          0         0  ...         0       0         0     0   \n",
       "WEST                       0         0  ...         0       0         0     0   \n",
       "X                          0         0  ...         0       0         0     0   \n",
       "\n",
       "STREET TYPE_right  TURNPIKE  U  V  W  WEST  X  \n",
       "STREET TYPE_left                               \n",
       "A                         0  0  0  0     0  0  \n",
       "AAVENUE                   0  0  0  0     0  0  \n",
       "AIRPORT                   0  0  0  0     0  0  \n",
       "AVE                       0  0  0  0     0  0  \n",
       "AVENUE                    0  0  0  0     0  0  \n",
       "...                     ... .. .. ..   ... ..  \n",
       "U                         0  0  1  0     0  1  \n",
       "V                         0  1  0  0     0  0  \n",
       "W                         0  0  0  0     1  0  \n",
       "WEST                      0  0  0  1     0  0  \n",
       "X                         0  1  0  0     0  0  \n",
       "\n",
       "[65 rows x 65 columns]"
      ]
     },
     "execution_count": 46,
     "metadata": {},
     "output_type": "execute_result"
    }
   ],
   "source": [
    "two_distinct_streets = pd.crosstab(merged_table['STREET TYPE_left'], merged_table['STREET TYPE_right'])\n",
    "two_distinct_streets"
   ]
  },
  {
   "cell_type": "code",
   "execution_count": 47,
   "id": "ebf8f702",
   "metadata": {},
   "outputs": [
    {
     "data": {
      "text/plain": [
       "STREET TYPE_right\n",
       "AVE         AVENUE\n",
       "ST          STREET\n",
       "RD            ROAD\n",
       "PL           PLACE\n",
       "BOULEARD      BLVD\n",
       "BULEVARD      BLVD\n",
       "dtype: object"
      ]
     },
     "execution_count": 47,
     "metadata": {},
     "output_type": "execute_result"
    }
   ],
   "source": [
    "two_distinct_streets.idxmax()[['AVE','ST','RD','PL','BOULEARD','BULEVARD']]"
   ]
  },
  {
   "cell_type": "code",
   "execution_count": null,
   "id": "bf519235",
   "metadata": {},
   "outputs": [],
   "source": []
  }
 ],
 "metadata": {
  "kernelspec": {
   "display_name": "Python 3 (ipykernel)",
   "language": "python",
   "name": "python3"
  },
  "language_info": {
   "codemirror_mode": {
    "name": "ipython",
    "version": 3
   },
   "file_extension": ".py",
   "mimetype": "text/x-python",
   "name": "python",
   "nbconvert_exporter": "python",
   "pygments_lexer": "ipython3",
   "version": "3.9.12"
  }
 },
 "nbformat": 4,
 "nbformat_minor": 5
}
